{
  "cells": [
    {
      "cell_type": "markdown",
      "metadata": {
        "id": "view-in-github",
        "colab_type": "text"
      },
      "source": [
        "<a href=\"https://colab.research.google.com/github/capricode-ui/AIML-Projects/blob/main/CosineSimilarity2.ipynb\" target=\"_parent\"><img src=\"https://colab.research.google.com/assets/colab-badge.svg\" alt=\"Open In Colab\"/></a>"
      ]
    },
    {
      "cell_type": "code",
      "execution_count": null,
      "metadata": {
        "id": "uFEuxnxSWN_M"
      },
      "outputs": [],
      "source": [
        "from transformers import AutoTokenizer, AutoModel\n",
        "import torch\n",
        "#Importing the tokenizer and model class from transformer library"
      ]
    },
    {
      "cell_type": "code",
      "execution_count": null,
      "metadata": {
        "colab": {
          "base_uri": "https://localhost:8080/",
          "height": 368,
          "referenced_widgets": [
            "39cfe73955664b65a06904342df58cf8",
            "45e4cf63d7c4458abc52a0bf2a09acb6",
            "7a3f683b9ede48c79a333122bdb2cb18",
            "852cec09760c4538922e8e05fd98f736",
            "d0920b1590a94b05bd237fe0a33c425b",
            "9e557e02f70b4f91bb310f23ccb2fda0",
            "fa45f480b9a34467a95ef013797e70bf",
            "86ab764e53104c4298f878910f44cbc0",
            "e0c5b3cd27ed462298101769c0815e0a",
            "ed00ffd21f494c49ab35416d68497793",
            "c79a6eeadd7e451c9fed35ce7d7004ec",
            "bc2dce90996642c6a0529be6ce17cccb",
            "29e405b4b4ec497489a9679587bb12f7",
            "2823de7d537f4a66acd154324a7899b7",
            "76428128a7a54caaac56496f245b5faa",
            "a6758014f60c434dbf970b2a7e3d5076",
            "3f217cece34b47ff8732ffe08f7c4f2b",
            "b3301afea5f64cf8be1489b6f20f60b8",
            "d7786cf28f804d3093c1482a86cb1590",
            "bb8b89c14aef49f6ad8384701d1955d5",
            "fba4c1005bde4c89a1685e877bb0a4dc",
            "7881427ecb354f0489b989157cb89549",
            "656b4d5a49ef44f68dfecba0a1dbb8c8",
            "cf24d0163d6a4feebc34f4e4514e3ccb",
            "cb7a10f9aee14be696744fa10bd0bbb2",
            "f8e8a246caf94461a070d861c1f543c0",
            "12800d0a4be84c4d8175797028ff663d",
            "97aa0ea0af4f4556b56e0c28523fc7f8",
            "9efccb31e81a48f9b5f1da8d11d9ad98",
            "647798d57de242af9e9b51b471ddbb09",
            "4ee6bebd616a4ae3889390fa1308ee68",
            "236752fb39114dd69692d026893211e4",
            "05074c849a0f47d7bb0353fe5d05aa45",
            "3e412982444542bba6ef3c8761f08422",
            "723019a75d63405c983f2f29354b7bb5",
            "ecbb7c5e99fe4979a292777ef21bfdc9",
            "3302e92e0279418b8c5cea9c7d53fa58",
            "2c192b6083a040dba2e3048536ec2943",
            "f89cdc3df3bd4e20a225c06fbd388d10",
            "33ad6835d3d7461188f31ba6f2bd7369",
            "0e2d4a09eb7c499da9f9f50cb7929ea1",
            "f3881949d39b4890ad0e59f073a86e67",
            "e125645954a14e949e88e3cf7462c71b",
            "cb4e7342f026486883b534a0a020f653",
            "d463ad3434f1462ca48fe6b00306450a",
            "f37988013d8345f8ad3e740dd1430257",
            "0b9688eef981439cb42cc680e21e3439",
            "7daa516203f04ccba44e9f14a31f68aa",
            "ae6a1e88aac74642b0bf52b925b45cd3",
            "160b7718954443f8a61960743891a4d8",
            "55654d547485496893d5c9059855eb9a",
            "aa9e82a432ca4b698c5efcc27a18f909",
            "de03ac0b38d94ab7af8fe263dcbb3739",
            "2cde6880ceec47778e3246a9b1c6d905",
            "baa6f382c5d748e5a811ae5a59635cb1",
            "c2f57d66545e4ba1aa9d3958b65281cc",
            "1537f90a3d4140b0a47466a78a90cb16",
            "1d0dc4f733a941269cb71e35adacf991",
            "d4300b9843a34e7bbac4d9dc21444ebe",
            "b2a7868b03724069b83a1af01a70279c",
            "0e6304a8186f4747a46d0fa3d608d80a",
            "88a76dbbb17f4e10847f6ced72d66d6a",
            "63d2389bf0584e339579795ede0555e0",
            "124d16e20e664c9c85f4bc07cc0aaa7a",
            "fdca08c83ea04f8eb3951323e324f673",
            "e648ac4521ca48dfa2f2bbc466e948a9"
          ]
        },
        "id": "of4gE3jLXKv9",
        "outputId": "526cf1bb-2f05-474d-d2cd-3780fcc8b6d7"
      },
      "outputs": [
        {
          "output_type": "stream",
          "name": "stderr",
          "text": [
            "/usr/local/lib/python3.10/dist-packages/huggingface_hub/utils/_token.py:88: UserWarning: \n",
            "The secret `HF_TOKEN` does not exist in your Colab secrets.\n",
            "To authenticate with the Hugging Face Hub, create a token in your settings tab (https://huggingface.co/settings/tokens), set it as secret in your Google Colab and restart your session.\n",
            "You will be able to reuse this secret in all of your notebooks.\n",
            "Please note that authentication is recommended but still optional to access public models or datasets.\n",
            "  warnings.warn(\n"
          ]
        },
        {
          "output_type": "display_data",
          "data": {
            "text/plain": [
              "tokenizer_config.json:   0%|          | 0.00/363 [00:00<?, ?B/s]"
            ],
            "application/vnd.jupyter.widget-view+json": {
              "version_major": 2,
              "version_minor": 0,
              "model_id": "39cfe73955664b65a06904342df58cf8"
            }
          },
          "metadata": {}
        },
        {
          "output_type": "display_data",
          "data": {
            "text/plain": [
              "vocab.txt:   0%|          | 0.00/232k [00:00<?, ?B/s]"
            ],
            "application/vnd.jupyter.widget-view+json": {
              "version_major": 2,
              "version_minor": 0,
              "model_id": "bc2dce90996642c6a0529be6ce17cccb"
            }
          },
          "metadata": {}
        },
        {
          "output_type": "display_data",
          "data": {
            "text/plain": [
              "tokenizer.json:   0%|          | 0.00/466k [00:00<?, ?B/s]"
            ],
            "application/vnd.jupyter.widget-view+json": {
              "version_major": 2,
              "version_minor": 0,
              "model_id": "656b4d5a49ef44f68dfecba0a1dbb8c8"
            }
          },
          "metadata": {}
        },
        {
          "output_type": "display_data",
          "data": {
            "text/plain": [
              "special_tokens_map.json:   0%|          | 0.00/239 [00:00<?, ?B/s]"
            ],
            "application/vnd.jupyter.widget-view+json": {
              "version_major": 2,
              "version_minor": 0,
              "model_id": "3e412982444542bba6ef3c8761f08422"
            }
          },
          "metadata": {}
        },
        {
          "output_type": "display_data",
          "data": {
            "text/plain": [
              "config.json:   0%|          | 0.00/571 [00:00<?, ?B/s]"
            ],
            "application/vnd.jupyter.widget-view+json": {
              "version_major": 2,
              "version_minor": 0,
              "model_id": "d463ad3434f1462ca48fe6b00306450a"
            }
          },
          "metadata": {}
        },
        {
          "output_type": "display_data",
          "data": {
            "text/plain": [
              "pytorch_model.bin:   0%|          | 0.00/438M [00:00<?, ?B/s]"
            ],
            "application/vnd.jupyter.widget-view+json": {
              "version_major": 2,
              "version_minor": 0,
              "model_id": "c2f57d66545e4ba1aa9d3958b65281cc"
            }
          },
          "metadata": {}
        },
        {
          "output_type": "stream",
          "name": "stderr",
          "text": [
            "/usr/local/lib/python3.10/dist-packages/torch/_utils.py:831: UserWarning: TypedStorage is deprecated. It will be removed in the future and UntypedStorage will be the only storage class. This should only matter to you if you are using storages directly.  To access UntypedStorage directly, use tensor.untyped_storage() instead of tensor.storage()\n",
            "  return self.fget.__get__(instance, owner)()\n"
          ]
        }
      ],
      "source": [
        "tokenizer = AutoTokenizer.from_pretrained('sentence-transformers/all-mpnet-base-v2')\n",
        "model = AutoModel.from_pretrained('sentence-transformers/all-mpnet-base-v2')\n",
        "#tokenizer and model was downloaded from hugging face"
      ]
    },
    {
      "cell_type": "code",
      "execution_count": null,
      "metadata": {
        "colab": {
          "base_uri": "https://localhost:8080/",
          "height": 176
        },
        "id": "95pt51zzXuTl",
        "outputId": "45c36ded-9b00-4591-dc85-cdbee3c0e07f"
      },
      "outputs": [
        {
          "output_type": "error",
          "ename": "NameError",
          "evalue": "name 'tokenizer' is not defined",
          "traceback": [
            "\u001b[0;31m---------------------------------------------------------------------------\u001b[0m",
            "\u001b[0;31mNameError\u001b[0m                                 Traceback (most recent call last)",
            "\u001b[0;32m<ipython-input-41-5a4c1fa55b73>\u001b[0m in \u001b[0;36m<cell line: 2>\u001b[0;34m()\u001b[0m\n\u001b[1;32m      1\u001b[0m \u001b[0mexample_sentence\u001b[0m \u001b[0;34m=\u001b[0m \u001b[0;34m'its a sunny morning'\u001b[0m\u001b[0;34m\u001b[0m\u001b[0;34m\u001b[0m\u001b[0m\n\u001b[0;32m----> 2\u001b[0;31m \u001b[0mexample_tokens\u001b[0m \u001b[0;34m=\u001b[0m \u001b[0mtokenizer\u001b[0m\u001b[0;34m.\u001b[0m\u001b[0mencode_plus\u001b[0m\u001b[0;34m(\u001b[0m\u001b[0mexample_sentence\u001b[0m\u001b[0;34m,\u001b[0m \u001b[0mmax_length\u001b[0m \u001b[0;34m=\u001b[0m \u001b[0;36m512\u001b[0m\u001b[0;34m,\u001b[0m \u001b[0mtruncation\u001b[0m \u001b[0;34m=\u001b[0m \u001b[0;32mTrue\u001b[0m\u001b[0;34m,\u001b[0m \u001b[0mpadding\u001b[0m \u001b[0;34m=\u001b[0m \u001b[0;34m'max_length'\u001b[0m\u001b[0;34m,\u001b[0m \u001b[0mreturn_tensors\u001b[0m \u001b[0;34m=\u001b[0m \u001b[0;34m'pt'\u001b[0m \u001b[0;34m)\u001b[0m\u001b[0;34m\u001b[0m\u001b[0;34m\u001b[0m\u001b[0m\n\u001b[0m\u001b[1;32m      3\u001b[0m \u001b[0mexample_tokens\u001b[0m\u001b[0;34m.\u001b[0m\u001b[0mkeys\u001b[0m\u001b[0;34m(\u001b[0m\u001b[0;34m)\u001b[0m\u001b[0;34m\u001b[0m\u001b[0;34m\u001b[0m\u001b[0m\n",
            "\u001b[0;31mNameError\u001b[0m: name 'tokenizer' is not defined"
          ]
        }
      ],
      "source": [
        "example_sentence = 'its a sunny morning'\n",
        "example_tokens = tokenizer.encode_plus(example_sentence, max_length = 512, truncation = True, padding = 'max_length', return_tensors = 'pt' )\n",
        "example_tokens.keys()\n",
        "#irrelevant to the overall code structure"
      ]
    },
    {
      "cell_type": "markdown",
      "source": [
        " Answers to a sample question in the dataset\n",
        "\n"
      ],
      "metadata": {
        "id": "O1pONZ-GW-Ww"
      }
    },
    {
      "cell_type": "code",
      "source": [
        "\"\"\"\n",
        "\n",
        "sentences = [\n",
        "\n",
        "             \"Dynamic scaling refers to the evolution of self-similar systems, where data obtained from snapshots at fixed times exhibits similarity to the respective data taken from snapshots of any earlier or later time. This similarity is tested by a certain time-dependent stochastic variable x.\",\"Dynamic scaling refers to the non-evolution of self-similar systems, where data obtained from snapshots at fixed times is similar to the respective data taken from snapshots of any earlier or later time. This similarity is tested by a certain time-dependent stochastic variable x.\",\"Dynamic scaling refers to the evolution of self-similar systems, where data obtained from snapshots at fixed times is dissimilar to the respective data taken from snapshots of any earlier or later time. This dissimilarity is tested by a certain time-independent stochastic variable y.\",\"Dynamic scaling refers to the non-evolution of self-similar systems, where data obtained from snapshots at fixed times is dissimilar to the respective data taken from snapshots of any earlier or later time. This dissimilarity is tested by a certain time-independent stochastic variable y.\",\"Dynamic scaling refers to the evolution of self-similar systems, where data obtained from snapshots at fixed times is independent of the respective data taken from snapshots of any earlier or later time. This independence is tested by a certain time-dependent stochastic variable z.\",\n",
        "\n",
        "]\n",
        "\n",
        "\n",
        "sentences=[\n",
        "    \"Regularizing the mass-energy of an electron with a finite radius can theoretically simplify calculations involving infinities or singularities, thereby providing explanations that would otherwise be impossible to achieve.\",\"Regularizing the mass-energy of an electron with an infinite radius allows for the breakdown of a theory that is valid under one set of conditions. This approach can be applied to other renormalization problems as well.,Regularizing the mass-energy of an electron with a finite radius is a means of demonstrating that a system below a certain size can be explained without the need for further calculations. This approach can be applied to other renormalization problems as well.\",\"Regularizing the mass-energy of an electron with an infinite radius can be used to provide a highly accurate description of a system under specific conditions. This approach can be transferred to other renormalization problems as well.\",\"Regularizing the mass-energy of an electron with an infinite radius is essential for explaining how a system below a certain size operates. This approach can be applied to other renormalization problems as well.\"\n",
        "]\n",
        "\n",
        "\"\"\"\n",
        "\n",
        "sentences=[\n",
        "    \"The triskeles symbol was reconstructed as a feminine divine triad by the rulers of Syracuse, and later adopted as an emblem. Its usage may also be related to the Greek name of Sicily, Trinacria, which means \"\"having three headlands.\"\" The head of Medusa at the center of the Sicilian triskeles represents the three headlands.\",\"The triskeles symbol is a representation of three interlinked spirals, which was adopted as an emblem by the rulers of Syracuse. Its usage in modern flags of Sicily has its origins in the ancient Greek name for the island, Trinacria, which means \"\"Sicily with three corners.\"\" The head of Medusa at the center is a representation of the island's rich cultural heritage.\",\"The triskeles symbol is a representation of a triple goddess, reconstructed by the rulers of Syracuse, who adopted it as an emblem. Its significance lies in the fact that it represents the Greek name for Sicily, Trinacria, which contains the element \"\"tria,\"\" meaning three. The head of Medusa at the center of the Sicilian triskeles represents the three headlands.\",\"The triskeles symbol represents three interlocked spiral arms, which became an emblem for the rulers of Syracuse. Its usage in modern flags of Sicily is due to the island's rich cultural heritage, which dates back to ancient times. The head of Medusa at the center represents the lasting influence of Greek mythology on Sicilian culture.\",\"The triskeles symbol is a representation of the Greek goddess Hecate, reconstructed by the rulers of Syracuse. Its adoption as an emblem was due to its cultural significance, as it represented the ancient Greek name for Sicily, Trinacria. The head of Medusa at the center of the Sicilian triskeles represents the island's central location in the Mediterranean.\"\n",
        "\n",
        "]\n",
        "#sentences which are to be processed for cosine similarity"
      ],
      "metadata": {
        "id": "CyNCE-YDSIZy"
      },
      "execution_count": null,
      "outputs": []
    },
    {
      "cell_type": "markdown",
      "metadata": {
        "id": "-actPEEuWNsY"
      },
      "source": []
    },
    {
      "cell_type": "code",
      "source": [
        "tokens = {'input_ids': [], 'attention_mask': [] }\n",
        "\n",
        "for sentence in sentences:\n",
        "    new_tokens = tokenizer.encode_plus(sentence, max_length = 512, truncation = True, padding = 'max_length', return_tensors = 'pt' )\n",
        "    tokens['input_ids'].append(new_tokens['input_ids'][0])\n",
        "    tokens['attention_mask'].append(new_tokens['attention_mask'][0])\n",
        "\n",
        "# restructure a list of tensors into single tensor\n",
        "tokens['input_ids'] = torch.stack(tokens['input_ids'])\n",
        "tokens['attention_mask'] = torch.stack(tokens['attention_mask'])"
      ],
      "metadata": {
        "id": "OGZemuoX_X3V"
      },
      "execution_count": null,
      "outputs": []
    },
    {
      "cell_type": "code",
      "source": [
        "tokens['attention_mask']"
      ],
      "metadata": {
        "colab": {
          "base_uri": "https://localhost:8080/"
        },
        "id": "BJF23LbIAdT8",
        "outputId": "41d1c14f-237d-4915-94b7-52023e7ca928"
      },
      "execution_count": null,
      "outputs": [
        {
          "output_type": "execute_result",
          "data": {
            "text/plain": [
              "tensor([[1, 1, 1,  ..., 0, 0, 0],\n",
              "        [1, 1, 1,  ..., 0, 0, 0],\n",
              "        [1, 1, 1,  ..., 0, 0, 0],\n",
              "        [1, 1, 1,  ..., 0, 0, 0],\n",
              "        [1, 1, 1,  ..., 0, 0, 0]])"
            ]
          },
          "metadata": {},
          "execution_count": 8
        }
      ]
    },
    {
      "cell_type": "code",
      "source": [
        "outputs = model(**tokens)\n",
        "outputs"
      ],
      "metadata": {
        "colab": {
          "base_uri": "https://localhost:8080/"
        },
        "id": "eOJMahntAgWN",
        "outputId": "19d6aca0-ea1e-4d69-be5d-aaebd615289e"
      },
      "execution_count": null,
      "outputs": [
        {
          "output_type": "execute_result",
          "data": {
            "text/plain": [
              "BaseModelOutputWithPooling(last_hidden_state=tensor([[[ 8.1261e-02, -3.8535e-01, -1.1094e-01,  ...,  2.2897e-02,\n",
              "           8.0473e-02, -3.6694e-02],\n",
              "         [ 1.4462e-01, -6.2237e-01, -2.0745e-01,  ..., -3.2335e-02,\n",
              "           8.0157e-02,  5.4949e-02],\n",
              "         [ 1.2681e-01, -8.3219e-01, -5.6564e-02,  ...,  1.3216e-01,\n",
              "           2.5443e-02,  6.9835e-02],\n",
              "         ...,\n",
              "         [ 1.1222e-01, -3.1861e-01, -1.1745e-01,  ...,  1.1792e-02,\n",
              "           7.6605e-02,  8.6306e-03],\n",
              "         [ 1.1222e-01, -3.1861e-01, -1.1745e-01,  ...,  1.1792e-02,\n",
              "           7.6605e-02,  8.6306e-03],\n",
              "         [ 1.1222e-01, -3.1861e-01, -1.1745e-01,  ...,  1.1792e-02,\n",
              "           7.6605e-02,  8.6306e-03]],\n",
              "\n",
              "        [[ 1.1109e-01, -3.8754e-01, -7.4494e-02,  ...,  1.4285e-02,\n",
              "           6.9957e-02,  6.5965e-03],\n",
              "         [ 1.8309e-01, -6.7927e-01, -1.5333e-01,  ...,  7.9888e-03,\n",
              "           6.7997e-02,  1.0110e-01],\n",
              "         [ 1.4960e-01, -8.2920e-01, -3.9345e-02,  ...,  1.4514e-01,\n",
              "           2.6434e-02,  7.9526e-02],\n",
              "         ...,\n",
              "         [ 1.1984e-01, -4.0382e-01, -8.4755e-02,  ..., -1.3906e-03,\n",
              "           4.3939e-02,  4.9043e-02],\n",
              "         [ 1.1984e-01, -4.0382e-01, -8.4755e-02,  ..., -1.3906e-03,\n",
              "           4.3939e-02,  4.9043e-02],\n",
              "         [ 1.1984e-01, -4.0382e-01, -8.4755e-02,  ..., -1.3906e-03,\n",
              "           4.3939e-02,  4.9043e-02]],\n",
              "\n",
              "        [[ 9.4915e-02, -3.7576e-01, -9.0805e-02,  ...,  5.0618e-02,\n",
              "           8.3154e-02, -1.8559e-02],\n",
              "         [ 1.8706e-01, -6.2385e-01, -1.9369e-01,  ...,  3.3598e-02,\n",
              "           4.3572e-02,  3.6652e-02],\n",
              "         [ 1.3289e-01, -7.8955e-01, -6.4954e-02,  ...,  1.4769e-01,\n",
              "           2.4107e-02,  5.2428e-02],\n",
              "         ...,\n",
              "         [ 1.0620e-01, -3.6054e-01, -9.4569e-02,  ...,  6.0495e-02,\n",
              "           3.7904e-02,  1.9937e-02],\n",
              "         [ 1.0620e-01, -3.6054e-01, -9.4569e-02,  ...,  6.0495e-02,\n",
              "           3.7904e-02,  1.9937e-02],\n",
              "         [ 1.0620e-01, -3.6054e-01, -9.4569e-02,  ...,  6.0495e-02,\n",
              "           3.7904e-02,  1.9937e-02]],\n",
              "\n",
              "        [[ 7.6049e-02, -3.9660e-01, -8.0918e-02,  ..., -4.0043e-03,\n",
              "           7.1954e-02, -2.0009e-03],\n",
              "         [ 2.0137e-01, -6.9227e-01, -1.8009e-01,  ..., -3.9769e-04,\n",
              "           6.1825e-02,  5.4864e-02],\n",
              "         [ 1.2337e-01, -8.9122e-01, -4.2253e-02,  ...,  1.2902e-01,\n",
              "           2.0575e-02,  6.9047e-02],\n",
              "         ...,\n",
              "         [ 6.8064e-02, -3.8088e-01, -1.0542e-01,  ..., -2.4098e-02,\n",
              "           3.9797e-02,  4.6113e-02],\n",
              "         [ 6.8064e-02, -3.8088e-01, -1.0542e-01,  ..., -2.4098e-02,\n",
              "           3.9797e-02,  4.6113e-02],\n",
              "         [ 6.8064e-02, -3.8088e-01, -1.0542e-01,  ..., -2.4098e-02,\n",
              "           3.9797e-02,  4.6113e-02]],\n",
              "\n",
              "        [[ 1.7270e-01, -3.4492e-01, -3.8864e-02,  ...,  4.2032e-02,\n",
              "           1.9586e-01,  2.5635e-02],\n",
              "         [ 2.2605e-01, -6.2341e-01, -1.7136e-01,  ...,  3.3742e-03,\n",
              "           7.3840e-02,  5.1563e-02],\n",
              "         [ 1.7907e-01, -8.5415e-01, -1.1076e-02,  ...,  1.3108e-01,\n",
              "           7.9892e-02,  1.0250e-01],\n",
              "         ...,\n",
              "         [ 1.6404e-01, -3.4792e-01, -5.6574e-02,  ...,  3.8834e-02,\n",
              "           1.1718e-01,  5.3760e-02],\n",
              "         [ 1.6404e-01, -3.4792e-01, -5.6574e-02,  ...,  3.8834e-02,\n",
              "           1.1718e-01,  5.3760e-02],\n",
              "         [ 1.6404e-01, -3.4792e-01, -5.6574e-02,  ...,  3.8834e-02,\n",
              "           1.1718e-01,  5.3760e-02]]], grad_fn=<NativeLayerNormBackward0>), pooler_output=tensor([[-0.0431,  0.0167,  0.0061,  ...,  0.0354,  0.0084,  0.0195],\n",
              "        [-0.0654,  0.0026,  0.0070,  ...,  0.0149,  0.0142, -0.0087],\n",
              "        [-0.0445,  0.0137,  0.0100,  ...,  0.0227, -0.0130,  0.0173],\n",
              "        [-0.0381,  0.0113,  0.0094,  ...,  0.0013, -0.0002,  0.0146],\n",
              "        [-0.0237,  0.0363, -0.0010,  ...,  0.0144,  0.0096,  0.0008]],\n",
              "       grad_fn=<TanhBackward0>), hidden_states=None, attentions=None)"
            ]
          },
          "metadata": {},
          "execution_count": 9
        }
      ]
    },
    {
      "cell_type": "code",
      "source": [
        "outputs.keys()"
      ],
      "metadata": {
        "id": "-FVARuH3AnF_",
        "colab": {
          "base_uri": "https://localhost:8080/"
        },
        "outputId": "acc2f9a9-6f6f-4986-b324-294723157420"
      },
      "execution_count": null,
      "outputs": [
        {
          "output_type": "execute_result",
          "data": {
            "text/plain": [
              "odict_keys(['last_hidden_state', 'pooler_output'])"
            ]
          },
          "metadata": {},
          "execution_count": 10
        }
      ]
    },
    {
      "cell_type": "code",
      "source": [
        "embeddings = outputs.last_hidden_state\n",
        "embeddings"
      ],
      "metadata": {
        "id": "uGNvC-yQAty9",
        "colab": {
          "base_uri": "https://localhost:8080/"
        },
        "outputId": "fcb7455f-f588-4cfd-8bb7-779b28f3d5d1"
      },
      "execution_count": null,
      "outputs": [
        {
          "output_type": "execute_result",
          "data": {
            "text/plain": [
              "tensor([[[ 8.1261e-02, -3.8535e-01, -1.1094e-01,  ...,  2.2897e-02,\n",
              "           8.0473e-02, -3.6694e-02],\n",
              "         [ 1.4462e-01, -6.2237e-01, -2.0745e-01,  ..., -3.2335e-02,\n",
              "           8.0157e-02,  5.4949e-02],\n",
              "         [ 1.2681e-01, -8.3219e-01, -5.6564e-02,  ...,  1.3216e-01,\n",
              "           2.5443e-02,  6.9835e-02],\n",
              "         ...,\n",
              "         [ 1.1222e-01, -3.1861e-01, -1.1745e-01,  ...,  1.1792e-02,\n",
              "           7.6605e-02,  8.6306e-03],\n",
              "         [ 1.1222e-01, -3.1861e-01, -1.1745e-01,  ...,  1.1792e-02,\n",
              "           7.6605e-02,  8.6306e-03],\n",
              "         [ 1.1222e-01, -3.1861e-01, -1.1745e-01,  ...,  1.1792e-02,\n",
              "           7.6605e-02,  8.6306e-03]],\n",
              "\n",
              "        [[ 1.1109e-01, -3.8754e-01, -7.4494e-02,  ...,  1.4285e-02,\n",
              "           6.9957e-02,  6.5965e-03],\n",
              "         [ 1.8309e-01, -6.7927e-01, -1.5333e-01,  ...,  7.9888e-03,\n",
              "           6.7997e-02,  1.0110e-01],\n",
              "         [ 1.4960e-01, -8.2920e-01, -3.9345e-02,  ...,  1.4514e-01,\n",
              "           2.6434e-02,  7.9526e-02],\n",
              "         ...,\n",
              "         [ 1.1984e-01, -4.0382e-01, -8.4755e-02,  ..., -1.3906e-03,\n",
              "           4.3939e-02,  4.9043e-02],\n",
              "         [ 1.1984e-01, -4.0382e-01, -8.4755e-02,  ..., -1.3906e-03,\n",
              "           4.3939e-02,  4.9043e-02],\n",
              "         [ 1.1984e-01, -4.0382e-01, -8.4755e-02,  ..., -1.3906e-03,\n",
              "           4.3939e-02,  4.9043e-02]],\n",
              "\n",
              "        [[ 9.4915e-02, -3.7576e-01, -9.0805e-02,  ...,  5.0618e-02,\n",
              "           8.3154e-02, -1.8559e-02],\n",
              "         [ 1.8706e-01, -6.2385e-01, -1.9369e-01,  ...,  3.3598e-02,\n",
              "           4.3572e-02,  3.6652e-02],\n",
              "         [ 1.3289e-01, -7.8955e-01, -6.4954e-02,  ...,  1.4769e-01,\n",
              "           2.4107e-02,  5.2428e-02],\n",
              "         ...,\n",
              "         [ 1.0620e-01, -3.6054e-01, -9.4569e-02,  ...,  6.0495e-02,\n",
              "           3.7904e-02,  1.9937e-02],\n",
              "         [ 1.0620e-01, -3.6054e-01, -9.4569e-02,  ...,  6.0495e-02,\n",
              "           3.7904e-02,  1.9937e-02],\n",
              "         [ 1.0620e-01, -3.6054e-01, -9.4569e-02,  ...,  6.0495e-02,\n",
              "           3.7904e-02,  1.9937e-02]],\n",
              "\n",
              "        [[ 7.6049e-02, -3.9660e-01, -8.0918e-02,  ..., -4.0043e-03,\n",
              "           7.1954e-02, -2.0009e-03],\n",
              "         [ 2.0137e-01, -6.9227e-01, -1.8009e-01,  ..., -3.9769e-04,\n",
              "           6.1825e-02,  5.4864e-02],\n",
              "         [ 1.2337e-01, -8.9122e-01, -4.2253e-02,  ...,  1.2902e-01,\n",
              "           2.0575e-02,  6.9047e-02],\n",
              "         ...,\n",
              "         [ 6.8064e-02, -3.8088e-01, -1.0542e-01,  ..., -2.4098e-02,\n",
              "           3.9797e-02,  4.6113e-02],\n",
              "         [ 6.8064e-02, -3.8088e-01, -1.0542e-01,  ..., -2.4098e-02,\n",
              "           3.9797e-02,  4.6113e-02],\n",
              "         [ 6.8064e-02, -3.8088e-01, -1.0542e-01,  ..., -2.4098e-02,\n",
              "           3.9797e-02,  4.6113e-02]],\n",
              "\n",
              "        [[ 1.7270e-01, -3.4492e-01, -3.8864e-02,  ...,  4.2032e-02,\n",
              "           1.9586e-01,  2.5635e-02],\n",
              "         [ 2.2605e-01, -6.2341e-01, -1.7136e-01,  ...,  3.3742e-03,\n",
              "           7.3840e-02,  5.1563e-02],\n",
              "         [ 1.7907e-01, -8.5415e-01, -1.1076e-02,  ...,  1.3108e-01,\n",
              "           7.9892e-02,  1.0250e-01],\n",
              "         ...,\n",
              "         [ 1.6404e-01, -3.4792e-01, -5.6574e-02,  ...,  3.8834e-02,\n",
              "           1.1718e-01,  5.3760e-02],\n",
              "         [ 1.6404e-01, -3.4792e-01, -5.6574e-02,  ...,  3.8834e-02,\n",
              "           1.1718e-01,  5.3760e-02],\n",
              "         [ 1.6404e-01, -3.4792e-01, -5.6574e-02,  ...,  3.8834e-02,\n",
              "           1.1718e-01,  5.3760e-02]]], grad_fn=<NativeLayerNormBackward0>)"
            ]
          },
          "metadata": {},
          "execution_count": 11
        }
      ]
    },
    {
      "cell_type": "code",
      "source": [
        "pooled = outputs.pooler_output\n",
        "pooled.shape"
      ],
      "metadata": {
        "colab": {
          "base_uri": "https://localhost:8080/"
        },
        "id": "IYZbedHFqGik",
        "outputId": "a8a080fc-3a74-4493-8cd5-a9fa010b57ba"
      },
      "execution_count": null,
      "outputs": [
        {
          "output_type": "execute_result",
          "data": {
            "text/plain": [
              "torch.Size([5, 768])"
            ]
          },
          "metadata": {},
          "execution_count": 20
        }
      ]
    },
    {
      "cell_type": "markdown",
      "source": [],
      "metadata": {
        "id": "8017ZwtyJAkv"
      }
    },
    {
      "cell_type": "code",
      "source": [
        "embeddings.shape"
      ],
      "metadata": {
        "colab": {
          "base_uri": "https://localhost:8080/"
        },
        "id": "i9buAeagA1Gs",
        "outputId": "c610cb08-996e-41a3-9f76-87afcc917074"
      },
      "execution_count": null,
      "outputs": [
        {
          "output_type": "execute_result",
          "data": {
            "text/plain": [
              "torch.Size([5, 512, 768])"
            ]
          },
          "metadata": {},
          "execution_count": 21
        }
      ]
    },
    {
      "cell_type": "code",
      "source": [
        "attention_mask = tokens['attention_mask']\n",
        "attention_mask.shape"
      ],
      "metadata": {
        "id": "GUghXXV7A-Jm",
        "colab": {
          "base_uri": "https://localhost:8080/"
        },
        "outputId": "bf5b87dc-9e98-470f-ef35-fe15159244d7"
      },
      "execution_count": null,
      "outputs": [
        {
          "output_type": "execute_result",
          "data": {
            "text/plain": [
              "torch.Size([5, 512])"
            ]
          },
          "metadata": {},
          "execution_count": 13
        }
      ]
    },
    {
      "cell_type": "code",
      "source": [
        "\n",
        "resized_attention_mask = attention_mask.unsqueeze(-1).expand(embeddings.size()).float()\n",
        "resized_attention_mask.shape"
      ],
      "metadata": {
        "id": "4e-IJKmxH95C",
        "colab": {
          "base_uri": "https://localhost:8080/"
        },
        "outputId": "604daaee-1eeb-468f-dae9-9efce4e45629"
      },
      "execution_count": null,
      "outputs": [
        {
          "output_type": "execute_result",
          "data": {
            "text/plain": [
              "torch.Size([5, 512, 768])"
            ]
          },
          "metadata": {},
          "execution_count": 14
        }
      ]
    },
    {
      "cell_type": "code",
      "source": [
        "resized_attention_mask"
      ],
      "metadata": {
        "id": "t_QiNeD-IAQ4",
        "colab": {
          "base_uri": "https://localhost:8080/"
        },
        "outputId": "f7a74ffe-e4bb-460e-e092-5443c54c2eeb"
      },
      "execution_count": null,
      "outputs": [
        {
          "output_type": "execute_result",
          "data": {
            "text/plain": [
              "tensor([[[1., 1., 1.,  ..., 1., 1., 1.],\n",
              "         [1., 1., 1.,  ..., 1., 1., 1.],\n",
              "         [1., 1., 1.,  ..., 1., 1., 1.],\n",
              "         ...,\n",
              "         [0., 0., 0.,  ..., 0., 0., 0.],\n",
              "         [0., 0., 0.,  ..., 0., 0., 0.],\n",
              "         [0., 0., 0.,  ..., 0., 0., 0.]],\n",
              "\n",
              "        [[1., 1., 1.,  ..., 1., 1., 1.],\n",
              "         [1., 1., 1.,  ..., 1., 1., 1.],\n",
              "         [1., 1., 1.,  ..., 1., 1., 1.],\n",
              "         ...,\n",
              "         [0., 0., 0.,  ..., 0., 0., 0.],\n",
              "         [0., 0., 0.,  ..., 0., 0., 0.],\n",
              "         [0., 0., 0.,  ..., 0., 0., 0.]],\n",
              "\n",
              "        [[1., 1., 1.,  ..., 1., 1., 1.],\n",
              "         [1., 1., 1.,  ..., 1., 1., 1.],\n",
              "         [1., 1., 1.,  ..., 1., 1., 1.],\n",
              "         ...,\n",
              "         [0., 0., 0.,  ..., 0., 0., 0.],\n",
              "         [0., 0., 0.,  ..., 0., 0., 0.],\n",
              "         [0., 0., 0.,  ..., 0., 0., 0.]],\n",
              "\n",
              "        [[1., 1., 1.,  ..., 1., 1., 1.],\n",
              "         [1., 1., 1.,  ..., 1., 1., 1.],\n",
              "         [1., 1., 1.,  ..., 1., 1., 1.],\n",
              "         ...,\n",
              "         [0., 0., 0.,  ..., 0., 0., 0.],\n",
              "         [0., 0., 0.,  ..., 0., 0., 0.],\n",
              "         [0., 0., 0.,  ..., 0., 0., 0.]],\n",
              "\n",
              "        [[1., 1., 1.,  ..., 1., 1., 1.],\n",
              "         [1., 1., 1.,  ..., 1., 1., 1.],\n",
              "         [1., 1., 1.,  ..., 1., 1., 1.],\n",
              "         ...,\n",
              "         [0., 0., 0.,  ..., 0., 0., 0.],\n",
              "         [0., 0., 0.,  ..., 0., 0., 0.],\n",
              "         [0., 0., 0.,  ..., 0., 0., 0.]]])"
            ]
          },
          "metadata": {},
          "execution_count": 15
        }
      ]
    },
    {
      "cell_type": "code",
      "source": [
        "\n",
        "resized_attention_mask[0][0].shape"
      ],
      "metadata": {
        "id": "E4C2ZzZ-IDQ4",
        "colab": {
          "base_uri": "https://localhost:8080/"
        },
        "outputId": "9695652c-f559-49f6-efcf-5238708e1298"
      },
      "execution_count": null,
      "outputs": [
        {
          "output_type": "execute_result",
          "data": {
            "text/plain": [
              "torch.Size([768])"
            ]
          },
          "metadata": {},
          "execution_count": 16
        }
      ]
    },
    {
      "cell_type": "code",
      "source": [
        "masked_embedding = embeddings * resized_attention_mask\n",
        "masked_embedding.shape"
      ],
      "metadata": {
        "id": "cSrd0ertIFEf",
        "colab": {
          "base_uri": "https://localhost:8080/"
        },
        "outputId": "9e9a836f-a5bc-481b-fbe9-c6df2187010c"
      },
      "execution_count": null,
      "outputs": [
        {
          "output_type": "execute_result",
          "data": {
            "text/plain": [
              "torch.Size([5, 512, 768])"
            ]
          },
          "metadata": {},
          "execution_count": 17
        }
      ]
    },
    {
      "cell_type": "code",
      "source": [
        "\n",
        "masked_embedding"
      ],
      "metadata": {
        "id": "kdWWENo9IGqD",
        "colab": {
          "base_uri": "https://localhost:8080/"
        },
        "outputId": "7111d678-50ed-4c34-ec7e-693a9032434c"
      },
      "execution_count": null,
      "outputs": [
        {
          "output_type": "execute_result",
          "data": {
            "text/plain": [
              "tensor([[[ 8.1261e-02, -3.8535e-01, -1.1094e-01,  ...,  2.2897e-02,\n",
              "           8.0473e-02, -3.6694e-02],\n",
              "         [ 1.4462e-01, -6.2237e-01, -2.0745e-01,  ..., -3.2335e-02,\n",
              "           8.0157e-02,  5.4949e-02],\n",
              "         [ 1.2681e-01, -8.3219e-01, -5.6564e-02,  ...,  1.3216e-01,\n",
              "           2.5443e-02,  6.9835e-02],\n",
              "         ...,\n",
              "         [ 0.0000e+00, -0.0000e+00, -0.0000e+00,  ...,  0.0000e+00,\n",
              "           0.0000e+00,  0.0000e+00],\n",
              "         [ 0.0000e+00, -0.0000e+00, -0.0000e+00,  ...,  0.0000e+00,\n",
              "           0.0000e+00,  0.0000e+00],\n",
              "         [ 0.0000e+00, -0.0000e+00, -0.0000e+00,  ...,  0.0000e+00,\n",
              "           0.0000e+00,  0.0000e+00]],\n",
              "\n",
              "        [[ 1.1109e-01, -3.8754e-01, -7.4494e-02,  ...,  1.4285e-02,\n",
              "           6.9957e-02,  6.5965e-03],\n",
              "         [ 1.8309e-01, -6.7927e-01, -1.5333e-01,  ...,  7.9888e-03,\n",
              "           6.7997e-02,  1.0110e-01],\n",
              "         [ 1.4960e-01, -8.2920e-01, -3.9345e-02,  ...,  1.4514e-01,\n",
              "           2.6434e-02,  7.9526e-02],\n",
              "         ...,\n",
              "         [ 0.0000e+00, -0.0000e+00, -0.0000e+00,  ..., -0.0000e+00,\n",
              "           0.0000e+00,  0.0000e+00],\n",
              "         [ 0.0000e+00, -0.0000e+00, -0.0000e+00,  ..., -0.0000e+00,\n",
              "           0.0000e+00,  0.0000e+00],\n",
              "         [ 0.0000e+00, -0.0000e+00, -0.0000e+00,  ..., -0.0000e+00,\n",
              "           0.0000e+00,  0.0000e+00]],\n",
              "\n",
              "        [[ 9.4915e-02, -3.7576e-01, -9.0805e-02,  ...,  5.0618e-02,\n",
              "           8.3154e-02, -1.8559e-02],\n",
              "         [ 1.8706e-01, -6.2385e-01, -1.9369e-01,  ...,  3.3598e-02,\n",
              "           4.3572e-02,  3.6652e-02],\n",
              "         [ 1.3289e-01, -7.8955e-01, -6.4954e-02,  ...,  1.4769e-01,\n",
              "           2.4107e-02,  5.2428e-02],\n",
              "         ...,\n",
              "         [ 0.0000e+00, -0.0000e+00, -0.0000e+00,  ...,  0.0000e+00,\n",
              "           0.0000e+00,  0.0000e+00],\n",
              "         [ 0.0000e+00, -0.0000e+00, -0.0000e+00,  ...,  0.0000e+00,\n",
              "           0.0000e+00,  0.0000e+00],\n",
              "         [ 0.0000e+00, -0.0000e+00, -0.0000e+00,  ...,  0.0000e+00,\n",
              "           0.0000e+00,  0.0000e+00]],\n",
              "\n",
              "        [[ 7.6049e-02, -3.9660e-01, -8.0918e-02,  ..., -4.0043e-03,\n",
              "           7.1954e-02, -2.0009e-03],\n",
              "         [ 2.0137e-01, -6.9227e-01, -1.8009e-01,  ..., -3.9769e-04,\n",
              "           6.1825e-02,  5.4864e-02],\n",
              "         [ 1.2337e-01, -8.9122e-01, -4.2253e-02,  ...,  1.2902e-01,\n",
              "           2.0575e-02,  6.9047e-02],\n",
              "         ...,\n",
              "         [ 0.0000e+00, -0.0000e+00, -0.0000e+00,  ..., -0.0000e+00,\n",
              "           0.0000e+00,  0.0000e+00],\n",
              "         [ 0.0000e+00, -0.0000e+00, -0.0000e+00,  ..., -0.0000e+00,\n",
              "           0.0000e+00,  0.0000e+00],\n",
              "         [ 0.0000e+00, -0.0000e+00, -0.0000e+00,  ..., -0.0000e+00,\n",
              "           0.0000e+00,  0.0000e+00]],\n",
              "\n",
              "        [[ 1.7270e-01, -3.4492e-01, -3.8864e-02,  ...,  4.2032e-02,\n",
              "           1.9586e-01,  2.5635e-02],\n",
              "         [ 2.2605e-01, -6.2341e-01, -1.7136e-01,  ...,  3.3742e-03,\n",
              "           7.3840e-02,  5.1563e-02],\n",
              "         [ 1.7907e-01, -8.5415e-01, -1.1076e-02,  ...,  1.3108e-01,\n",
              "           7.9892e-02,  1.0250e-01],\n",
              "         ...,\n",
              "         [ 0.0000e+00, -0.0000e+00, -0.0000e+00,  ...,  0.0000e+00,\n",
              "           0.0000e+00,  0.0000e+00],\n",
              "         [ 0.0000e+00, -0.0000e+00, -0.0000e+00,  ...,  0.0000e+00,\n",
              "           0.0000e+00,  0.0000e+00],\n",
              "         [ 0.0000e+00, -0.0000e+00, -0.0000e+00,  ...,  0.0000e+00,\n",
              "           0.0000e+00,  0.0000e+00]]], grad_fn=<MulBackward0>)"
            ]
          },
          "metadata": {},
          "execution_count": 18
        }
      ]
    },
    {
      "cell_type": "code",
      "source": [
        "summed_masked_embeddings = torch.sum(masked_embedding, 1)\n",
        "summed_masked_embeddings.shape"
      ],
      "metadata": {
        "id": "x64nEBo6IJoi",
        "colab": {
          "base_uri": "https://localhost:8080/"
        },
        "outputId": "90995b18-c6a3-4ed7-bd83-1b530aac5db6"
      },
      "execution_count": null,
      "outputs": [
        {
          "output_type": "execute_result",
          "data": {
            "text/plain": [
              "torch.Size([5, 768])"
            ]
          },
          "metadata": {},
          "execution_count": 19
        }
      ]
    },
    {
      "cell_type": "code",
      "source": [
        "\n",
        "summed_masked_embeddings"
      ],
      "metadata": {
        "id": "8ge59uMlILwy",
        "colab": {
          "base_uri": "https://localhost:8080/"
        },
        "outputId": "9907ec23-e997-4093-ce53-da6e034222ce"
      },
      "execution_count": null,
      "outputs": [
        {
          "output_type": "execute_result",
          "data": {
            "text/plain": [
              "tensor([[  8.9733, -30.1590,  -8.2105,  ...,   0.7942,   5.2706,   0.2227],\n",
              "        [ 10.7903, -35.7296,  -8.1999,  ...,  -2.2557,   4.4518,   2.4432],\n",
              "        [  9.8141, -33.1844,  -8.6742,  ...,   2.5165,   3.6744,   1.5743],\n",
              "        [  5.8534, -27.5625,  -7.6366,  ...,  -1.7102,   2.5608,   2.5240],\n",
              "        [ 11.0374, -29.8491,  -6.6267,  ...,   1.4834,   9.4139,   2.5497]],\n",
              "       grad_fn=<SumBackward1>)"
            ]
          },
          "metadata": {},
          "execution_count": 22
        }
      ]
    },
    {
      "cell_type": "code",
      "source": [
        "\n",
        "resized_attention_mask"
      ],
      "metadata": {
        "id": "ITlMLHOFINu8",
        "colab": {
          "base_uri": "https://localhost:8080/"
        },
        "outputId": "cab85f46-463e-4ad4-9315-b706a0b2db71"
      },
      "execution_count": null,
      "outputs": [
        {
          "output_type": "execute_result",
          "data": {
            "text/plain": [
              "tensor([[[1., 1., 1.,  ..., 1., 1., 1.],\n",
              "         [1., 1., 1.,  ..., 1., 1., 1.],\n",
              "         [1., 1., 1.,  ..., 1., 1., 1.],\n",
              "         ...,\n",
              "         [0., 0., 0.,  ..., 0., 0., 0.],\n",
              "         [0., 0., 0.,  ..., 0., 0., 0.],\n",
              "         [0., 0., 0.,  ..., 0., 0., 0.]],\n",
              "\n",
              "        [[1., 1., 1.,  ..., 1., 1., 1.],\n",
              "         [1., 1., 1.,  ..., 1., 1., 1.],\n",
              "         [1., 1., 1.,  ..., 1., 1., 1.],\n",
              "         ...,\n",
              "         [0., 0., 0.,  ..., 0., 0., 0.],\n",
              "         [0., 0., 0.,  ..., 0., 0., 0.],\n",
              "         [0., 0., 0.,  ..., 0., 0., 0.]],\n",
              "\n",
              "        [[1., 1., 1.,  ..., 1., 1., 1.],\n",
              "         [1., 1., 1.,  ..., 1., 1., 1.],\n",
              "         [1., 1., 1.,  ..., 1., 1., 1.],\n",
              "         ...,\n",
              "         [0., 0., 0.,  ..., 0., 0., 0.],\n",
              "         [0., 0., 0.,  ..., 0., 0., 0.],\n",
              "         [0., 0., 0.,  ..., 0., 0., 0.]],\n",
              "\n",
              "        [[1., 1., 1.,  ..., 1., 1., 1.],\n",
              "         [1., 1., 1.,  ..., 1., 1., 1.],\n",
              "         [1., 1., 1.,  ..., 1., 1., 1.],\n",
              "         ...,\n",
              "         [0., 0., 0.,  ..., 0., 0., 0.],\n",
              "         [0., 0., 0.,  ..., 0., 0., 0.],\n",
              "         [0., 0., 0.,  ..., 0., 0., 0.]],\n",
              "\n",
              "        [[1., 1., 1.,  ..., 1., 1., 1.],\n",
              "         [1., 1., 1.,  ..., 1., 1., 1.],\n",
              "         [1., 1., 1.,  ..., 1., 1., 1.],\n",
              "         ...,\n",
              "         [0., 0., 0.,  ..., 0., 0., 0.],\n",
              "         [0., 0., 0.,  ..., 0., 0., 0.],\n",
              "         [0., 0., 0.,  ..., 0., 0., 0.]]])"
            ]
          },
          "metadata": {},
          "execution_count": 23
        }
      ]
    },
    {
      "cell_type": "code",
      "source": [
        "count_of_one_in_mask_tensor = torch.clamp(resized_attention_mask.sum(1), min=1e-9 )\n",
        "\n",
        "count_of_one_in_mask_tensor.shape"
      ],
      "metadata": {
        "id": "nr_onLCWIQWn",
        "colab": {
          "base_uri": "https://localhost:8080/"
        },
        "outputId": "0ae9c1c6-e575-4bdf-9025-89362060e4cb"
      },
      "execution_count": null,
      "outputs": [
        {
          "output_type": "execute_result",
          "data": {
            "text/plain": [
              "torch.Size([5, 768])"
            ]
          },
          "metadata": {},
          "execution_count": 25
        }
      ]
    },
    {
      "cell_type": "code",
      "source": [
        "\n",
        "count_of_one_in_mask_tensor"
      ],
      "metadata": {
        "id": "rqHW-4a0ISC1",
        "colab": {
          "base_uri": "https://localhost:8080/"
        },
        "outputId": "0a224a85-939f-4caf-aa66-1b4ebc128f3d"
      },
      "execution_count": null,
      "outputs": [
        {
          "output_type": "execute_result",
          "data": {
            "text/plain": [
              "tensor([[71., 71., 71.,  ..., 71., 71., 71.],\n",
              "        [80., 80., 80.,  ..., 80., 80., 80.],\n",
              "        [78., 78., 78.,  ..., 78., 78., 78.],\n",
              "        [69., 69., 69.,  ..., 69., 69., 69.],\n",
              "        [75., 75., 75.,  ..., 75., 75., 75.]])"
            ]
          },
          "metadata": {},
          "execution_count": 26
        }
      ]
    },
    {
      "cell_type": "code",
      "source": [
        "\n",
        "summed_masked_embeddings.shape"
      ],
      "metadata": {
        "id": "uavDhRjaIUM0",
        "colab": {
          "base_uri": "https://localhost:8080/"
        },
        "outputId": "36093ad0-8811-45c0-c7cd-727f42772634"
      },
      "execution_count": null,
      "outputs": [
        {
          "output_type": "execute_result",
          "data": {
            "text/plain": [
              "torch.Size([5, 768])"
            ]
          },
          "metadata": {},
          "execution_count": 27
        }
      ]
    },
    {
      "cell_type": "code",
      "source": [
        "\n",
        "count_of_one_in_mask_tensor.shape"
      ],
      "metadata": {
        "id": "WxpNztK9IWU-",
        "colab": {
          "base_uri": "https://localhost:8080/"
        },
        "outputId": "1f335347-7548-4fef-ca7e-fb5cf189060d"
      },
      "execution_count": null,
      "outputs": [
        {
          "output_type": "execute_result",
          "data": {
            "text/plain": [
              "torch.Size([5, 768])"
            ]
          },
          "metadata": {},
          "execution_count": 28
        }
      ]
    },
    {
      "cell_type": "code",
      "source": [
        "mean_pooled = summed_masked_embeddings / count_of_one_in_mask_tensor"
      ],
      "metadata": {
        "id": "u3EcQhiIIYk-"
      },
      "execution_count": null,
      "outputs": []
    },
    {
      "cell_type": "code",
      "source": [
        "mean_pooled.shape"
      ],
      "metadata": {
        "id": "6El4iLTNIaF_",
        "colab": {
          "base_uri": "https://localhost:8080/"
        },
        "outputId": "60a81aac-8c0c-4b35-e10a-a51f1fa99099"
      },
      "execution_count": null,
      "outputs": [
        {
          "output_type": "execute_result",
          "data": {
            "text/plain": [
              "torch.Size([5, 768])"
            ]
          },
          "metadata": {},
          "execution_count": 30
        }
      ]
    },
    {
      "cell_type": "code",
      "source": [
        "from sklearn.metrics.pairwise import cosine_similarity\n",
        "\n",
        "mean_pooled = mean_pooled.detach().numpy()\n",
        "\n",
        "cosine_similarity([mean_pooled[0]], mean_pooled[1:] )"
      ],
      "metadata": {
        "id": "KKWPn_qXIcHl",
        "colab": {
          "base_uri": "https://localhost:8080/"
        },
        "outputId": "b4d1a8fb-a9e5-406b-c60c-0d9e29dd96cc"
      },
      "execution_count": null,
      "outputs": [
        {
          "output_type": "execute_result",
          "data": {
            "text/plain": [
              "array([[0.922446  , 0.9616895 , 0.89386415, 0.89291   ]], dtype=float32)"
            ]
          },
          "metadata": {},
          "execution_count": 31
        }
      ]
    }
  ],
  "metadata": {
    "colab": {
      "provenance": [],
      "include_colab_link": true
    },
    "kernelspec": {
      "display_name": "Python 3",
      "name": "python3"
    },
    "language_info": {
      "name": "python"
    },
    "widgets": {
      "application/vnd.jupyter.widget-state+json": {
        "39cfe73955664b65a06904342df58cf8": {
          "model_module": "@jupyter-widgets/controls",
          "model_name": "HBoxModel",
          "model_module_version": "1.5.0",
          "state": {
            "_dom_classes": [],
            "_model_module": "@jupyter-widgets/controls",
            "_model_module_version": "1.5.0",
            "_model_name": "HBoxModel",
            "_view_count": null,
            "_view_module": "@jupyter-widgets/controls",
            "_view_module_version": "1.5.0",
            "_view_name": "HBoxView",
            "box_style": "",
            "children": [
              "IPY_MODEL_45e4cf63d7c4458abc52a0bf2a09acb6",
              "IPY_MODEL_7a3f683b9ede48c79a333122bdb2cb18",
              "IPY_MODEL_852cec09760c4538922e8e05fd98f736"
            ],
            "layout": "IPY_MODEL_d0920b1590a94b05bd237fe0a33c425b"
          }
        },
        "45e4cf63d7c4458abc52a0bf2a09acb6": {
          "model_module": "@jupyter-widgets/controls",
          "model_name": "HTMLModel",
          "model_module_version": "1.5.0",
          "state": {
            "_dom_classes": [],
            "_model_module": "@jupyter-widgets/controls",
            "_model_module_version": "1.5.0",
            "_model_name": "HTMLModel",
            "_view_count": null,
            "_view_module": "@jupyter-widgets/controls",
            "_view_module_version": "1.5.0",
            "_view_name": "HTMLView",
            "description": "",
            "description_tooltip": null,
            "layout": "IPY_MODEL_9e557e02f70b4f91bb310f23ccb2fda0",
            "placeholder": "​",
            "style": "IPY_MODEL_fa45f480b9a34467a95ef013797e70bf",
            "value": "tokenizer_config.json: 100%"
          }
        },
        "7a3f683b9ede48c79a333122bdb2cb18": {
          "model_module": "@jupyter-widgets/controls",
          "model_name": "FloatProgressModel",
          "model_module_version": "1.5.0",
          "state": {
            "_dom_classes": [],
            "_model_module": "@jupyter-widgets/controls",
            "_model_module_version": "1.5.0",
            "_model_name": "FloatProgressModel",
            "_view_count": null,
            "_view_module": "@jupyter-widgets/controls",
            "_view_module_version": "1.5.0",
            "_view_name": "ProgressView",
            "bar_style": "success",
            "description": "",
            "description_tooltip": null,
            "layout": "IPY_MODEL_86ab764e53104c4298f878910f44cbc0",
            "max": 363,
            "min": 0,
            "orientation": "horizontal",
            "style": "IPY_MODEL_e0c5b3cd27ed462298101769c0815e0a",
            "value": 363
          }
        },
        "852cec09760c4538922e8e05fd98f736": {
          "model_module": "@jupyter-widgets/controls",
          "model_name": "HTMLModel",
          "model_module_version": "1.5.0",
          "state": {
            "_dom_classes": [],
            "_model_module": "@jupyter-widgets/controls",
            "_model_module_version": "1.5.0",
            "_model_name": "HTMLModel",
            "_view_count": null,
            "_view_module": "@jupyter-widgets/controls",
            "_view_module_version": "1.5.0",
            "_view_name": "HTMLView",
            "description": "",
            "description_tooltip": null,
            "layout": "IPY_MODEL_ed00ffd21f494c49ab35416d68497793",
            "placeholder": "​",
            "style": "IPY_MODEL_c79a6eeadd7e451c9fed35ce7d7004ec",
            "value": " 363/363 [00:00&lt;00:00, 5.83kB/s]"
          }
        },
        "d0920b1590a94b05bd237fe0a33c425b": {
          "model_module": "@jupyter-widgets/base",
          "model_name": "LayoutModel",
          "model_module_version": "1.2.0",
          "state": {
            "_model_module": "@jupyter-widgets/base",
            "_model_module_version": "1.2.0",
            "_model_name": "LayoutModel",
            "_view_count": null,
            "_view_module": "@jupyter-widgets/base",
            "_view_module_version": "1.2.0",
            "_view_name": "LayoutView",
            "align_content": null,
            "align_items": null,
            "align_self": null,
            "border": null,
            "bottom": null,
            "display": null,
            "flex": null,
            "flex_flow": null,
            "grid_area": null,
            "grid_auto_columns": null,
            "grid_auto_flow": null,
            "grid_auto_rows": null,
            "grid_column": null,
            "grid_gap": null,
            "grid_row": null,
            "grid_template_areas": null,
            "grid_template_columns": null,
            "grid_template_rows": null,
            "height": null,
            "justify_content": null,
            "justify_items": null,
            "left": null,
            "margin": null,
            "max_height": null,
            "max_width": null,
            "min_height": null,
            "min_width": null,
            "object_fit": null,
            "object_position": null,
            "order": null,
            "overflow": null,
            "overflow_x": null,
            "overflow_y": null,
            "padding": null,
            "right": null,
            "top": null,
            "visibility": null,
            "width": null
          }
        },
        "9e557e02f70b4f91bb310f23ccb2fda0": {
          "model_module": "@jupyter-widgets/base",
          "model_name": "LayoutModel",
          "model_module_version": "1.2.0",
          "state": {
            "_model_module": "@jupyter-widgets/base",
            "_model_module_version": "1.2.0",
            "_model_name": "LayoutModel",
            "_view_count": null,
            "_view_module": "@jupyter-widgets/base",
            "_view_module_version": "1.2.0",
            "_view_name": "LayoutView",
            "align_content": null,
            "align_items": null,
            "align_self": null,
            "border": null,
            "bottom": null,
            "display": null,
            "flex": null,
            "flex_flow": null,
            "grid_area": null,
            "grid_auto_columns": null,
            "grid_auto_flow": null,
            "grid_auto_rows": null,
            "grid_column": null,
            "grid_gap": null,
            "grid_row": null,
            "grid_template_areas": null,
            "grid_template_columns": null,
            "grid_template_rows": null,
            "height": null,
            "justify_content": null,
            "justify_items": null,
            "left": null,
            "margin": null,
            "max_height": null,
            "max_width": null,
            "min_height": null,
            "min_width": null,
            "object_fit": null,
            "object_position": null,
            "order": null,
            "overflow": null,
            "overflow_x": null,
            "overflow_y": null,
            "padding": null,
            "right": null,
            "top": null,
            "visibility": null,
            "width": null
          }
        },
        "fa45f480b9a34467a95ef013797e70bf": {
          "model_module": "@jupyter-widgets/controls",
          "model_name": "DescriptionStyleModel",
          "model_module_version": "1.5.0",
          "state": {
            "_model_module": "@jupyter-widgets/controls",
            "_model_module_version": "1.5.0",
            "_model_name": "DescriptionStyleModel",
            "_view_count": null,
            "_view_module": "@jupyter-widgets/base",
            "_view_module_version": "1.2.0",
            "_view_name": "StyleView",
            "description_width": ""
          }
        },
        "86ab764e53104c4298f878910f44cbc0": {
          "model_module": "@jupyter-widgets/base",
          "model_name": "LayoutModel",
          "model_module_version": "1.2.0",
          "state": {
            "_model_module": "@jupyter-widgets/base",
            "_model_module_version": "1.2.0",
            "_model_name": "LayoutModel",
            "_view_count": null,
            "_view_module": "@jupyter-widgets/base",
            "_view_module_version": "1.2.0",
            "_view_name": "LayoutView",
            "align_content": null,
            "align_items": null,
            "align_self": null,
            "border": null,
            "bottom": null,
            "display": null,
            "flex": null,
            "flex_flow": null,
            "grid_area": null,
            "grid_auto_columns": null,
            "grid_auto_flow": null,
            "grid_auto_rows": null,
            "grid_column": null,
            "grid_gap": null,
            "grid_row": null,
            "grid_template_areas": null,
            "grid_template_columns": null,
            "grid_template_rows": null,
            "height": null,
            "justify_content": null,
            "justify_items": null,
            "left": null,
            "margin": null,
            "max_height": null,
            "max_width": null,
            "min_height": null,
            "min_width": null,
            "object_fit": null,
            "object_position": null,
            "order": null,
            "overflow": null,
            "overflow_x": null,
            "overflow_y": null,
            "padding": null,
            "right": null,
            "top": null,
            "visibility": null,
            "width": null
          }
        },
        "e0c5b3cd27ed462298101769c0815e0a": {
          "model_module": "@jupyter-widgets/controls",
          "model_name": "ProgressStyleModel",
          "model_module_version": "1.5.0",
          "state": {
            "_model_module": "@jupyter-widgets/controls",
            "_model_module_version": "1.5.0",
            "_model_name": "ProgressStyleModel",
            "_view_count": null,
            "_view_module": "@jupyter-widgets/base",
            "_view_module_version": "1.2.0",
            "_view_name": "StyleView",
            "bar_color": null,
            "description_width": ""
          }
        },
        "ed00ffd21f494c49ab35416d68497793": {
          "model_module": "@jupyter-widgets/base",
          "model_name": "LayoutModel",
          "model_module_version": "1.2.0",
          "state": {
            "_model_module": "@jupyter-widgets/base",
            "_model_module_version": "1.2.0",
            "_model_name": "LayoutModel",
            "_view_count": null,
            "_view_module": "@jupyter-widgets/base",
            "_view_module_version": "1.2.0",
            "_view_name": "LayoutView",
            "align_content": null,
            "align_items": null,
            "align_self": null,
            "border": null,
            "bottom": null,
            "display": null,
            "flex": null,
            "flex_flow": null,
            "grid_area": null,
            "grid_auto_columns": null,
            "grid_auto_flow": null,
            "grid_auto_rows": null,
            "grid_column": null,
            "grid_gap": null,
            "grid_row": null,
            "grid_template_areas": null,
            "grid_template_columns": null,
            "grid_template_rows": null,
            "height": null,
            "justify_content": null,
            "justify_items": null,
            "left": null,
            "margin": null,
            "max_height": null,
            "max_width": null,
            "min_height": null,
            "min_width": null,
            "object_fit": null,
            "object_position": null,
            "order": null,
            "overflow": null,
            "overflow_x": null,
            "overflow_y": null,
            "padding": null,
            "right": null,
            "top": null,
            "visibility": null,
            "width": null
          }
        },
        "c79a6eeadd7e451c9fed35ce7d7004ec": {
          "model_module": "@jupyter-widgets/controls",
          "model_name": "DescriptionStyleModel",
          "model_module_version": "1.5.0",
          "state": {
            "_model_module": "@jupyter-widgets/controls",
            "_model_module_version": "1.5.0",
            "_model_name": "DescriptionStyleModel",
            "_view_count": null,
            "_view_module": "@jupyter-widgets/base",
            "_view_module_version": "1.2.0",
            "_view_name": "StyleView",
            "description_width": ""
          }
        },
        "bc2dce90996642c6a0529be6ce17cccb": {
          "model_module": "@jupyter-widgets/controls",
          "model_name": "HBoxModel",
          "model_module_version": "1.5.0",
          "state": {
            "_dom_classes": [],
            "_model_module": "@jupyter-widgets/controls",
            "_model_module_version": "1.5.0",
            "_model_name": "HBoxModel",
            "_view_count": null,
            "_view_module": "@jupyter-widgets/controls",
            "_view_module_version": "1.5.0",
            "_view_name": "HBoxView",
            "box_style": "",
            "children": [
              "IPY_MODEL_29e405b4b4ec497489a9679587bb12f7",
              "IPY_MODEL_2823de7d537f4a66acd154324a7899b7",
              "IPY_MODEL_76428128a7a54caaac56496f245b5faa"
            ],
            "layout": "IPY_MODEL_a6758014f60c434dbf970b2a7e3d5076"
          }
        },
        "29e405b4b4ec497489a9679587bb12f7": {
          "model_module": "@jupyter-widgets/controls",
          "model_name": "HTMLModel",
          "model_module_version": "1.5.0",
          "state": {
            "_dom_classes": [],
            "_model_module": "@jupyter-widgets/controls",
            "_model_module_version": "1.5.0",
            "_model_name": "HTMLModel",
            "_view_count": null,
            "_view_module": "@jupyter-widgets/controls",
            "_view_module_version": "1.5.0",
            "_view_name": "HTMLView",
            "description": "",
            "description_tooltip": null,
            "layout": "IPY_MODEL_3f217cece34b47ff8732ffe08f7c4f2b",
            "placeholder": "​",
            "style": "IPY_MODEL_b3301afea5f64cf8be1489b6f20f60b8",
            "value": "vocab.txt: 100%"
          }
        },
        "2823de7d537f4a66acd154324a7899b7": {
          "model_module": "@jupyter-widgets/controls",
          "model_name": "FloatProgressModel",
          "model_module_version": "1.5.0",
          "state": {
            "_dom_classes": [],
            "_model_module": "@jupyter-widgets/controls",
            "_model_module_version": "1.5.0",
            "_model_name": "FloatProgressModel",
            "_view_count": null,
            "_view_module": "@jupyter-widgets/controls",
            "_view_module_version": "1.5.0",
            "_view_name": "ProgressView",
            "bar_style": "success",
            "description": "",
            "description_tooltip": null,
            "layout": "IPY_MODEL_d7786cf28f804d3093c1482a86cb1590",
            "max": 231536,
            "min": 0,
            "orientation": "horizontal",
            "style": "IPY_MODEL_bb8b89c14aef49f6ad8384701d1955d5",
            "value": 231536
          }
        },
        "76428128a7a54caaac56496f245b5faa": {
          "model_module": "@jupyter-widgets/controls",
          "model_name": "HTMLModel",
          "model_module_version": "1.5.0",
          "state": {
            "_dom_classes": [],
            "_model_module": "@jupyter-widgets/controls",
            "_model_module_version": "1.5.0",
            "_model_name": "HTMLModel",
            "_view_count": null,
            "_view_module": "@jupyter-widgets/controls",
            "_view_module_version": "1.5.0",
            "_view_name": "HTMLView",
            "description": "",
            "description_tooltip": null,
            "layout": "IPY_MODEL_fba4c1005bde4c89a1685e877bb0a4dc",
            "placeholder": "​",
            "style": "IPY_MODEL_7881427ecb354f0489b989157cb89549",
            "value": " 232k/232k [00:00&lt;00:00, 3.06MB/s]"
          }
        },
        "a6758014f60c434dbf970b2a7e3d5076": {
          "model_module": "@jupyter-widgets/base",
          "model_name": "LayoutModel",
          "model_module_version": "1.2.0",
          "state": {
            "_model_module": "@jupyter-widgets/base",
            "_model_module_version": "1.2.0",
            "_model_name": "LayoutModel",
            "_view_count": null,
            "_view_module": "@jupyter-widgets/base",
            "_view_module_version": "1.2.0",
            "_view_name": "LayoutView",
            "align_content": null,
            "align_items": null,
            "align_self": null,
            "border": null,
            "bottom": null,
            "display": null,
            "flex": null,
            "flex_flow": null,
            "grid_area": null,
            "grid_auto_columns": null,
            "grid_auto_flow": null,
            "grid_auto_rows": null,
            "grid_column": null,
            "grid_gap": null,
            "grid_row": null,
            "grid_template_areas": null,
            "grid_template_columns": null,
            "grid_template_rows": null,
            "height": null,
            "justify_content": null,
            "justify_items": null,
            "left": null,
            "margin": null,
            "max_height": null,
            "max_width": null,
            "min_height": null,
            "min_width": null,
            "object_fit": null,
            "object_position": null,
            "order": null,
            "overflow": null,
            "overflow_x": null,
            "overflow_y": null,
            "padding": null,
            "right": null,
            "top": null,
            "visibility": null,
            "width": null
          }
        },
        "3f217cece34b47ff8732ffe08f7c4f2b": {
          "model_module": "@jupyter-widgets/base",
          "model_name": "LayoutModel",
          "model_module_version": "1.2.0",
          "state": {
            "_model_module": "@jupyter-widgets/base",
            "_model_module_version": "1.2.0",
            "_model_name": "LayoutModel",
            "_view_count": null,
            "_view_module": "@jupyter-widgets/base",
            "_view_module_version": "1.2.0",
            "_view_name": "LayoutView",
            "align_content": null,
            "align_items": null,
            "align_self": null,
            "border": null,
            "bottom": null,
            "display": null,
            "flex": null,
            "flex_flow": null,
            "grid_area": null,
            "grid_auto_columns": null,
            "grid_auto_flow": null,
            "grid_auto_rows": null,
            "grid_column": null,
            "grid_gap": null,
            "grid_row": null,
            "grid_template_areas": null,
            "grid_template_columns": null,
            "grid_template_rows": null,
            "height": null,
            "justify_content": null,
            "justify_items": null,
            "left": null,
            "margin": null,
            "max_height": null,
            "max_width": null,
            "min_height": null,
            "min_width": null,
            "object_fit": null,
            "object_position": null,
            "order": null,
            "overflow": null,
            "overflow_x": null,
            "overflow_y": null,
            "padding": null,
            "right": null,
            "top": null,
            "visibility": null,
            "width": null
          }
        },
        "b3301afea5f64cf8be1489b6f20f60b8": {
          "model_module": "@jupyter-widgets/controls",
          "model_name": "DescriptionStyleModel",
          "model_module_version": "1.5.0",
          "state": {
            "_model_module": "@jupyter-widgets/controls",
            "_model_module_version": "1.5.0",
            "_model_name": "DescriptionStyleModel",
            "_view_count": null,
            "_view_module": "@jupyter-widgets/base",
            "_view_module_version": "1.2.0",
            "_view_name": "StyleView",
            "description_width": ""
          }
        },
        "d7786cf28f804d3093c1482a86cb1590": {
          "model_module": "@jupyter-widgets/base",
          "model_name": "LayoutModel",
          "model_module_version": "1.2.0",
          "state": {
            "_model_module": "@jupyter-widgets/base",
            "_model_module_version": "1.2.0",
            "_model_name": "LayoutModel",
            "_view_count": null,
            "_view_module": "@jupyter-widgets/base",
            "_view_module_version": "1.2.0",
            "_view_name": "LayoutView",
            "align_content": null,
            "align_items": null,
            "align_self": null,
            "border": null,
            "bottom": null,
            "display": null,
            "flex": null,
            "flex_flow": null,
            "grid_area": null,
            "grid_auto_columns": null,
            "grid_auto_flow": null,
            "grid_auto_rows": null,
            "grid_column": null,
            "grid_gap": null,
            "grid_row": null,
            "grid_template_areas": null,
            "grid_template_columns": null,
            "grid_template_rows": null,
            "height": null,
            "justify_content": null,
            "justify_items": null,
            "left": null,
            "margin": null,
            "max_height": null,
            "max_width": null,
            "min_height": null,
            "min_width": null,
            "object_fit": null,
            "object_position": null,
            "order": null,
            "overflow": null,
            "overflow_x": null,
            "overflow_y": null,
            "padding": null,
            "right": null,
            "top": null,
            "visibility": null,
            "width": null
          }
        },
        "bb8b89c14aef49f6ad8384701d1955d5": {
          "model_module": "@jupyter-widgets/controls",
          "model_name": "ProgressStyleModel",
          "model_module_version": "1.5.0",
          "state": {
            "_model_module": "@jupyter-widgets/controls",
            "_model_module_version": "1.5.0",
            "_model_name": "ProgressStyleModel",
            "_view_count": null,
            "_view_module": "@jupyter-widgets/base",
            "_view_module_version": "1.2.0",
            "_view_name": "StyleView",
            "bar_color": null,
            "description_width": ""
          }
        },
        "fba4c1005bde4c89a1685e877bb0a4dc": {
          "model_module": "@jupyter-widgets/base",
          "model_name": "LayoutModel",
          "model_module_version": "1.2.0",
          "state": {
            "_model_module": "@jupyter-widgets/base",
            "_model_module_version": "1.2.0",
            "_model_name": "LayoutModel",
            "_view_count": null,
            "_view_module": "@jupyter-widgets/base",
            "_view_module_version": "1.2.0",
            "_view_name": "LayoutView",
            "align_content": null,
            "align_items": null,
            "align_self": null,
            "border": null,
            "bottom": null,
            "display": null,
            "flex": null,
            "flex_flow": null,
            "grid_area": null,
            "grid_auto_columns": null,
            "grid_auto_flow": null,
            "grid_auto_rows": null,
            "grid_column": null,
            "grid_gap": null,
            "grid_row": null,
            "grid_template_areas": null,
            "grid_template_columns": null,
            "grid_template_rows": null,
            "height": null,
            "justify_content": null,
            "justify_items": null,
            "left": null,
            "margin": null,
            "max_height": null,
            "max_width": null,
            "min_height": null,
            "min_width": null,
            "object_fit": null,
            "object_position": null,
            "order": null,
            "overflow": null,
            "overflow_x": null,
            "overflow_y": null,
            "padding": null,
            "right": null,
            "top": null,
            "visibility": null,
            "width": null
          }
        },
        "7881427ecb354f0489b989157cb89549": {
          "model_module": "@jupyter-widgets/controls",
          "model_name": "DescriptionStyleModel",
          "model_module_version": "1.5.0",
          "state": {
            "_model_module": "@jupyter-widgets/controls",
            "_model_module_version": "1.5.0",
            "_model_name": "DescriptionStyleModel",
            "_view_count": null,
            "_view_module": "@jupyter-widgets/base",
            "_view_module_version": "1.2.0",
            "_view_name": "StyleView",
            "description_width": ""
          }
        },
        "656b4d5a49ef44f68dfecba0a1dbb8c8": {
          "model_module": "@jupyter-widgets/controls",
          "model_name": "HBoxModel",
          "model_module_version": "1.5.0",
          "state": {
            "_dom_classes": [],
            "_model_module": "@jupyter-widgets/controls",
            "_model_module_version": "1.5.0",
            "_model_name": "HBoxModel",
            "_view_count": null,
            "_view_module": "@jupyter-widgets/controls",
            "_view_module_version": "1.5.0",
            "_view_name": "HBoxView",
            "box_style": "",
            "children": [
              "IPY_MODEL_cf24d0163d6a4feebc34f4e4514e3ccb",
              "IPY_MODEL_cb7a10f9aee14be696744fa10bd0bbb2",
              "IPY_MODEL_f8e8a246caf94461a070d861c1f543c0"
            ],
            "layout": "IPY_MODEL_12800d0a4be84c4d8175797028ff663d"
          }
        },
        "cf24d0163d6a4feebc34f4e4514e3ccb": {
          "model_module": "@jupyter-widgets/controls",
          "model_name": "HTMLModel",
          "model_module_version": "1.5.0",
          "state": {
            "_dom_classes": [],
            "_model_module": "@jupyter-widgets/controls",
            "_model_module_version": "1.5.0",
            "_model_name": "HTMLModel",
            "_view_count": null,
            "_view_module": "@jupyter-widgets/controls",
            "_view_module_version": "1.5.0",
            "_view_name": "HTMLView",
            "description": "",
            "description_tooltip": null,
            "layout": "IPY_MODEL_97aa0ea0af4f4556b56e0c28523fc7f8",
            "placeholder": "​",
            "style": "IPY_MODEL_9efccb31e81a48f9b5f1da8d11d9ad98",
            "value": "tokenizer.json: 100%"
          }
        },
        "cb7a10f9aee14be696744fa10bd0bbb2": {
          "model_module": "@jupyter-widgets/controls",
          "model_name": "FloatProgressModel",
          "model_module_version": "1.5.0",
          "state": {
            "_dom_classes": [],
            "_model_module": "@jupyter-widgets/controls",
            "_model_module_version": "1.5.0",
            "_model_name": "FloatProgressModel",
            "_view_count": null,
            "_view_module": "@jupyter-widgets/controls",
            "_view_module_version": "1.5.0",
            "_view_name": "ProgressView",
            "bar_style": "success",
            "description": "",
            "description_tooltip": null,
            "layout": "IPY_MODEL_647798d57de242af9e9b51b471ddbb09",
            "max": 466021,
            "min": 0,
            "orientation": "horizontal",
            "style": "IPY_MODEL_4ee6bebd616a4ae3889390fa1308ee68",
            "value": 466021
          }
        },
        "f8e8a246caf94461a070d861c1f543c0": {
          "model_module": "@jupyter-widgets/controls",
          "model_name": "HTMLModel",
          "model_module_version": "1.5.0",
          "state": {
            "_dom_classes": [],
            "_model_module": "@jupyter-widgets/controls",
            "_model_module_version": "1.5.0",
            "_model_name": "HTMLModel",
            "_view_count": null,
            "_view_module": "@jupyter-widgets/controls",
            "_view_module_version": "1.5.0",
            "_view_name": "HTMLView",
            "description": "",
            "description_tooltip": null,
            "layout": "IPY_MODEL_236752fb39114dd69692d026893211e4",
            "placeholder": "​",
            "style": "IPY_MODEL_05074c849a0f47d7bb0353fe5d05aa45",
            "value": " 466k/466k [00:00&lt;00:00, 3.92MB/s]"
          }
        },
        "12800d0a4be84c4d8175797028ff663d": {
          "model_module": "@jupyter-widgets/base",
          "model_name": "LayoutModel",
          "model_module_version": "1.2.0",
          "state": {
            "_model_module": "@jupyter-widgets/base",
            "_model_module_version": "1.2.0",
            "_model_name": "LayoutModel",
            "_view_count": null,
            "_view_module": "@jupyter-widgets/base",
            "_view_module_version": "1.2.0",
            "_view_name": "LayoutView",
            "align_content": null,
            "align_items": null,
            "align_self": null,
            "border": null,
            "bottom": null,
            "display": null,
            "flex": null,
            "flex_flow": null,
            "grid_area": null,
            "grid_auto_columns": null,
            "grid_auto_flow": null,
            "grid_auto_rows": null,
            "grid_column": null,
            "grid_gap": null,
            "grid_row": null,
            "grid_template_areas": null,
            "grid_template_columns": null,
            "grid_template_rows": null,
            "height": null,
            "justify_content": null,
            "justify_items": null,
            "left": null,
            "margin": null,
            "max_height": null,
            "max_width": null,
            "min_height": null,
            "min_width": null,
            "object_fit": null,
            "object_position": null,
            "order": null,
            "overflow": null,
            "overflow_x": null,
            "overflow_y": null,
            "padding": null,
            "right": null,
            "top": null,
            "visibility": null,
            "width": null
          }
        },
        "97aa0ea0af4f4556b56e0c28523fc7f8": {
          "model_module": "@jupyter-widgets/base",
          "model_name": "LayoutModel",
          "model_module_version": "1.2.0",
          "state": {
            "_model_module": "@jupyter-widgets/base",
            "_model_module_version": "1.2.0",
            "_model_name": "LayoutModel",
            "_view_count": null,
            "_view_module": "@jupyter-widgets/base",
            "_view_module_version": "1.2.0",
            "_view_name": "LayoutView",
            "align_content": null,
            "align_items": null,
            "align_self": null,
            "border": null,
            "bottom": null,
            "display": null,
            "flex": null,
            "flex_flow": null,
            "grid_area": null,
            "grid_auto_columns": null,
            "grid_auto_flow": null,
            "grid_auto_rows": null,
            "grid_column": null,
            "grid_gap": null,
            "grid_row": null,
            "grid_template_areas": null,
            "grid_template_columns": null,
            "grid_template_rows": null,
            "height": null,
            "justify_content": null,
            "justify_items": null,
            "left": null,
            "margin": null,
            "max_height": null,
            "max_width": null,
            "min_height": null,
            "min_width": null,
            "object_fit": null,
            "object_position": null,
            "order": null,
            "overflow": null,
            "overflow_x": null,
            "overflow_y": null,
            "padding": null,
            "right": null,
            "top": null,
            "visibility": null,
            "width": null
          }
        },
        "9efccb31e81a48f9b5f1da8d11d9ad98": {
          "model_module": "@jupyter-widgets/controls",
          "model_name": "DescriptionStyleModel",
          "model_module_version": "1.5.0",
          "state": {
            "_model_module": "@jupyter-widgets/controls",
            "_model_module_version": "1.5.0",
            "_model_name": "DescriptionStyleModel",
            "_view_count": null,
            "_view_module": "@jupyter-widgets/base",
            "_view_module_version": "1.2.0",
            "_view_name": "StyleView",
            "description_width": ""
          }
        },
        "647798d57de242af9e9b51b471ddbb09": {
          "model_module": "@jupyter-widgets/base",
          "model_name": "LayoutModel",
          "model_module_version": "1.2.0",
          "state": {
            "_model_module": "@jupyter-widgets/base",
            "_model_module_version": "1.2.0",
            "_model_name": "LayoutModel",
            "_view_count": null,
            "_view_module": "@jupyter-widgets/base",
            "_view_module_version": "1.2.0",
            "_view_name": "LayoutView",
            "align_content": null,
            "align_items": null,
            "align_self": null,
            "border": null,
            "bottom": null,
            "display": null,
            "flex": null,
            "flex_flow": null,
            "grid_area": null,
            "grid_auto_columns": null,
            "grid_auto_flow": null,
            "grid_auto_rows": null,
            "grid_column": null,
            "grid_gap": null,
            "grid_row": null,
            "grid_template_areas": null,
            "grid_template_columns": null,
            "grid_template_rows": null,
            "height": null,
            "justify_content": null,
            "justify_items": null,
            "left": null,
            "margin": null,
            "max_height": null,
            "max_width": null,
            "min_height": null,
            "min_width": null,
            "object_fit": null,
            "object_position": null,
            "order": null,
            "overflow": null,
            "overflow_x": null,
            "overflow_y": null,
            "padding": null,
            "right": null,
            "top": null,
            "visibility": null,
            "width": null
          }
        },
        "4ee6bebd616a4ae3889390fa1308ee68": {
          "model_module": "@jupyter-widgets/controls",
          "model_name": "ProgressStyleModel",
          "model_module_version": "1.5.0",
          "state": {
            "_model_module": "@jupyter-widgets/controls",
            "_model_module_version": "1.5.0",
            "_model_name": "ProgressStyleModel",
            "_view_count": null,
            "_view_module": "@jupyter-widgets/base",
            "_view_module_version": "1.2.0",
            "_view_name": "StyleView",
            "bar_color": null,
            "description_width": ""
          }
        },
        "236752fb39114dd69692d026893211e4": {
          "model_module": "@jupyter-widgets/base",
          "model_name": "LayoutModel",
          "model_module_version": "1.2.0",
          "state": {
            "_model_module": "@jupyter-widgets/base",
            "_model_module_version": "1.2.0",
            "_model_name": "LayoutModel",
            "_view_count": null,
            "_view_module": "@jupyter-widgets/base",
            "_view_module_version": "1.2.0",
            "_view_name": "LayoutView",
            "align_content": null,
            "align_items": null,
            "align_self": null,
            "border": null,
            "bottom": null,
            "display": null,
            "flex": null,
            "flex_flow": null,
            "grid_area": null,
            "grid_auto_columns": null,
            "grid_auto_flow": null,
            "grid_auto_rows": null,
            "grid_column": null,
            "grid_gap": null,
            "grid_row": null,
            "grid_template_areas": null,
            "grid_template_columns": null,
            "grid_template_rows": null,
            "height": null,
            "justify_content": null,
            "justify_items": null,
            "left": null,
            "margin": null,
            "max_height": null,
            "max_width": null,
            "min_height": null,
            "min_width": null,
            "object_fit": null,
            "object_position": null,
            "order": null,
            "overflow": null,
            "overflow_x": null,
            "overflow_y": null,
            "padding": null,
            "right": null,
            "top": null,
            "visibility": null,
            "width": null
          }
        },
        "05074c849a0f47d7bb0353fe5d05aa45": {
          "model_module": "@jupyter-widgets/controls",
          "model_name": "DescriptionStyleModel",
          "model_module_version": "1.5.0",
          "state": {
            "_model_module": "@jupyter-widgets/controls",
            "_model_module_version": "1.5.0",
            "_model_name": "DescriptionStyleModel",
            "_view_count": null,
            "_view_module": "@jupyter-widgets/base",
            "_view_module_version": "1.2.0",
            "_view_name": "StyleView",
            "description_width": ""
          }
        },
        "3e412982444542bba6ef3c8761f08422": {
          "model_module": "@jupyter-widgets/controls",
          "model_name": "HBoxModel",
          "model_module_version": "1.5.0",
          "state": {
            "_dom_classes": [],
            "_model_module": "@jupyter-widgets/controls",
            "_model_module_version": "1.5.0",
            "_model_name": "HBoxModel",
            "_view_count": null,
            "_view_module": "@jupyter-widgets/controls",
            "_view_module_version": "1.5.0",
            "_view_name": "HBoxView",
            "box_style": "",
            "children": [
              "IPY_MODEL_723019a75d63405c983f2f29354b7bb5",
              "IPY_MODEL_ecbb7c5e99fe4979a292777ef21bfdc9",
              "IPY_MODEL_3302e92e0279418b8c5cea9c7d53fa58"
            ],
            "layout": "IPY_MODEL_2c192b6083a040dba2e3048536ec2943"
          }
        },
        "723019a75d63405c983f2f29354b7bb5": {
          "model_module": "@jupyter-widgets/controls",
          "model_name": "HTMLModel",
          "model_module_version": "1.5.0",
          "state": {
            "_dom_classes": [],
            "_model_module": "@jupyter-widgets/controls",
            "_model_module_version": "1.5.0",
            "_model_name": "HTMLModel",
            "_view_count": null,
            "_view_module": "@jupyter-widgets/controls",
            "_view_module_version": "1.5.0",
            "_view_name": "HTMLView",
            "description": "",
            "description_tooltip": null,
            "layout": "IPY_MODEL_f89cdc3df3bd4e20a225c06fbd388d10",
            "placeholder": "​",
            "style": "IPY_MODEL_33ad6835d3d7461188f31ba6f2bd7369",
            "value": "special_tokens_map.json: 100%"
          }
        },
        "ecbb7c5e99fe4979a292777ef21bfdc9": {
          "model_module": "@jupyter-widgets/controls",
          "model_name": "FloatProgressModel",
          "model_module_version": "1.5.0",
          "state": {
            "_dom_classes": [],
            "_model_module": "@jupyter-widgets/controls",
            "_model_module_version": "1.5.0",
            "_model_name": "FloatProgressModel",
            "_view_count": null,
            "_view_module": "@jupyter-widgets/controls",
            "_view_module_version": "1.5.0",
            "_view_name": "ProgressView",
            "bar_style": "success",
            "description": "",
            "description_tooltip": null,
            "layout": "IPY_MODEL_0e2d4a09eb7c499da9f9f50cb7929ea1",
            "max": 239,
            "min": 0,
            "orientation": "horizontal",
            "style": "IPY_MODEL_f3881949d39b4890ad0e59f073a86e67",
            "value": 239
          }
        },
        "3302e92e0279418b8c5cea9c7d53fa58": {
          "model_module": "@jupyter-widgets/controls",
          "model_name": "HTMLModel",
          "model_module_version": "1.5.0",
          "state": {
            "_dom_classes": [],
            "_model_module": "@jupyter-widgets/controls",
            "_model_module_version": "1.5.0",
            "_model_name": "HTMLModel",
            "_view_count": null,
            "_view_module": "@jupyter-widgets/controls",
            "_view_module_version": "1.5.0",
            "_view_name": "HTMLView",
            "description": "",
            "description_tooltip": null,
            "layout": "IPY_MODEL_e125645954a14e949e88e3cf7462c71b",
            "placeholder": "​",
            "style": "IPY_MODEL_cb4e7342f026486883b534a0a020f653",
            "value": " 239/239 [00:00&lt;00:00, 1.95kB/s]"
          }
        },
        "2c192b6083a040dba2e3048536ec2943": {
          "model_module": "@jupyter-widgets/base",
          "model_name": "LayoutModel",
          "model_module_version": "1.2.0",
          "state": {
            "_model_module": "@jupyter-widgets/base",
            "_model_module_version": "1.2.0",
            "_model_name": "LayoutModel",
            "_view_count": null,
            "_view_module": "@jupyter-widgets/base",
            "_view_module_version": "1.2.0",
            "_view_name": "LayoutView",
            "align_content": null,
            "align_items": null,
            "align_self": null,
            "border": null,
            "bottom": null,
            "display": null,
            "flex": null,
            "flex_flow": null,
            "grid_area": null,
            "grid_auto_columns": null,
            "grid_auto_flow": null,
            "grid_auto_rows": null,
            "grid_column": null,
            "grid_gap": null,
            "grid_row": null,
            "grid_template_areas": null,
            "grid_template_columns": null,
            "grid_template_rows": null,
            "height": null,
            "justify_content": null,
            "justify_items": null,
            "left": null,
            "margin": null,
            "max_height": null,
            "max_width": null,
            "min_height": null,
            "min_width": null,
            "object_fit": null,
            "object_position": null,
            "order": null,
            "overflow": null,
            "overflow_x": null,
            "overflow_y": null,
            "padding": null,
            "right": null,
            "top": null,
            "visibility": null,
            "width": null
          }
        },
        "f89cdc3df3bd4e20a225c06fbd388d10": {
          "model_module": "@jupyter-widgets/base",
          "model_name": "LayoutModel",
          "model_module_version": "1.2.0",
          "state": {
            "_model_module": "@jupyter-widgets/base",
            "_model_module_version": "1.2.0",
            "_model_name": "LayoutModel",
            "_view_count": null,
            "_view_module": "@jupyter-widgets/base",
            "_view_module_version": "1.2.0",
            "_view_name": "LayoutView",
            "align_content": null,
            "align_items": null,
            "align_self": null,
            "border": null,
            "bottom": null,
            "display": null,
            "flex": null,
            "flex_flow": null,
            "grid_area": null,
            "grid_auto_columns": null,
            "grid_auto_flow": null,
            "grid_auto_rows": null,
            "grid_column": null,
            "grid_gap": null,
            "grid_row": null,
            "grid_template_areas": null,
            "grid_template_columns": null,
            "grid_template_rows": null,
            "height": null,
            "justify_content": null,
            "justify_items": null,
            "left": null,
            "margin": null,
            "max_height": null,
            "max_width": null,
            "min_height": null,
            "min_width": null,
            "object_fit": null,
            "object_position": null,
            "order": null,
            "overflow": null,
            "overflow_x": null,
            "overflow_y": null,
            "padding": null,
            "right": null,
            "top": null,
            "visibility": null,
            "width": null
          }
        },
        "33ad6835d3d7461188f31ba6f2bd7369": {
          "model_module": "@jupyter-widgets/controls",
          "model_name": "DescriptionStyleModel",
          "model_module_version": "1.5.0",
          "state": {
            "_model_module": "@jupyter-widgets/controls",
            "_model_module_version": "1.5.0",
            "_model_name": "DescriptionStyleModel",
            "_view_count": null,
            "_view_module": "@jupyter-widgets/base",
            "_view_module_version": "1.2.0",
            "_view_name": "StyleView",
            "description_width": ""
          }
        },
        "0e2d4a09eb7c499da9f9f50cb7929ea1": {
          "model_module": "@jupyter-widgets/base",
          "model_name": "LayoutModel",
          "model_module_version": "1.2.0",
          "state": {
            "_model_module": "@jupyter-widgets/base",
            "_model_module_version": "1.2.0",
            "_model_name": "LayoutModel",
            "_view_count": null,
            "_view_module": "@jupyter-widgets/base",
            "_view_module_version": "1.2.0",
            "_view_name": "LayoutView",
            "align_content": null,
            "align_items": null,
            "align_self": null,
            "border": null,
            "bottom": null,
            "display": null,
            "flex": null,
            "flex_flow": null,
            "grid_area": null,
            "grid_auto_columns": null,
            "grid_auto_flow": null,
            "grid_auto_rows": null,
            "grid_column": null,
            "grid_gap": null,
            "grid_row": null,
            "grid_template_areas": null,
            "grid_template_columns": null,
            "grid_template_rows": null,
            "height": null,
            "justify_content": null,
            "justify_items": null,
            "left": null,
            "margin": null,
            "max_height": null,
            "max_width": null,
            "min_height": null,
            "min_width": null,
            "object_fit": null,
            "object_position": null,
            "order": null,
            "overflow": null,
            "overflow_x": null,
            "overflow_y": null,
            "padding": null,
            "right": null,
            "top": null,
            "visibility": null,
            "width": null
          }
        },
        "f3881949d39b4890ad0e59f073a86e67": {
          "model_module": "@jupyter-widgets/controls",
          "model_name": "ProgressStyleModel",
          "model_module_version": "1.5.0",
          "state": {
            "_model_module": "@jupyter-widgets/controls",
            "_model_module_version": "1.5.0",
            "_model_name": "ProgressStyleModel",
            "_view_count": null,
            "_view_module": "@jupyter-widgets/base",
            "_view_module_version": "1.2.0",
            "_view_name": "StyleView",
            "bar_color": null,
            "description_width": ""
          }
        },
        "e125645954a14e949e88e3cf7462c71b": {
          "model_module": "@jupyter-widgets/base",
          "model_name": "LayoutModel",
          "model_module_version": "1.2.0",
          "state": {
            "_model_module": "@jupyter-widgets/base",
            "_model_module_version": "1.2.0",
            "_model_name": "LayoutModel",
            "_view_count": null,
            "_view_module": "@jupyter-widgets/base",
            "_view_module_version": "1.2.0",
            "_view_name": "LayoutView",
            "align_content": null,
            "align_items": null,
            "align_self": null,
            "border": null,
            "bottom": null,
            "display": null,
            "flex": null,
            "flex_flow": null,
            "grid_area": null,
            "grid_auto_columns": null,
            "grid_auto_flow": null,
            "grid_auto_rows": null,
            "grid_column": null,
            "grid_gap": null,
            "grid_row": null,
            "grid_template_areas": null,
            "grid_template_columns": null,
            "grid_template_rows": null,
            "height": null,
            "justify_content": null,
            "justify_items": null,
            "left": null,
            "margin": null,
            "max_height": null,
            "max_width": null,
            "min_height": null,
            "min_width": null,
            "object_fit": null,
            "object_position": null,
            "order": null,
            "overflow": null,
            "overflow_x": null,
            "overflow_y": null,
            "padding": null,
            "right": null,
            "top": null,
            "visibility": null,
            "width": null
          }
        },
        "cb4e7342f026486883b534a0a020f653": {
          "model_module": "@jupyter-widgets/controls",
          "model_name": "DescriptionStyleModel",
          "model_module_version": "1.5.0",
          "state": {
            "_model_module": "@jupyter-widgets/controls",
            "_model_module_version": "1.5.0",
            "_model_name": "DescriptionStyleModel",
            "_view_count": null,
            "_view_module": "@jupyter-widgets/base",
            "_view_module_version": "1.2.0",
            "_view_name": "StyleView",
            "description_width": ""
          }
        },
        "d463ad3434f1462ca48fe6b00306450a": {
          "model_module": "@jupyter-widgets/controls",
          "model_name": "HBoxModel",
          "model_module_version": "1.5.0",
          "state": {
            "_dom_classes": [],
            "_model_module": "@jupyter-widgets/controls",
            "_model_module_version": "1.5.0",
            "_model_name": "HBoxModel",
            "_view_count": null,
            "_view_module": "@jupyter-widgets/controls",
            "_view_module_version": "1.5.0",
            "_view_name": "HBoxView",
            "box_style": "",
            "children": [
              "IPY_MODEL_f37988013d8345f8ad3e740dd1430257",
              "IPY_MODEL_0b9688eef981439cb42cc680e21e3439",
              "IPY_MODEL_7daa516203f04ccba44e9f14a31f68aa"
            ],
            "layout": "IPY_MODEL_ae6a1e88aac74642b0bf52b925b45cd3"
          }
        },
        "f37988013d8345f8ad3e740dd1430257": {
          "model_module": "@jupyter-widgets/controls",
          "model_name": "HTMLModel",
          "model_module_version": "1.5.0",
          "state": {
            "_dom_classes": [],
            "_model_module": "@jupyter-widgets/controls",
            "_model_module_version": "1.5.0",
            "_model_name": "HTMLModel",
            "_view_count": null,
            "_view_module": "@jupyter-widgets/controls",
            "_view_module_version": "1.5.0",
            "_view_name": "HTMLView",
            "description": "",
            "description_tooltip": null,
            "layout": "IPY_MODEL_160b7718954443f8a61960743891a4d8",
            "placeholder": "​",
            "style": "IPY_MODEL_55654d547485496893d5c9059855eb9a",
            "value": "config.json: 100%"
          }
        },
        "0b9688eef981439cb42cc680e21e3439": {
          "model_module": "@jupyter-widgets/controls",
          "model_name": "FloatProgressModel",
          "model_module_version": "1.5.0",
          "state": {
            "_dom_classes": [],
            "_model_module": "@jupyter-widgets/controls",
            "_model_module_version": "1.5.0",
            "_model_name": "FloatProgressModel",
            "_view_count": null,
            "_view_module": "@jupyter-widgets/controls",
            "_view_module_version": "1.5.0",
            "_view_name": "ProgressView",
            "bar_style": "success",
            "description": "",
            "description_tooltip": null,
            "layout": "IPY_MODEL_aa9e82a432ca4b698c5efcc27a18f909",
            "max": 571,
            "min": 0,
            "orientation": "horizontal",
            "style": "IPY_MODEL_de03ac0b38d94ab7af8fe263dcbb3739",
            "value": 571
          }
        },
        "7daa516203f04ccba44e9f14a31f68aa": {
          "model_module": "@jupyter-widgets/controls",
          "model_name": "HTMLModel",
          "model_module_version": "1.5.0",
          "state": {
            "_dom_classes": [],
            "_model_module": "@jupyter-widgets/controls",
            "_model_module_version": "1.5.0",
            "_model_name": "HTMLModel",
            "_view_count": null,
            "_view_module": "@jupyter-widgets/controls",
            "_view_module_version": "1.5.0",
            "_view_name": "HTMLView",
            "description": "",
            "description_tooltip": null,
            "layout": "IPY_MODEL_2cde6880ceec47778e3246a9b1c6d905",
            "placeholder": "​",
            "style": "IPY_MODEL_baa6f382c5d748e5a811ae5a59635cb1",
            "value": " 571/571 [00:00&lt;00:00, 6.46kB/s]"
          }
        },
        "ae6a1e88aac74642b0bf52b925b45cd3": {
          "model_module": "@jupyter-widgets/base",
          "model_name": "LayoutModel",
          "model_module_version": "1.2.0",
          "state": {
            "_model_module": "@jupyter-widgets/base",
            "_model_module_version": "1.2.0",
            "_model_name": "LayoutModel",
            "_view_count": null,
            "_view_module": "@jupyter-widgets/base",
            "_view_module_version": "1.2.0",
            "_view_name": "LayoutView",
            "align_content": null,
            "align_items": null,
            "align_self": null,
            "border": null,
            "bottom": null,
            "display": null,
            "flex": null,
            "flex_flow": null,
            "grid_area": null,
            "grid_auto_columns": null,
            "grid_auto_flow": null,
            "grid_auto_rows": null,
            "grid_column": null,
            "grid_gap": null,
            "grid_row": null,
            "grid_template_areas": null,
            "grid_template_columns": null,
            "grid_template_rows": null,
            "height": null,
            "justify_content": null,
            "justify_items": null,
            "left": null,
            "margin": null,
            "max_height": null,
            "max_width": null,
            "min_height": null,
            "min_width": null,
            "object_fit": null,
            "object_position": null,
            "order": null,
            "overflow": null,
            "overflow_x": null,
            "overflow_y": null,
            "padding": null,
            "right": null,
            "top": null,
            "visibility": null,
            "width": null
          }
        },
        "160b7718954443f8a61960743891a4d8": {
          "model_module": "@jupyter-widgets/base",
          "model_name": "LayoutModel",
          "model_module_version": "1.2.0",
          "state": {
            "_model_module": "@jupyter-widgets/base",
            "_model_module_version": "1.2.0",
            "_model_name": "LayoutModel",
            "_view_count": null,
            "_view_module": "@jupyter-widgets/base",
            "_view_module_version": "1.2.0",
            "_view_name": "LayoutView",
            "align_content": null,
            "align_items": null,
            "align_self": null,
            "border": null,
            "bottom": null,
            "display": null,
            "flex": null,
            "flex_flow": null,
            "grid_area": null,
            "grid_auto_columns": null,
            "grid_auto_flow": null,
            "grid_auto_rows": null,
            "grid_column": null,
            "grid_gap": null,
            "grid_row": null,
            "grid_template_areas": null,
            "grid_template_columns": null,
            "grid_template_rows": null,
            "height": null,
            "justify_content": null,
            "justify_items": null,
            "left": null,
            "margin": null,
            "max_height": null,
            "max_width": null,
            "min_height": null,
            "min_width": null,
            "object_fit": null,
            "object_position": null,
            "order": null,
            "overflow": null,
            "overflow_x": null,
            "overflow_y": null,
            "padding": null,
            "right": null,
            "top": null,
            "visibility": null,
            "width": null
          }
        },
        "55654d547485496893d5c9059855eb9a": {
          "model_module": "@jupyter-widgets/controls",
          "model_name": "DescriptionStyleModel",
          "model_module_version": "1.5.0",
          "state": {
            "_model_module": "@jupyter-widgets/controls",
            "_model_module_version": "1.5.0",
            "_model_name": "DescriptionStyleModel",
            "_view_count": null,
            "_view_module": "@jupyter-widgets/base",
            "_view_module_version": "1.2.0",
            "_view_name": "StyleView",
            "description_width": ""
          }
        },
        "aa9e82a432ca4b698c5efcc27a18f909": {
          "model_module": "@jupyter-widgets/base",
          "model_name": "LayoutModel",
          "model_module_version": "1.2.0",
          "state": {
            "_model_module": "@jupyter-widgets/base",
            "_model_module_version": "1.2.0",
            "_model_name": "LayoutModel",
            "_view_count": null,
            "_view_module": "@jupyter-widgets/base",
            "_view_module_version": "1.2.0",
            "_view_name": "LayoutView",
            "align_content": null,
            "align_items": null,
            "align_self": null,
            "border": null,
            "bottom": null,
            "display": null,
            "flex": null,
            "flex_flow": null,
            "grid_area": null,
            "grid_auto_columns": null,
            "grid_auto_flow": null,
            "grid_auto_rows": null,
            "grid_column": null,
            "grid_gap": null,
            "grid_row": null,
            "grid_template_areas": null,
            "grid_template_columns": null,
            "grid_template_rows": null,
            "height": null,
            "justify_content": null,
            "justify_items": null,
            "left": null,
            "margin": null,
            "max_height": null,
            "max_width": null,
            "min_height": null,
            "min_width": null,
            "object_fit": null,
            "object_position": null,
            "order": null,
            "overflow": null,
            "overflow_x": null,
            "overflow_y": null,
            "padding": null,
            "right": null,
            "top": null,
            "visibility": null,
            "width": null
          }
        },
        "de03ac0b38d94ab7af8fe263dcbb3739": {
          "model_module": "@jupyter-widgets/controls",
          "model_name": "ProgressStyleModel",
          "model_module_version": "1.5.0",
          "state": {
            "_model_module": "@jupyter-widgets/controls",
            "_model_module_version": "1.5.0",
            "_model_name": "ProgressStyleModel",
            "_view_count": null,
            "_view_module": "@jupyter-widgets/base",
            "_view_module_version": "1.2.0",
            "_view_name": "StyleView",
            "bar_color": null,
            "description_width": ""
          }
        },
        "2cde6880ceec47778e3246a9b1c6d905": {
          "model_module": "@jupyter-widgets/base",
          "model_name": "LayoutModel",
          "model_module_version": "1.2.0",
          "state": {
            "_model_module": "@jupyter-widgets/base",
            "_model_module_version": "1.2.0",
            "_model_name": "LayoutModel",
            "_view_count": null,
            "_view_module": "@jupyter-widgets/base",
            "_view_module_version": "1.2.0",
            "_view_name": "LayoutView",
            "align_content": null,
            "align_items": null,
            "align_self": null,
            "border": null,
            "bottom": null,
            "display": null,
            "flex": null,
            "flex_flow": null,
            "grid_area": null,
            "grid_auto_columns": null,
            "grid_auto_flow": null,
            "grid_auto_rows": null,
            "grid_column": null,
            "grid_gap": null,
            "grid_row": null,
            "grid_template_areas": null,
            "grid_template_columns": null,
            "grid_template_rows": null,
            "height": null,
            "justify_content": null,
            "justify_items": null,
            "left": null,
            "margin": null,
            "max_height": null,
            "max_width": null,
            "min_height": null,
            "min_width": null,
            "object_fit": null,
            "object_position": null,
            "order": null,
            "overflow": null,
            "overflow_x": null,
            "overflow_y": null,
            "padding": null,
            "right": null,
            "top": null,
            "visibility": null,
            "width": null
          }
        },
        "baa6f382c5d748e5a811ae5a59635cb1": {
          "model_module": "@jupyter-widgets/controls",
          "model_name": "DescriptionStyleModel",
          "model_module_version": "1.5.0",
          "state": {
            "_model_module": "@jupyter-widgets/controls",
            "_model_module_version": "1.5.0",
            "_model_name": "DescriptionStyleModel",
            "_view_count": null,
            "_view_module": "@jupyter-widgets/base",
            "_view_module_version": "1.2.0",
            "_view_name": "StyleView",
            "description_width": ""
          }
        },
        "c2f57d66545e4ba1aa9d3958b65281cc": {
          "model_module": "@jupyter-widgets/controls",
          "model_name": "HBoxModel",
          "model_module_version": "1.5.0",
          "state": {
            "_dom_classes": [],
            "_model_module": "@jupyter-widgets/controls",
            "_model_module_version": "1.5.0",
            "_model_name": "HBoxModel",
            "_view_count": null,
            "_view_module": "@jupyter-widgets/controls",
            "_view_module_version": "1.5.0",
            "_view_name": "HBoxView",
            "box_style": "",
            "children": [
              "IPY_MODEL_1537f90a3d4140b0a47466a78a90cb16",
              "IPY_MODEL_1d0dc4f733a941269cb71e35adacf991",
              "IPY_MODEL_d4300b9843a34e7bbac4d9dc21444ebe"
            ],
            "layout": "IPY_MODEL_b2a7868b03724069b83a1af01a70279c"
          }
        },
        "1537f90a3d4140b0a47466a78a90cb16": {
          "model_module": "@jupyter-widgets/controls",
          "model_name": "HTMLModel",
          "model_module_version": "1.5.0",
          "state": {
            "_dom_classes": [],
            "_model_module": "@jupyter-widgets/controls",
            "_model_module_version": "1.5.0",
            "_model_name": "HTMLModel",
            "_view_count": null,
            "_view_module": "@jupyter-widgets/controls",
            "_view_module_version": "1.5.0",
            "_view_name": "HTMLView",
            "description": "",
            "description_tooltip": null,
            "layout": "IPY_MODEL_0e6304a8186f4747a46d0fa3d608d80a",
            "placeholder": "​",
            "style": "IPY_MODEL_88a76dbbb17f4e10847f6ced72d66d6a",
            "value": "pytorch_model.bin: 100%"
          }
        },
        "1d0dc4f733a941269cb71e35adacf991": {
          "model_module": "@jupyter-widgets/controls",
          "model_name": "FloatProgressModel",
          "model_module_version": "1.5.0",
          "state": {
            "_dom_classes": [],
            "_model_module": "@jupyter-widgets/controls",
            "_model_module_version": "1.5.0",
            "_model_name": "FloatProgressModel",
            "_view_count": null,
            "_view_module": "@jupyter-widgets/controls",
            "_view_module_version": "1.5.0",
            "_view_name": "ProgressView",
            "bar_style": "success",
            "description": "",
            "description_tooltip": null,
            "layout": "IPY_MODEL_63d2389bf0584e339579795ede0555e0",
            "max": 438011953,
            "min": 0,
            "orientation": "horizontal",
            "style": "IPY_MODEL_124d16e20e664c9c85f4bc07cc0aaa7a",
            "value": 438011953
          }
        },
        "d4300b9843a34e7bbac4d9dc21444ebe": {
          "model_module": "@jupyter-widgets/controls",
          "model_name": "HTMLModel",
          "model_module_version": "1.5.0",
          "state": {
            "_dom_classes": [],
            "_model_module": "@jupyter-widgets/controls",
            "_model_module_version": "1.5.0",
            "_model_name": "HTMLModel",
            "_view_count": null,
            "_view_module": "@jupyter-widgets/controls",
            "_view_module_version": "1.5.0",
            "_view_name": "HTMLView",
            "description": "",
            "description_tooltip": null,
            "layout": "IPY_MODEL_fdca08c83ea04f8eb3951323e324f673",
            "placeholder": "​",
            "style": "IPY_MODEL_e648ac4521ca48dfa2f2bbc466e948a9",
            "value": " 438M/438M [00:03&lt;00:00, 124MB/s]"
          }
        },
        "b2a7868b03724069b83a1af01a70279c": {
          "model_module": "@jupyter-widgets/base",
          "model_name": "LayoutModel",
          "model_module_version": "1.2.0",
          "state": {
            "_model_module": "@jupyter-widgets/base",
            "_model_module_version": "1.2.0",
            "_model_name": "LayoutModel",
            "_view_count": null,
            "_view_module": "@jupyter-widgets/base",
            "_view_module_version": "1.2.0",
            "_view_name": "LayoutView",
            "align_content": null,
            "align_items": null,
            "align_self": null,
            "border": null,
            "bottom": null,
            "display": null,
            "flex": null,
            "flex_flow": null,
            "grid_area": null,
            "grid_auto_columns": null,
            "grid_auto_flow": null,
            "grid_auto_rows": null,
            "grid_column": null,
            "grid_gap": null,
            "grid_row": null,
            "grid_template_areas": null,
            "grid_template_columns": null,
            "grid_template_rows": null,
            "height": null,
            "justify_content": null,
            "justify_items": null,
            "left": null,
            "margin": null,
            "max_height": null,
            "max_width": null,
            "min_height": null,
            "min_width": null,
            "object_fit": null,
            "object_position": null,
            "order": null,
            "overflow": null,
            "overflow_x": null,
            "overflow_y": null,
            "padding": null,
            "right": null,
            "top": null,
            "visibility": null,
            "width": null
          }
        },
        "0e6304a8186f4747a46d0fa3d608d80a": {
          "model_module": "@jupyter-widgets/base",
          "model_name": "LayoutModel",
          "model_module_version": "1.2.0",
          "state": {
            "_model_module": "@jupyter-widgets/base",
            "_model_module_version": "1.2.0",
            "_model_name": "LayoutModel",
            "_view_count": null,
            "_view_module": "@jupyter-widgets/base",
            "_view_module_version": "1.2.0",
            "_view_name": "LayoutView",
            "align_content": null,
            "align_items": null,
            "align_self": null,
            "border": null,
            "bottom": null,
            "display": null,
            "flex": null,
            "flex_flow": null,
            "grid_area": null,
            "grid_auto_columns": null,
            "grid_auto_flow": null,
            "grid_auto_rows": null,
            "grid_column": null,
            "grid_gap": null,
            "grid_row": null,
            "grid_template_areas": null,
            "grid_template_columns": null,
            "grid_template_rows": null,
            "height": null,
            "justify_content": null,
            "justify_items": null,
            "left": null,
            "margin": null,
            "max_height": null,
            "max_width": null,
            "min_height": null,
            "min_width": null,
            "object_fit": null,
            "object_position": null,
            "order": null,
            "overflow": null,
            "overflow_x": null,
            "overflow_y": null,
            "padding": null,
            "right": null,
            "top": null,
            "visibility": null,
            "width": null
          }
        },
        "88a76dbbb17f4e10847f6ced72d66d6a": {
          "model_module": "@jupyter-widgets/controls",
          "model_name": "DescriptionStyleModel",
          "model_module_version": "1.5.0",
          "state": {
            "_model_module": "@jupyter-widgets/controls",
            "_model_module_version": "1.5.0",
            "_model_name": "DescriptionStyleModel",
            "_view_count": null,
            "_view_module": "@jupyter-widgets/base",
            "_view_module_version": "1.2.0",
            "_view_name": "StyleView",
            "description_width": ""
          }
        },
        "63d2389bf0584e339579795ede0555e0": {
          "model_module": "@jupyter-widgets/base",
          "model_name": "LayoutModel",
          "model_module_version": "1.2.0",
          "state": {
            "_model_module": "@jupyter-widgets/base",
            "_model_module_version": "1.2.0",
            "_model_name": "LayoutModel",
            "_view_count": null,
            "_view_module": "@jupyter-widgets/base",
            "_view_module_version": "1.2.0",
            "_view_name": "LayoutView",
            "align_content": null,
            "align_items": null,
            "align_self": null,
            "border": null,
            "bottom": null,
            "display": null,
            "flex": null,
            "flex_flow": null,
            "grid_area": null,
            "grid_auto_columns": null,
            "grid_auto_flow": null,
            "grid_auto_rows": null,
            "grid_column": null,
            "grid_gap": null,
            "grid_row": null,
            "grid_template_areas": null,
            "grid_template_columns": null,
            "grid_template_rows": null,
            "height": null,
            "justify_content": null,
            "justify_items": null,
            "left": null,
            "margin": null,
            "max_height": null,
            "max_width": null,
            "min_height": null,
            "min_width": null,
            "object_fit": null,
            "object_position": null,
            "order": null,
            "overflow": null,
            "overflow_x": null,
            "overflow_y": null,
            "padding": null,
            "right": null,
            "top": null,
            "visibility": null,
            "width": null
          }
        },
        "124d16e20e664c9c85f4bc07cc0aaa7a": {
          "model_module": "@jupyter-widgets/controls",
          "model_name": "ProgressStyleModel",
          "model_module_version": "1.5.0",
          "state": {
            "_model_module": "@jupyter-widgets/controls",
            "_model_module_version": "1.5.0",
            "_model_name": "ProgressStyleModel",
            "_view_count": null,
            "_view_module": "@jupyter-widgets/base",
            "_view_module_version": "1.2.0",
            "_view_name": "StyleView",
            "bar_color": null,
            "description_width": ""
          }
        },
        "fdca08c83ea04f8eb3951323e324f673": {
          "model_module": "@jupyter-widgets/base",
          "model_name": "LayoutModel",
          "model_module_version": "1.2.0",
          "state": {
            "_model_module": "@jupyter-widgets/base",
            "_model_module_version": "1.2.0",
            "_model_name": "LayoutModel",
            "_view_count": null,
            "_view_module": "@jupyter-widgets/base",
            "_view_module_version": "1.2.0",
            "_view_name": "LayoutView",
            "align_content": null,
            "align_items": null,
            "align_self": null,
            "border": null,
            "bottom": null,
            "display": null,
            "flex": null,
            "flex_flow": null,
            "grid_area": null,
            "grid_auto_columns": null,
            "grid_auto_flow": null,
            "grid_auto_rows": null,
            "grid_column": null,
            "grid_gap": null,
            "grid_row": null,
            "grid_template_areas": null,
            "grid_template_columns": null,
            "grid_template_rows": null,
            "height": null,
            "justify_content": null,
            "justify_items": null,
            "left": null,
            "margin": null,
            "max_height": null,
            "max_width": null,
            "min_height": null,
            "min_width": null,
            "object_fit": null,
            "object_position": null,
            "order": null,
            "overflow": null,
            "overflow_x": null,
            "overflow_y": null,
            "padding": null,
            "right": null,
            "top": null,
            "visibility": null,
            "width": null
          }
        },
        "e648ac4521ca48dfa2f2bbc466e948a9": {
          "model_module": "@jupyter-widgets/controls",
          "model_name": "DescriptionStyleModel",
          "model_module_version": "1.5.0",
          "state": {
            "_model_module": "@jupyter-widgets/controls",
            "_model_module_version": "1.5.0",
            "_model_name": "DescriptionStyleModel",
            "_view_count": null,
            "_view_module": "@jupyter-widgets/base",
            "_view_module_version": "1.2.0",
            "_view_name": "StyleView",
            "description_width": ""
          }
        }
      }
    }
  },
  "nbformat": 4,
  "nbformat_minor": 0
}