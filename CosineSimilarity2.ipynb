{
  "cells": [
    {
      "cell_type": "markdown",
      "metadata": {
        "id": "view-in-github",
        "colab_type": "text"
      },
      "source": [
        "<a href=\"https://colab.research.google.com/github/capricode-ui/AIML-Projects/blob/main/CosineSimilarity2.ipynb\" target=\"_parent\"><img src=\"https://colab.research.google.com/assets/colab-badge.svg\" alt=\"Open In Colab\"/></a>"
      ]
    },
    {
      "cell_type": "code",
      "execution_count": 1,
      "metadata": {
        "id": "uFEuxnxSWN_M"
      },
      "outputs": [],
      "source": [
        "from transformers import AutoTokenizer, AutoModel\n",
        "import torch\n",
        "#Importing the tokenizer and model class from transformer library"
      ]
    },
    {
      "cell_type": "code",
      "execution_count": 2,
      "metadata": {
        "colab": {
          "base_uri": "https://localhost:8080/",
          "height": 313,
          "referenced_widgets": [
            "63852799672e491d9691a78a20d5420d",
            "f792b975530d40b48e7dc302c83cb7b3",
            "0cca17e9e10245d99cd1fd9b351958dc",
            "87397ab4fd6c443f97d94c5834abea2a",
            "1ea045e5c70840bf881a55f233680c73",
            "2b724063d31b4a49922fe5ef94dce366",
            "abcb5f57f6e8476388897b89d5c63a3f",
            "76b52edc9102448c8afdc8e938fe8cef",
            "cc93380709724ff1a3600def40228f44",
            "c802ea85f2ad434e93c4a84e9979ae5a",
            "4bbd261dca354d0a9fd505249d0a1489",
            "b3d1dfc234624e0a8c5c8edef9aa4c30",
            "2b8a004c75034ddb90f59384b05c6ec5",
            "eb462f7c563d4c069f6cfaad3448ffee",
            "da40ede0b5a74fde9031c3c67c0fa1ff",
            "50e6ab1c58f84dc7b148a5159a40be0e",
            "c9d21dbc5dc24b1aaa8b4be273d69b30",
            "b42c31265135496f8ef786437aa16e2c",
            "6e62cdb338b24470b20d08499beed5b0",
            "2b31915f71d944d68833b17c543e6284",
            "fbd3493e9c3848ef882ff370107f8542",
            "822684d8ce6747708ac77499fd5099e4",
            "f6f53a1b21ed4ac188cf3c134cef6e82",
            "628f48e6a001474b8f098c2635543b6b",
            "ffc949f367ba4a74b462a85f860cdc31",
            "ddd1c5e085d4457182152b1475a6c66a",
            "39234afff0ca45c2bce91cbde9b10b81",
            "0bb28bf77d38454ca49fc72f7bea84a2",
            "7cd8b873766d409abadaa67705c60bc5",
            "52cc0977926442a481b72d84b989d265",
            "ff58919a845b4bea83e39cb4db6572cb",
            "a2a4e75263a44156a8f8ebf2edd2e71e",
            "5d56cdf15fc94b90aada7da3f5a6d3ea",
            "2c457aec25c34af0bdff07ab16afe1d6",
            "9c1a1a3d511c44ad9f37d67ecd15e807",
            "23679c445d114be1b4225302a345a806",
            "415142d343a5459d827b69834b527d38",
            "d08c4677008d424d9f5a9ea8a9012633",
            "7b56ee48d6c24292805987bac0fd9179",
            "43e4f814699b4d15a943295de477b3bd",
            "b6e9b813899443ddaeb58e6037bcb0e5",
            "38c92739bfab488994963a4817a4e3c5",
            "5ff479fa43424476ac13dccf3cba4c14",
            "e63ea51f6414418998cf771717975e47",
            "b9946e2957b44ab386bb1c5e0f3ebfd6",
            "0a7734a0106443a6a7251c022e0430d4",
            "2b3c217b8ff4440085accb9143ae4675",
            "4cdce87d3b3c46cba61b4ad30dc685b2",
            "2777f561e76244d886c777902792bdc8",
            "18d52e31c9dd4ee099a15998354fb11b",
            "adb7deceaa474e0a9d8b9b0bcf3296a9",
            "a79541ed5843453c9a69919470831f6a",
            "370b4cb526254882b65073712e69b806",
            "6a4b76f3b0104abab38d63c7cb06e252",
            "4d4042c27dbc4b2f846c2a19517be38a",
            "84c1b51207c743e58c60696614e1c6a6",
            "23e1d9ce313e45abb944784e260c65a3",
            "7adff0a2901345cca9abf128f08251f6",
            "11d52e2f5f244250bc68b7182f1b9fce",
            "d1db4b928abd4b6abca27d4ba3773ad6",
            "cb2f82c6ae8a4d649f6b2fe1ca8cd91c",
            "d248f0cdc0e8488296ba46be39c26b04",
            "7198089fe0a64aa39c32bed0b7a35ad1",
            "7a4a48016efc4bffab08b9cd0c573a56",
            "62a0c5accbae455685fbbb45e0f78469",
            "ddcd9480e7a844a59ac9a263b9fd4ca1"
          ]
        },
        "id": "of4gE3jLXKv9",
        "outputId": "65a8f0cd-874a-4236-c939-94ce881a8d04"
      },
      "outputs": [
        {
          "output_type": "stream",
          "name": "stderr",
          "text": [
            "/usr/local/lib/python3.10/dist-packages/huggingface_hub/utils/_token.py:89: UserWarning: \n",
            "The secret `HF_TOKEN` does not exist in your Colab secrets.\n",
            "To authenticate with the Hugging Face Hub, create a token in your settings tab (https://huggingface.co/settings/tokens), set it as secret in your Google Colab and restart your session.\n",
            "You will be able to reuse this secret in all of your notebooks.\n",
            "Please note that authentication is recommended but still optional to access public models or datasets.\n",
            "  warnings.warn(\n"
          ]
        },
        {
          "output_type": "display_data",
          "data": {
            "text/plain": [
              "tokenizer_config.json:   0%|          | 0.00/363 [00:00<?, ?B/s]"
            ],
            "application/vnd.jupyter.widget-view+json": {
              "version_major": 2,
              "version_minor": 0,
              "model_id": "63852799672e491d9691a78a20d5420d"
            }
          },
          "metadata": {}
        },
        {
          "output_type": "display_data",
          "data": {
            "text/plain": [
              "vocab.txt:   0%|          | 0.00/232k [00:00<?, ?B/s]"
            ],
            "application/vnd.jupyter.widget-view+json": {
              "version_major": 2,
              "version_minor": 0,
              "model_id": "b3d1dfc234624e0a8c5c8edef9aa4c30"
            }
          },
          "metadata": {}
        },
        {
          "output_type": "display_data",
          "data": {
            "text/plain": [
              "tokenizer.json:   0%|          | 0.00/466k [00:00<?, ?B/s]"
            ],
            "application/vnd.jupyter.widget-view+json": {
              "version_major": 2,
              "version_minor": 0,
              "model_id": "f6f53a1b21ed4ac188cf3c134cef6e82"
            }
          },
          "metadata": {}
        },
        {
          "output_type": "display_data",
          "data": {
            "text/plain": [
              "special_tokens_map.json:   0%|          | 0.00/239 [00:00<?, ?B/s]"
            ],
            "application/vnd.jupyter.widget-view+json": {
              "version_major": 2,
              "version_minor": 0,
              "model_id": "2c457aec25c34af0bdff07ab16afe1d6"
            }
          },
          "metadata": {}
        },
        {
          "output_type": "display_data",
          "data": {
            "text/plain": [
              "config.json:   0%|          | 0.00/571 [00:00<?, ?B/s]"
            ],
            "application/vnd.jupyter.widget-view+json": {
              "version_major": 2,
              "version_minor": 0,
              "model_id": "b9946e2957b44ab386bb1c5e0f3ebfd6"
            }
          },
          "metadata": {}
        },
        {
          "output_type": "display_data",
          "data": {
            "text/plain": [
              "model.safetensors:   0%|          | 0.00/438M [00:00<?, ?B/s]"
            ],
            "application/vnd.jupyter.widget-view+json": {
              "version_major": 2,
              "version_minor": 0,
              "model_id": "84c1b51207c743e58c60696614e1c6a6"
            }
          },
          "metadata": {}
        }
      ],
      "source": [
        "tokenizer = AutoTokenizer.from_pretrained('sentence-transformers/all-mpnet-base-v2')\n",
        "model = AutoModel.from_pretrained('sentence-transformers/all-mpnet-base-v2')\n",
        "#tokenizer and model was downloaded from hugging face"
      ]
    },
    {
      "cell_type": "code",
      "execution_count": 3,
      "metadata": {
        "colab": {
          "base_uri": "https://localhost:8080/"
        },
        "id": "95pt51zzXuTl",
        "outputId": "3acadf93-e379-418f-c6a5-aec5fc3a7622"
      },
      "outputs": [
        {
          "output_type": "execute_result",
          "data": {
            "text/plain": [
              "dict_keys(['input_ids', 'attention_mask'])"
            ]
          },
          "metadata": {},
          "execution_count": 3
        }
      ],
      "source": [
        "example_sentence = 'its a sunny morning'\n",
        "example_tokens = tokenizer.encode_plus(example_sentence, max_length = 512, truncation = True, padding = 'max_length', return_tensors = 'pt' )\n",
        "example_tokens.keys()\n",
        "#irrelevant to the overall code structure"
      ]
    },
    {
      "cell_type": "markdown",
      "source": [
        " Answers to a sample question in the dataset\n",
        "\n"
      ],
      "metadata": {
        "id": "O1pONZ-GW-Ww"
      }
    },
    {
      "cell_type": "code",
      "source": [
        "\"\"\"\n",
        "\n",
        "sentences = [\n",
        "\n",
        "             \"Dynamic scaling refers to the evolution of self-similar systems, where data obtained from snapshots at fixed times exhibits similarity to the respective data taken from snapshots of any earlier or later time. This similarity is tested by a certain time-dependent stochastic variable x.\",\"Dynamic scaling refers to the non-evolution of self-similar systems, where data obtained from snapshots at fixed times is similar to the respective data taken from snapshots of any earlier or later time. This similarity is tested by a certain time-dependent stochastic variable x.\",\"Dynamic scaling refers to the evolution of self-similar systems, where data obtained from snapshots at fixed times is dissimilar to the respective data taken from snapshots of any earlier or later time. This dissimilarity is tested by a certain time-independent stochastic variable y.\",\"Dynamic scaling refers to the non-evolution of self-similar systems, where data obtained from snapshots at fixed times is dissimilar to the respective data taken from snapshots of any earlier or later time. This dissimilarity is tested by a certain time-independent stochastic variable y.\",\"Dynamic scaling refers to the evolution of self-similar systems, where data obtained from snapshots at fixed times is independent of the respective data taken from snapshots of any earlier or later time. This independence is tested by a certain time-dependent stochastic variable z.\",\n",
        "\n",
        "]\n",
        "\n",
        "\n",
        "sentences=[\n",
        "    \"Regularizing the mass-energy of an electron with a finite radius can theoretically simplify calculations involving infinities or singularities, thereby providing explanations that would otherwise be impossible to achieve.\",\"Regularizing the mass-energy of an electron with an infinite radius allows for the breakdown of a theory that is valid under one set of conditions. This approach can be applied to other renormalization problems as well.,Regularizing the mass-energy of an electron with a finite radius is a means of demonstrating that a system below a certain size can be explained without the need for further calculations. This approach can be applied to other renormalization problems as well.\",\"Regularizing the mass-energy of an electron with an infinite radius can be used to provide a highly accurate description of a system under specific conditions. This approach can be transferred to other renormalization problems as well.\",\"Regularizing the mass-energy of an electron with an infinite radius is essential for explaining how a system below a certain size operates. This approach can be applied to other renormalization problems as well.\"\n",
        "]\n",
        "\n",
        "\"\"\"\n",
        "\n",
        "sentences=[\n",
        "    \"The triskeles symbol was reconstructed as a feminine divine triad by the rulers of Syracuse, and later adopted as an emblem. Its usage may also be related to the Greek name of Sicily, Trinacria, which means \"\"having three headlands.\"\" The head of Medusa at the center of the Sicilian triskeles represents the three headlands.\",\"The triskeles symbol is a representation of three interlinked spirals, which was adopted as an emblem by the rulers of Syracuse. Its usage in modern flags of Sicily has its origins in the ancient Greek name for the island, Trinacria, which means \"\"Sicily with three corners.\"\" The head of Medusa at the center is a representation of the island's rich cultural heritage.\",\"The triskeles symbol is a representation of a triple goddess, reconstructed by the rulers of Syracuse, who adopted it as an emblem. Its significance lies in the fact that it represents the Greek name for Sicily, Trinacria, which contains the element \"\"tria,\"\" meaning three. The head of Medusa at the center of the Sicilian triskeles represents the three headlands.\",\"The triskeles symbol represents three interlocked spiral arms, which became an emblem for the rulers of Syracuse. Its usage in modern flags of Sicily is due to the island's rich cultural heritage, which dates back to ancient times. The head of Medusa at the center represents the lasting influence of Greek mythology on Sicilian culture.\",\"The triskeles symbol is a representation of the Greek goddess Hecate, reconstructed by the rulers of Syracuse. Its adoption as an emblem was due to its cultural significance, as it represented the ancient Greek name for Sicily, Trinacria. The head of Medusa at the center of the Sicilian triskeles represents the island's central location in the Mediterranean.\"\n",
        "\n",
        "]\n",
        "#sentences which are to be processed for cosine similarity"
      ],
      "metadata": {
        "id": "CyNCE-YDSIZy"
      },
      "execution_count": 4,
      "outputs": []
    },
    {
      "cell_type": "markdown",
      "metadata": {
        "id": "-actPEEuWNsY"
      },
      "source": []
    },
    {
      "cell_type": "code",
      "source": [
        "tokens = {'input_ids': [], 'attention_mask': [] }\n",
        "\n",
        "for sentence in sentences:\n",
        "    new_tokens = tokenizer.encode_plus(sentence, max_length = 512, truncation = True, padding = 'max_length', return_tensors = 'pt' )\n",
        "    tokens['input_ids'].append(new_tokens['input_ids'][0])\n",
        "    tokens['attention_mask'].append(new_tokens['attention_mask'][0])\n",
        "\n",
        "# restructure a list of tensors into single tensor\n",
        "tokens['input_ids'] = torch.stack(tokens['input_ids'])\n",
        "tokens['attention_mask'] = torch.stack(tokens['attention_mask'])"
      ],
      "metadata": {
        "id": "OGZemuoX_X3V"
      },
      "execution_count": 5,
      "outputs": []
    },
    {
      "cell_type": "code",
      "source": [
        "tokens['attention_mask']"
      ],
      "metadata": {
        "colab": {
          "base_uri": "https://localhost:8080/"
        },
        "id": "BJF23LbIAdT8",
        "outputId": "c6db2dfe-877a-48d9-9f63-620d0cdff511"
      },
      "execution_count": 6,
      "outputs": [
        {
          "output_type": "execute_result",
          "data": {
            "text/plain": [
              "tensor([[1, 1, 1,  ..., 0, 0, 0],\n",
              "        [1, 1, 1,  ..., 0, 0, 0],\n",
              "        [1, 1, 1,  ..., 0, 0, 0],\n",
              "        [1, 1, 1,  ..., 0, 0, 0],\n",
              "        [1, 1, 1,  ..., 0, 0, 0]])"
            ]
          },
          "metadata": {},
          "execution_count": 6
        }
      ]
    },
    {
      "cell_type": "code",
      "source": [
        "outputs = model(**tokens)\n",
        "outputs"
      ],
      "metadata": {
        "colab": {
          "base_uri": "https://localhost:8080/"
        },
        "id": "eOJMahntAgWN",
        "outputId": "4297f9c7-631d-496f-ec24-d3e949627167"
      },
      "execution_count": 7,
      "outputs": [
        {
          "output_type": "execute_result",
          "data": {
            "text/plain": [
              "BaseModelOutputWithPooling(last_hidden_state=tensor([[[ 8.1261e-02, -3.8535e-01, -1.1094e-01,  ...,  2.2897e-02,\n",
              "           8.0473e-02, -3.6694e-02],\n",
              "         [ 1.4462e-01, -6.2237e-01, -2.0745e-01,  ..., -3.2335e-02,\n",
              "           8.0157e-02,  5.4949e-02],\n",
              "         [ 1.2681e-01, -8.3219e-01, -5.6564e-02,  ...,  1.3216e-01,\n",
              "           2.5443e-02,  6.9835e-02],\n",
              "         ...,\n",
              "         [ 1.1222e-01, -3.1861e-01, -1.1745e-01,  ...,  1.1792e-02,\n",
              "           7.6605e-02,  8.6306e-03],\n",
              "         [ 1.1222e-01, -3.1861e-01, -1.1745e-01,  ...,  1.1792e-02,\n",
              "           7.6605e-02,  8.6306e-03],\n",
              "         [ 1.1222e-01, -3.1861e-01, -1.1745e-01,  ...,  1.1792e-02,\n",
              "           7.6605e-02,  8.6306e-03]],\n",
              "\n",
              "        [[ 1.1109e-01, -3.8754e-01, -7.4494e-02,  ...,  1.4285e-02,\n",
              "           6.9957e-02,  6.5964e-03],\n",
              "         [ 1.8309e-01, -6.7927e-01, -1.5333e-01,  ...,  7.9889e-03,\n",
              "           6.7997e-02,  1.0110e-01],\n",
              "         [ 1.4960e-01, -8.2920e-01, -3.9345e-02,  ...,  1.4514e-01,\n",
              "           2.6434e-02,  7.9526e-02],\n",
              "         ...,\n",
              "         [ 1.1984e-01, -4.0382e-01, -8.4755e-02,  ..., -1.3907e-03,\n",
              "           4.3939e-02,  4.9044e-02],\n",
              "         [ 1.1984e-01, -4.0382e-01, -8.4755e-02,  ..., -1.3907e-03,\n",
              "           4.3939e-02,  4.9044e-02],\n",
              "         [ 1.1984e-01, -4.0382e-01, -8.4755e-02,  ..., -1.3907e-03,\n",
              "           4.3939e-02,  4.9044e-02]],\n",
              "\n",
              "        [[ 9.4915e-02, -3.7576e-01, -9.0805e-02,  ...,  5.0618e-02,\n",
              "           8.3154e-02, -1.8559e-02],\n",
              "         [ 1.8706e-01, -6.2385e-01, -1.9369e-01,  ...,  3.3598e-02,\n",
              "           4.3572e-02,  3.6652e-02],\n",
              "         [ 1.3289e-01, -7.8955e-01, -6.4954e-02,  ...,  1.4769e-01,\n",
              "           2.4107e-02,  5.2428e-02],\n",
              "         ...,\n",
              "         [ 1.0620e-01, -3.6054e-01, -9.4569e-02,  ...,  6.0495e-02,\n",
              "           3.7904e-02,  1.9937e-02],\n",
              "         [ 1.0620e-01, -3.6054e-01, -9.4569e-02,  ...,  6.0495e-02,\n",
              "           3.7904e-02,  1.9937e-02],\n",
              "         [ 1.0620e-01, -3.6054e-01, -9.4569e-02,  ...,  6.0495e-02,\n",
              "           3.7904e-02,  1.9937e-02]],\n",
              "\n",
              "        [[ 7.6049e-02, -3.9660e-01, -8.0918e-02,  ..., -4.0043e-03,\n",
              "           7.1954e-02, -2.0010e-03],\n",
              "         [ 2.0137e-01, -6.9227e-01, -1.8009e-01,  ..., -3.9753e-04,\n",
              "           6.1825e-02,  5.4863e-02],\n",
              "         [ 1.2337e-01, -8.9122e-01, -4.2253e-02,  ...,  1.2902e-01,\n",
              "           2.0575e-02,  6.9047e-02],\n",
              "         ...,\n",
              "         [ 6.8064e-02, -3.8088e-01, -1.0542e-01,  ..., -2.4098e-02,\n",
              "           3.9797e-02,  4.6113e-02],\n",
              "         [ 6.8064e-02, -3.8088e-01, -1.0542e-01,  ..., -2.4098e-02,\n",
              "           3.9797e-02,  4.6113e-02],\n",
              "         [ 6.8064e-02, -3.8088e-01, -1.0542e-01,  ..., -2.4098e-02,\n",
              "           3.9797e-02,  4.6113e-02]],\n",
              "\n",
              "        [[ 1.7270e-01, -3.4492e-01, -3.8864e-02,  ...,  4.2032e-02,\n",
              "           1.9586e-01,  2.5635e-02],\n",
              "         [ 2.2605e-01, -6.2341e-01, -1.7136e-01,  ...,  3.3743e-03,\n",
              "           7.3840e-02,  5.1563e-02],\n",
              "         [ 1.7907e-01, -8.5415e-01, -1.1076e-02,  ...,  1.3108e-01,\n",
              "           7.9892e-02,  1.0250e-01],\n",
              "         ...,\n",
              "         [ 1.6404e-01, -3.4792e-01, -5.6574e-02,  ...,  3.8834e-02,\n",
              "           1.1718e-01,  5.3759e-02],\n",
              "         [ 1.6404e-01, -3.4792e-01, -5.6574e-02,  ...,  3.8834e-02,\n",
              "           1.1718e-01,  5.3759e-02],\n",
              "         [ 1.6404e-01, -3.4792e-01, -5.6574e-02,  ...,  3.8834e-02,\n",
              "           1.1718e-01,  5.3759e-02]]], grad_fn=<NativeLayerNormBackward0>), pooler_output=tensor([[-0.0431,  0.0167,  0.0061,  ...,  0.0354,  0.0084,  0.0195],\n",
              "        [-0.0654,  0.0026,  0.0070,  ...,  0.0149,  0.0142, -0.0087],\n",
              "        [-0.0445,  0.0137,  0.0100,  ...,  0.0227, -0.0130,  0.0173],\n",
              "        [-0.0381,  0.0113,  0.0094,  ...,  0.0013, -0.0002,  0.0146],\n",
              "        [-0.0237,  0.0363, -0.0010,  ...,  0.0144,  0.0096,  0.0008]],\n",
              "       grad_fn=<TanhBackward0>), hidden_states=None, attentions=None)"
            ]
          },
          "metadata": {},
          "execution_count": 7
        }
      ]
    },
    {
      "cell_type": "code",
      "source": [
        "outputs.keys()"
      ],
      "metadata": {
        "id": "-FVARuH3AnF_",
        "colab": {
          "base_uri": "https://localhost:8080/"
        },
        "outputId": "3dc2ca78-4e80-4b7e-f66a-f98227e9e01a"
      },
      "execution_count": 8,
      "outputs": [
        {
          "output_type": "execute_result",
          "data": {
            "text/plain": [
              "odict_keys(['last_hidden_state', 'pooler_output'])"
            ]
          },
          "metadata": {},
          "execution_count": 8
        }
      ]
    },
    {
      "cell_type": "code",
      "source": [
        "embeddings = outputs.last_hidden_state\n",
        "embeddings"
      ],
      "metadata": {
        "id": "uGNvC-yQAty9",
        "colab": {
          "base_uri": "https://localhost:8080/"
        },
        "outputId": "3c6a9841-0d3a-4229-b4ca-4e574f597e18"
      },
      "execution_count": 9,
      "outputs": [
        {
          "output_type": "execute_result",
          "data": {
            "text/plain": [
              "tensor([[[ 8.1261e-02, -3.8535e-01, -1.1094e-01,  ...,  2.2897e-02,\n",
              "           8.0473e-02, -3.6694e-02],\n",
              "         [ 1.4462e-01, -6.2237e-01, -2.0745e-01,  ..., -3.2335e-02,\n",
              "           8.0157e-02,  5.4949e-02],\n",
              "         [ 1.2681e-01, -8.3219e-01, -5.6564e-02,  ...,  1.3216e-01,\n",
              "           2.5443e-02,  6.9835e-02],\n",
              "         ...,\n",
              "         [ 1.1222e-01, -3.1861e-01, -1.1745e-01,  ...,  1.1792e-02,\n",
              "           7.6605e-02,  8.6306e-03],\n",
              "         [ 1.1222e-01, -3.1861e-01, -1.1745e-01,  ...,  1.1792e-02,\n",
              "           7.6605e-02,  8.6306e-03],\n",
              "         [ 1.1222e-01, -3.1861e-01, -1.1745e-01,  ...,  1.1792e-02,\n",
              "           7.6605e-02,  8.6306e-03]],\n",
              "\n",
              "        [[ 1.1109e-01, -3.8754e-01, -7.4494e-02,  ...,  1.4285e-02,\n",
              "           6.9957e-02,  6.5964e-03],\n",
              "         [ 1.8309e-01, -6.7927e-01, -1.5333e-01,  ...,  7.9889e-03,\n",
              "           6.7997e-02,  1.0110e-01],\n",
              "         [ 1.4960e-01, -8.2920e-01, -3.9345e-02,  ...,  1.4514e-01,\n",
              "           2.6434e-02,  7.9526e-02],\n",
              "         ...,\n",
              "         [ 1.1984e-01, -4.0382e-01, -8.4755e-02,  ..., -1.3907e-03,\n",
              "           4.3939e-02,  4.9044e-02],\n",
              "         [ 1.1984e-01, -4.0382e-01, -8.4755e-02,  ..., -1.3907e-03,\n",
              "           4.3939e-02,  4.9044e-02],\n",
              "         [ 1.1984e-01, -4.0382e-01, -8.4755e-02,  ..., -1.3907e-03,\n",
              "           4.3939e-02,  4.9044e-02]],\n",
              "\n",
              "        [[ 9.4915e-02, -3.7576e-01, -9.0805e-02,  ...,  5.0618e-02,\n",
              "           8.3154e-02, -1.8559e-02],\n",
              "         [ 1.8706e-01, -6.2385e-01, -1.9369e-01,  ...,  3.3598e-02,\n",
              "           4.3572e-02,  3.6652e-02],\n",
              "         [ 1.3289e-01, -7.8955e-01, -6.4954e-02,  ...,  1.4769e-01,\n",
              "           2.4107e-02,  5.2428e-02],\n",
              "         ...,\n",
              "         [ 1.0620e-01, -3.6054e-01, -9.4569e-02,  ...,  6.0495e-02,\n",
              "           3.7904e-02,  1.9937e-02],\n",
              "         [ 1.0620e-01, -3.6054e-01, -9.4569e-02,  ...,  6.0495e-02,\n",
              "           3.7904e-02,  1.9937e-02],\n",
              "         [ 1.0620e-01, -3.6054e-01, -9.4569e-02,  ...,  6.0495e-02,\n",
              "           3.7904e-02,  1.9937e-02]],\n",
              "\n",
              "        [[ 7.6049e-02, -3.9660e-01, -8.0918e-02,  ..., -4.0043e-03,\n",
              "           7.1954e-02, -2.0010e-03],\n",
              "         [ 2.0137e-01, -6.9227e-01, -1.8009e-01,  ..., -3.9753e-04,\n",
              "           6.1825e-02,  5.4863e-02],\n",
              "         [ 1.2337e-01, -8.9122e-01, -4.2253e-02,  ...,  1.2902e-01,\n",
              "           2.0575e-02,  6.9047e-02],\n",
              "         ...,\n",
              "         [ 6.8064e-02, -3.8088e-01, -1.0542e-01,  ..., -2.4098e-02,\n",
              "           3.9797e-02,  4.6113e-02],\n",
              "         [ 6.8064e-02, -3.8088e-01, -1.0542e-01,  ..., -2.4098e-02,\n",
              "           3.9797e-02,  4.6113e-02],\n",
              "         [ 6.8064e-02, -3.8088e-01, -1.0542e-01,  ..., -2.4098e-02,\n",
              "           3.9797e-02,  4.6113e-02]],\n",
              "\n",
              "        [[ 1.7270e-01, -3.4492e-01, -3.8864e-02,  ...,  4.2032e-02,\n",
              "           1.9586e-01,  2.5635e-02],\n",
              "         [ 2.2605e-01, -6.2341e-01, -1.7136e-01,  ...,  3.3743e-03,\n",
              "           7.3840e-02,  5.1563e-02],\n",
              "         [ 1.7907e-01, -8.5415e-01, -1.1076e-02,  ...,  1.3108e-01,\n",
              "           7.9892e-02,  1.0250e-01],\n",
              "         ...,\n",
              "         [ 1.6404e-01, -3.4792e-01, -5.6574e-02,  ...,  3.8834e-02,\n",
              "           1.1718e-01,  5.3759e-02],\n",
              "         [ 1.6404e-01, -3.4792e-01, -5.6574e-02,  ...,  3.8834e-02,\n",
              "           1.1718e-01,  5.3759e-02],\n",
              "         [ 1.6404e-01, -3.4792e-01, -5.6574e-02,  ...,  3.8834e-02,\n",
              "           1.1718e-01,  5.3759e-02]]], grad_fn=<NativeLayerNormBackward0>)"
            ]
          },
          "metadata": {},
          "execution_count": 9
        }
      ]
    },
    {
      "cell_type": "code",
      "source": [
        "pooled = outputs.pooler_output\n",
        "pooled.shape"
      ],
      "metadata": {
        "colab": {
          "base_uri": "https://localhost:8080/"
        },
        "id": "IYZbedHFqGik",
        "outputId": "894dea1c-3117-441a-efbf-17000c8c5ee3"
      },
      "execution_count": 10,
      "outputs": [
        {
          "output_type": "execute_result",
          "data": {
            "text/plain": [
              "torch.Size([5, 768])"
            ]
          },
          "metadata": {},
          "execution_count": 10
        }
      ]
    },
    {
      "cell_type": "markdown",
      "source": [],
      "metadata": {
        "id": "8017ZwtyJAkv"
      }
    },
    {
      "cell_type": "code",
      "source": [
        "embeddings.shape"
      ],
      "metadata": {
        "colab": {
          "base_uri": "https://localhost:8080/"
        },
        "id": "i9buAeagA1Gs",
        "outputId": "2cd00eed-af46-4e4f-82ab-0ea17c03f71d"
      },
      "execution_count": 11,
      "outputs": [
        {
          "output_type": "execute_result",
          "data": {
            "text/plain": [
              "torch.Size([5, 512, 768])"
            ]
          },
          "metadata": {},
          "execution_count": 11
        }
      ]
    },
    {
      "cell_type": "code",
      "source": [
        "attention_mask = tokens['attention_mask']\n",
        "attention_mask.shape"
      ],
      "metadata": {
        "id": "GUghXXV7A-Jm",
        "colab": {
          "base_uri": "https://localhost:8080/"
        },
        "outputId": "52ca7e61-5567-4e7f-d122-355495c2dd42"
      },
      "execution_count": 12,
      "outputs": [
        {
          "output_type": "execute_result",
          "data": {
            "text/plain": [
              "torch.Size([5, 512])"
            ]
          },
          "metadata": {},
          "execution_count": 12
        }
      ]
    },
    {
      "cell_type": "code",
      "source": [
        "\n",
        "resized_attention_mask = attention_mask.unsqueeze(-1).expand(embeddings.size()).float()\n",
        "resized_attention_mask.shape"
      ],
      "metadata": {
        "id": "4e-IJKmxH95C",
        "colab": {
          "base_uri": "https://localhost:8080/"
        },
        "outputId": "0ca6b24e-f6a8-4d7c-e998-efbbff2602e1"
      },
      "execution_count": 13,
      "outputs": [
        {
          "output_type": "execute_result",
          "data": {
            "text/plain": [
              "torch.Size([5, 512, 768])"
            ]
          },
          "metadata": {},
          "execution_count": 13
        }
      ]
    },
    {
      "cell_type": "code",
      "source": [
        "resized_attention_mask"
      ],
      "metadata": {
        "id": "t_QiNeD-IAQ4",
        "colab": {
          "base_uri": "https://localhost:8080/"
        },
        "outputId": "fd7c8ea0-4a40-440c-cc35-eeed235f8eeb"
      },
      "execution_count": 14,
      "outputs": [
        {
          "output_type": "execute_result",
          "data": {
            "text/plain": [
              "tensor([[[1., 1., 1.,  ..., 1., 1., 1.],\n",
              "         [1., 1., 1.,  ..., 1., 1., 1.],\n",
              "         [1., 1., 1.,  ..., 1., 1., 1.],\n",
              "         ...,\n",
              "         [0., 0., 0.,  ..., 0., 0., 0.],\n",
              "         [0., 0., 0.,  ..., 0., 0., 0.],\n",
              "         [0., 0., 0.,  ..., 0., 0., 0.]],\n",
              "\n",
              "        [[1., 1., 1.,  ..., 1., 1., 1.],\n",
              "         [1., 1., 1.,  ..., 1., 1., 1.],\n",
              "         [1., 1., 1.,  ..., 1., 1., 1.],\n",
              "         ...,\n",
              "         [0., 0., 0.,  ..., 0., 0., 0.],\n",
              "         [0., 0., 0.,  ..., 0., 0., 0.],\n",
              "         [0., 0., 0.,  ..., 0., 0., 0.]],\n",
              "\n",
              "        [[1., 1., 1.,  ..., 1., 1., 1.],\n",
              "         [1., 1., 1.,  ..., 1., 1., 1.],\n",
              "         [1., 1., 1.,  ..., 1., 1., 1.],\n",
              "         ...,\n",
              "         [0., 0., 0.,  ..., 0., 0., 0.],\n",
              "         [0., 0., 0.,  ..., 0., 0., 0.],\n",
              "         [0., 0., 0.,  ..., 0., 0., 0.]],\n",
              "\n",
              "        [[1., 1., 1.,  ..., 1., 1., 1.],\n",
              "         [1., 1., 1.,  ..., 1., 1., 1.],\n",
              "         [1., 1., 1.,  ..., 1., 1., 1.],\n",
              "         ...,\n",
              "         [0., 0., 0.,  ..., 0., 0., 0.],\n",
              "         [0., 0., 0.,  ..., 0., 0., 0.],\n",
              "         [0., 0., 0.,  ..., 0., 0., 0.]],\n",
              "\n",
              "        [[1., 1., 1.,  ..., 1., 1., 1.],\n",
              "         [1., 1., 1.,  ..., 1., 1., 1.],\n",
              "         [1., 1., 1.,  ..., 1., 1., 1.],\n",
              "         ...,\n",
              "         [0., 0., 0.,  ..., 0., 0., 0.],\n",
              "         [0., 0., 0.,  ..., 0., 0., 0.],\n",
              "         [0., 0., 0.,  ..., 0., 0., 0.]]])"
            ]
          },
          "metadata": {},
          "execution_count": 14
        }
      ]
    },
    {
      "cell_type": "code",
      "source": [
        "\n",
        "resized_attention_mask[0][0].shape"
      ],
      "metadata": {
        "id": "E4C2ZzZ-IDQ4",
        "colab": {
          "base_uri": "https://localhost:8080/"
        },
        "outputId": "88ccee3a-d666-405d-a31a-71adf298e6a4"
      },
      "execution_count": 15,
      "outputs": [
        {
          "output_type": "execute_result",
          "data": {
            "text/plain": [
              "torch.Size([768])"
            ]
          },
          "metadata": {},
          "execution_count": 15
        }
      ]
    },
    {
      "cell_type": "code",
      "source": [
        "masked_embedding = embeddings * resized_attention_mask\n",
        "masked_embedding.shape"
      ],
      "metadata": {
        "id": "cSrd0ertIFEf",
        "colab": {
          "base_uri": "https://localhost:8080/"
        },
        "outputId": "6900c2b5-fe7e-4137-b0d1-2579bf7b3e1e"
      },
      "execution_count": 16,
      "outputs": [
        {
          "output_type": "execute_result",
          "data": {
            "text/plain": [
              "torch.Size([5, 512, 768])"
            ]
          },
          "metadata": {},
          "execution_count": 16
        }
      ]
    },
    {
      "cell_type": "code",
      "source": [
        "\n",
        "masked_embedding"
      ],
      "metadata": {
        "id": "kdWWENo9IGqD",
        "colab": {
          "base_uri": "https://localhost:8080/"
        },
        "outputId": "1f5a518f-f866-40d6-a759-b48563dab467"
      },
      "execution_count": 17,
      "outputs": [
        {
          "output_type": "execute_result",
          "data": {
            "text/plain": [
              "tensor([[[ 8.1261e-02, -3.8535e-01, -1.1094e-01,  ...,  2.2897e-02,\n",
              "           8.0473e-02, -3.6694e-02],\n",
              "         [ 1.4462e-01, -6.2237e-01, -2.0745e-01,  ..., -3.2335e-02,\n",
              "           8.0157e-02,  5.4949e-02],\n",
              "         [ 1.2681e-01, -8.3219e-01, -5.6564e-02,  ...,  1.3216e-01,\n",
              "           2.5443e-02,  6.9835e-02],\n",
              "         ...,\n",
              "         [ 0.0000e+00, -0.0000e+00, -0.0000e+00,  ...,  0.0000e+00,\n",
              "           0.0000e+00,  0.0000e+00],\n",
              "         [ 0.0000e+00, -0.0000e+00, -0.0000e+00,  ...,  0.0000e+00,\n",
              "           0.0000e+00,  0.0000e+00],\n",
              "         [ 0.0000e+00, -0.0000e+00, -0.0000e+00,  ...,  0.0000e+00,\n",
              "           0.0000e+00,  0.0000e+00]],\n",
              "\n",
              "        [[ 1.1109e-01, -3.8754e-01, -7.4494e-02,  ...,  1.4285e-02,\n",
              "           6.9957e-02,  6.5964e-03],\n",
              "         [ 1.8309e-01, -6.7927e-01, -1.5333e-01,  ...,  7.9889e-03,\n",
              "           6.7997e-02,  1.0110e-01],\n",
              "         [ 1.4960e-01, -8.2920e-01, -3.9345e-02,  ...,  1.4514e-01,\n",
              "           2.6434e-02,  7.9526e-02],\n",
              "         ...,\n",
              "         [ 0.0000e+00, -0.0000e+00, -0.0000e+00,  ..., -0.0000e+00,\n",
              "           0.0000e+00,  0.0000e+00],\n",
              "         [ 0.0000e+00, -0.0000e+00, -0.0000e+00,  ..., -0.0000e+00,\n",
              "           0.0000e+00,  0.0000e+00],\n",
              "         [ 0.0000e+00, -0.0000e+00, -0.0000e+00,  ..., -0.0000e+00,\n",
              "           0.0000e+00,  0.0000e+00]],\n",
              "\n",
              "        [[ 9.4915e-02, -3.7576e-01, -9.0805e-02,  ...,  5.0618e-02,\n",
              "           8.3154e-02, -1.8559e-02],\n",
              "         [ 1.8706e-01, -6.2385e-01, -1.9369e-01,  ...,  3.3598e-02,\n",
              "           4.3572e-02,  3.6652e-02],\n",
              "         [ 1.3289e-01, -7.8955e-01, -6.4954e-02,  ...,  1.4769e-01,\n",
              "           2.4107e-02,  5.2428e-02],\n",
              "         ...,\n",
              "         [ 0.0000e+00, -0.0000e+00, -0.0000e+00,  ...,  0.0000e+00,\n",
              "           0.0000e+00,  0.0000e+00],\n",
              "         [ 0.0000e+00, -0.0000e+00, -0.0000e+00,  ...,  0.0000e+00,\n",
              "           0.0000e+00,  0.0000e+00],\n",
              "         [ 0.0000e+00, -0.0000e+00, -0.0000e+00,  ...,  0.0000e+00,\n",
              "           0.0000e+00,  0.0000e+00]],\n",
              "\n",
              "        [[ 7.6049e-02, -3.9660e-01, -8.0918e-02,  ..., -4.0043e-03,\n",
              "           7.1954e-02, -2.0010e-03],\n",
              "         [ 2.0137e-01, -6.9227e-01, -1.8009e-01,  ..., -3.9753e-04,\n",
              "           6.1825e-02,  5.4863e-02],\n",
              "         [ 1.2337e-01, -8.9122e-01, -4.2253e-02,  ...,  1.2902e-01,\n",
              "           2.0575e-02,  6.9047e-02],\n",
              "         ...,\n",
              "         [ 0.0000e+00, -0.0000e+00, -0.0000e+00,  ..., -0.0000e+00,\n",
              "           0.0000e+00,  0.0000e+00],\n",
              "         [ 0.0000e+00, -0.0000e+00, -0.0000e+00,  ..., -0.0000e+00,\n",
              "           0.0000e+00,  0.0000e+00],\n",
              "         [ 0.0000e+00, -0.0000e+00, -0.0000e+00,  ..., -0.0000e+00,\n",
              "           0.0000e+00,  0.0000e+00]],\n",
              "\n",
              "        [[ 1.7270e-01, -3.4492e-01, -3.8864e-02,  ...,  4.2032e-02,\n",
              "           1.9586e-01,  2.5635e-02],\n",
              "         [ 2.2605e-01, -6.2341e-01, -1.7136e-01,  ...,  3.3743e-03,\n",
              "           7.3840e-02,  5.1563e-02],\n",
              "         [ 1.7907e-01, -8.5415e-01, -1.1076e-02,  ...,  1.3108e-01,\n",
              "           7.9892e-02,  1.0250e-01],\n",
              "         ...,\n",
              "         [ 0.0000e+00, -0.0000e+00, -0.0000e+00,  ...,  0.0000e+00,\n",
              "           0.0000e+00,  0.0000e+00],\n",
              "         [ 0.0000e+00, -0.0000e+00, -0.0000e+00,  ...,  0.0000e+00,\n",
              "           0.0000e+00,  0.0000e+00],\n",
              "         [ 0.0000e+00, -0.0000e+00, -0.0000e+00,  ...,  0.0000e+00,\n",
              "           0.0000e+00,  0.0000e+00]]], grad_fn=<MulBackward0>)"
            ]
          },
          "metadata": {},
          "execution_count": 17
        }
      ]
    },
    {
      "cell_type": "code",
      "source": [
        "summed_masked_embeddings = torch.sum(masked_embedding, 1)\n",
        "summed_masked_embeddings.shape"
      ],
      "metadata": {
        "id": "x64nEBo6IJoi",
        "colab": {
          "base_uri": "https://localhost:8080/"
        },
        "outputId": "12421991-0042-4387-aacf-08b4bb350aa4"
      },
      "execution_count": 18,
      "outputs": [
        {
          "output_type": "execute_result",
          "data": {
            "text/plain": [
              "torch.Size([5, 768])"
            ]
          },
          "metadata": {},
          "execution_count": 18
        }
      ]
    },
    {
      "cell_type": "code",
      "source": [
        "\n",
        "summed_masked_embeddings"
      ],
      "metadata": {
        "id": "8ge59uMlILwy",
        "colab": {
          "base_uri": "https://localhost:8080/"
        },
        "outputId": "bd09ef2d-bc35-4149-e2eb-aeb319600cda"
      },
      "execution_count": 19,
      "outputs": [
        {
          "output_type": "execute_result",
          "data": {
            "text/plain": [
              "tensor([[  8.9733, -30.1590,  -8.2105,  ...,   0.7942,   5.2706,   0.2227],\n",
              "        [ 10.7903, -35.7296,  -8.1999,  ...,  -2.2557,   4.4518,   2.4432],\n",
              "        [  9.8141, -33.1844,  -8.6742,  ...,   2.5165,   3.6744,   1.5743],\n",
              "        [  5.8534, -27.5625,  -7.6367,  ...,  -1.7102,   2.5608,   2.5240],\n",
              "        [ 11.0374, -29.8491,  -6.6267,  ...,   1.4834,   9.4139,   2.5497]],\n",
              "       grad_fn=<SumBackward1>)"
            ]
          },
          "metadata": {},
          "execution_count": 19
        }
      ]
    },
    {
      "cell_type": "code",
      "source": [
        "\n",
        "resized_attention_mask"
      ],
      "metadata": {
        "id": "ITlMLHOFINu8",
        "colab": {
          "base_uri": "https://localhost:8080/"
        },
        "outputId": "76d9cb55-fdc8-4861-8509-41b0083ae84e"
      },
      "execution_count": 20,
      "outputs": [
        {
          "output_type": "execute_result",
          "data": {
            "text/plain": [
              "tensor([[[1., 1., 1.,  ..., 1., 1., 1.],\n",
              "         [1., 1., 1.,  ..., 1., 1., 1.],\n",
              "         [1., 1., 1.,  ..., 1., 1., 1.],\n",
              "         ...,\n",
              "         [0., 0., 0.,  ..., 0., 0., 0.],\n",
              "         [0., 0., 0.,  ..., 0., 0., 0.],\n",
              "         [0., 0., 0.,  ..., 0., 0., 0.]],\n",
              "\n",
              "        [[1., 1., 1.,  ..., 1., 1., 1.],\n",
              "         [1., 1., 1.,  ..., 1., 1., 1.],\n",
              "         [1., 1., 1.,  ..., 1., 1., 1.],\n",
              "         ...,\n",
              "         [0., 0., 0.,  ..., 0., 0., 0.],\n",
              "         [0., 0., 0.,  ..., 0., 0., 0.],\n",
              "         [0., 0., 0.,  ..., 0., 0., 0.]],\n",
              "\n",
              "        [[1., 1., 1.,  ..., 1., 1., 1.],\n",
              "         [1., 1., 1.,  ..., 1., 1., 1.],\n",
              "         [1., 1., 1.,  ..., 1., 1., 1.],\n",
              "         ...,\n",
              "         [0., 0., 0.,  ..., 0., 0., 0.],\n",
              "         [0., 0., 0.,  ..., 0., 0., 0.],\n",
              "         [0., 0., 0.,  ..., 0., 0., 0.]],\n",
              "\n",
              "        [[1., 1., 1.,  ..., 1., 1., 1.],\n",
              "         [1., 1., 1.,  ..., 1., 1., 1.],\n",
              "         [1., 1., 1.,  ..., 1., 1., 1.],\n",
              "         ...,\n",
              "         [0., 0., 0.,  ..., 0., 0., 0.],\n",
              "         [0., 0., 0.,  ..., 0., 0., 0.],\n",
              "         [0., 0., 0.,  ..., 0., 0., 0.]],\n",
              "\n",
              "        [[1., 1., 1.,  ..., 1., 1., 1.],\n",
              "         [1., 1., 1.,  ..., 1., 1., 1.],\n",
              "         [1., 1., 1.,  ..., 1., 1., 1.],\n",
              "         ...,\n",
              "         [0., 0., 0.,  ..., 0., 0., 0.],\n",
              "         [0., 0., 0.,  ..., 0., 0., 0.],\n",
              "         [0., 0., 0.,  ..., 0., 0., 0.]]])"
            ]
          },
          "metadata": {},
          "execution_count": 20
        }
      ]
    },
    {
      "cell_type": "code",
      "source": [
        "count_of_one_in_mask_tensor = torch.clamp(resized_attention_mask.sum(1), min=1e-9 )\n",
        "\n",
        "count_of_one_in_mask_tensor.shape"
      ],
      "metadata": {
        "id": "nr_onLCWIQWn",
        "colab": {
          "base_uri": "https://localhost:8080/"
        },
        "outputId": "657f52f8-e7fc-4a24-fca1-9918fb2e66cd"
      },
      "execution_count": 21,
      "outputs": [
        {
          "output_type": "execute_result",
          "data": {
            "text/plain": [
              "torch.Size([5, 768])"
            ]
          },
          "metadata": {},
          "execution_count": 21
        }
      ]
    },
    {
      "cell_type": "code",
      "source": [
        "\n",
        "count_of_one_in_mask_tensor"
      ],
      "metadata": {
        "id": "rqHW-4a0ISC1",
        "colab": {
          "base_uri": "https://localhost:8080/"
        },
        "outputId": "e8632be4-37f1-48aa-a0db-98754163913c"
      },
      "execution_count": 22,
      "outputs": [
        {
          "output_type": "execute_result",
          "data": {
            "text/plain": [
              "tensor([[71., 71., 71.,  ..., 71., 71., 71.],\n",
              "        [80., 80., 80.,  ..., 80., 80., 80.],\n",
              "        [78., 78., 78.,  ..., 78., 78., 78.],\n",
              "        [69., 69., 69.,  ..., 69., 69., 69.],\n",
              "        [75., 75., 75.,  ..., 75., 75., 75.]])"
            ]
          },
          "metadata": {},
          "execution_count": 22
        }
      ]
    },
    {
      "cell_type": "code",
      "source": [
        "\n",
        "summed_masked_embeddings.shape"
      ],
      "metadata": {
        "id": "uavDhRjaIUM0",
        "colab": {
          "base_uri": "https://localhost:8080/"
        },
        "outputId": "60476467-78a9-4983-e123-9150201aac91"
      },
      "execution_count": 23,
      "outputs": [
        {
          "output_type": "execute_result",
          "data": {
            "text/plain": [
              "torch.Size([5, 768])"
            ]
          },
          "metadata": {},
          "execution_count": 23
        }
      ]
    },
    {
      "cell_type": "code",
      "source": [
        "\n",
        "count_of_one_in_mask_tensor.shape"
      ],
      "metadata": {
        "id": "WxpNztK9IWU-",
        "colab": {
          "base_uri": "https://localhost:8080/"
        },
        "outputId": "3cd12e4d-ef01-48f2-c202-62a28f0d6e93"
      },
      "execution_count": 24,
      "outputs": [
        {
          "output_type": "execute_result",
          "data": {
            "text/plain": [
              "torch.Size([5, 768])"
            ]
          },
          "metadata": {},
          "execution_count": 24
        }
      ]
    },
    {
      "cell_type": "code",
      "source": [
        "mean_pooled = summed_masked_embeddings / count_of_one_in_mask_tensor"
      ],
      "metadata": {
        "id": "u3EcQhiIIYk-"
      },
      "execution_count": 25,
      "outputs": []
    },
    {
      "cell_type": "code",
      "source": [
        "mean_pooled.shape"
      ],
      "metadata": {
        "id": "6El4iLTNIaF_",
        "colab": {
          "base_uri": "https://localhost:8080/"
        },
        "outputId": "9e2c1863-53a4-4c71-a44a-a95b4d75b7b8"
      },
      "execution_count": 26,
      "outputs": [
        {
          "output_type": "execute_result",
          "data": {
            "text/plain": [
              "torch.Size([5, 768])"
            ]
          },
          "metadata": {},
          "execution_count": 26
        }
      ]
    },
    {
      "cell_type": "code",
      "source": [
        "from sklearn.metrics.pairwise import cosine_similarity\n",
        "\n",
        "mean_pooled = mean_pooled.detach().numpy()\n",
        "\n",
        "cosine_similarity([mean_pooled[0]], mean_pooled[1:] )"
      ],
      "metadata": {
        "id": "KKWPn_qXIcHl",
        "colab": {
          "base_uri": "https://localhost:8080/"
        },
        "outputId": "dafb7d20-fff1-43ea-817a-e5925e0e2b62"
      },
      "execution_count": 27,
      "outputs": [
        {
          "output_type": "execute_result",
          "data": {
            "text/plain": [
              "array([[0.922446 , 0.9616895, 0.8938641, 0.8929101]], dtype=float32)"
            ]
          },
          "metadata": {},
          "execution_count": 27
        }
      ]
    }
  ],
  "metadata": {
    "colab": {
      "provenance": [],
      "include_colab_link": true
    },
    "kernelspec": {
      "display_name": "Python 3",
      "name": "python3"
    },
    "language_info": {
      "name": "python"
    },
    "widgets": {
      "application/vnd.jupyter.widget-state+json": {
        "63852799672e491d9691a78a20d5420d": {
          "model_module": "@jupyter-widgets/controls",
          "model_name": "HBoxModel",
          "model_module_version": "1.5.0",
          "state": {
            "_dom_classes": [],
            "_model_module": "@jupyter-widgets/controls",
            "_model_module_version": "1.5.0",
            "_model_name": "HBoxModel",
            "_view_count": null,
            "_view_module": "@jupyter-widgets/controls",
            "_view_module_version": "1.5.0",
            "_view_name": "HBoxView",
            "box_style": "",
            "children": [
              "IPY_MODEL_f792b975530d40b48e7dc302c83cb7b3",
              "IPY_MODEL_0cca17e9e10245d99cd1fd9b351958dc",
              "IPY_MODEL_87397ab4fd6c443f97d94c5834abea2a"
            ],
            "layout": "IPY_MODEL_1ea045e5c70840bf881a55f233680c73"
          }
        },
        "f792b975530d40b48e7dc302c83cb7b3": {
          "model_module": "@jupyter-widgets/controls",
          "model_name": "HTMLModel",
          "model_module_version": "1.5.0",
          "state": {
            "_dom_classes": [],
            "_model_module": "@jupyter-widgets/controls",
            "_model_module_version": "1.5.0",
            "_model_name": "HTMLModel",
            "_view_count": null,
            "_view_module": "@jupyter-widgets/controls",
            "_view_module_version": "1.5.0",
            "_view_name": "HTMLView",
            "description": "",
            "description_tooltip": null,
            "layout": "IPY_MODEL_2b724063d31b4a49922fe5ef94dce366",
            "placeholder": "​",
            "style": "IPY_MODEL_abcb5f57f6e8476388897b89d5c63a3f",
            "value": "tokenizer_config.json: 100%"
          }
        },
        "0cca17e9e10245d99cd1fd9b351958dc": {
          "model_module": "@jupyter-widgets/controls",
          "model_name": "FloatProgressModel",
          "model_module_version": "1.5.0",
          "state": {
            "_dom_classes": [],
            "_model_module": "@jupyter-widgets/controls",
            "_model_module_version": "1.5.0",
            "_model_name": "FloatProgressModel",
            "_view_count": null,
            "_view_module": "@jupyter-widgets/controls",
            "_view_module_version": "1.5.0",
            "_view_name": "ProgressView",
            "bar_style": "success",
            "description": "",
            "description_tooltip": null,
            "layout": "IPY_MODEL_76b52edc9102448c8afdc8e938fe8cef",
            "max": 363,
            "min": 0,
            "orientation": "horizontal",
            "style": "IPY_MODEL_cc93380709724ff1a3600def40228f44",
            "value": 363
          }
        },
        "87397ab4fd6c443f97d94c5834abea2a": {
          "model_module": "@jupyter-widgets/controls",
          "model_name": "HTMLModel",
          "model_module_version": "1.5.0",
          "state": {
            "_dom_classes": [],
            "_model_module": "@jupyter-widgets/controls",
            "_model_module_version": "1.5.0",
            "_model_name": "HTMLModel",
            "_view_count": null,
            "_view_module": "@jupyter-widgets/controls",
            "_view_module_version": "1.5.0",
            "_view_name": "HTMLView",
            "description": "",
            "description_tooltip": null,
            "layout": "IPY_MODEL_c802ea85f2ad434e93c4a84e9979ae5a",
            "placeholder": "​",
            "style": "IPY_MODEL_4bbd261dca354d0a9fd505249d0a1489",
            "value": " 363/363 [00:00&lt;00:00, 5.20kB/s]"
          }
        },
        "1ea045e5c70840bf881a55f233680c73": {
          "model_module": "@jupyter-widgets/base",
          "model_name": "LayoutModel",
          "model_module_version": "1.2.0",
          "state": {
            "_model_module": "@jupyter-widgets/base",
            "_model_module_version": "1.2.0",
            "_model_name": "LayoutModel",
            "_view_count": null,
            "_view_module": "@jupyter-widgets/base",
            "_view_module_version": "1.2.0",
            "_view_name": "LayoutView",
            "align_content": null,
            "align_items": null,
            "align_self": null,
            "border": null,
            "bottom": null,
            "display": null,
            "flex": null,
            "flex_flow": null,
            "grid_area": null,
            "grid_auto_columns": null,
            "grid_auto_flow": null,
            "grid_auto_rows": null,
            "grid_column": null,
            "grid_gap": null,
            "grid_row": null,
            "grid_template_areas": null,
            "grid_template_columns": null,
            "grid_template_rows": null,
            "height": null,
            "justify_content": null,
            "justify_items": null,
            "left": null,
            "margin": null,
            "max_height": null,
            "max_width": null,
            "min_height": null,
            "min_width": null,
            "object_fit": null,
            "object_position": null,
            "order": null,
            "overflow": null,
            "overflow_x": null,
            "overflow_y": null,
            "padding": null,
            "right": null,
            "top": null,
            "visibility": null,
            "width": null
          }
        },
        "2b724063d31b4a49922fe5ef94dce366": {
          "model_module": "@jupyter-widgets/base",
          "model_name": "LayoutModel",
          "model_module_version": "1.2.0",
          "state": {
            "_model_module": "@jupyter-widgets/base",
            "_model_module_version": "1.2.0",
            "_model_name": "LayoutModel",
            "_view_count": null,
            "_view_module": "@jupyter-widgets/base",
            "_view_module_version": "1.2.0",
            "_view_name": "LayoutView",
            "align_content": null,
            "align_items": null,
            "align_self": null,
            "border": null,
            "bottom": null,
            "display": null,
            "flex": null,
            "flex_flow": null,
            "grid_area": null,
            "grid_auto_columns": null,
            "grid_auto_flow": null,
            "grid_auto_rows": null,
            "grid_column": null,
            "grid_gap": null,
            "grid_row": null,
            "grid_template_areas": null,
            "grid_template_columns": null,
            "grid_template_rows": null,
            "height": null,
            "justify_content": null,
            "justify_items": null,
            "left": null,
            "margin": null,
            "max_height": null,
            "max_width": null,
            "min_height": null,
            "min_width": null,
            "object_fit": null,
            "object_position": null,
            "order": null,
            "overflow": null,
            "overflow_x": null,
            "overflow_y": null,
            "padding": null,
            "right": null,
            "top": null,
            "visibility": null,
            "width": null
          }
        },
        "abcb5f57f6e8476388897b89d5c63a3f": {
          "model_module": "@jupyter-widgets/controls",
          "model_name": "DescriptionStyleModel",
          "model_module_version": "1.5.0",
          "state": {
            "_model_module": "@jupyter-widgets/controls",
            "_model_module_version": "1.5.0",
            "_model_name": "DescriptionStyleModel",
            "_view_count": null,
            "_view_module": "@jupyter-widgets/base",
            "_view_module_version": "1.2.0",
            "_view_name": "StyleView",
            "description_width": ""
          }
        },
        "76b52edc9102448c8afdc8e938fe8cef": {
          "model_module": "@jupyter-widgets/base",
          "model_name": "LayoutModel",
          "model_module_version": "1.2.0",
          "state": {
            "_model_module": "@jupyter-widgets/base",
            "_model_module_version": "1.2.0",
            "_model_name": "LayoutModel",
            "_view_count": null,
            "_view_module": "@jupyter-widgets/base",
            "_view_module_version": "1.2.0",
            "_view_name": "LayoutView",
            "align_content": null,
            "align_items": null,
            "align_self": null,
            "border": null,
            "bottom": null,
            "display": null,
            "flex": null,
            "flex_flow": null,
            "grid_area": null,
            "grid_auto_columns": null,
            "grid_auto_flow": null,
            "grid_auto_rows": null,
            "grid_column": null,
            "grid_gap": null,
            "grid_row": null,
            "grid_template_areas": null,
            "grid_template_columns": null,
            "grid_template_rows": null,
            "height": null,
            "justify_content": null,
            "justify_items": null,
            "left": null,
            "margin": null,
            "max_height": null,
            "max_width": null,
            "min_height": null,
            "min_width": null,
            "object_fit": null,
            "object_position": null,
            "order": null,
            "overflow": null,
            "overflow_x": null,
            "overflow_y": null,
            "padding": null,
            "right": null,
            "top": null,
            "visibility": null,
            "width": null
          }
        },
        "cc93380709724ff1a3600def40228f44": {
          "model_module": "@jupyter-widgets/controls",
          "model_name": "ProgressStyleModel",
          "model_module_version": "1.5.0",
          "state": {
            "_model_module": "@jupyter-widgets/controls",
            "_model_module_version": "1.5.0",
            "_model_name": "ProgressStyleModel",
            "_view_count": null,
            "_view_module": "@jupyter-widgets/base",
            "_view_module_version": "1.2.0",
            "_view_name": "StyleView",
            "bar_color": null,
            "description_width": ""
          }
        },
        "c802ea85f2ad434e93c4a84e9979ae5a": {
          "model_module": "@jupyter-widgets/base",
          "model_name": "LayoutModel",
          "model_module_version": "1.2.0",
          "state": {
            "_model_module": "@jupyter-widgets/base",
            "_model_module_version": "1.2.0",
            "_model_name": "LayoutModel",
            "_view_count": null,
            "_view_module": "@jupyter-widgets/base",
            "_view_module_version": "1.2.0",
            "_view_name": "LayoutView",
            "align_content": null,
            "align_items": null,
            "align_self": null,
            "border": null,
            "bottom": null,
            "display": null,
            "flex": null,
            "flex_flow": null,
            "grid_area": null,
            "grid_auto_columns": null,
            "grid_auto_flow": null,
            "grid_auto_rows": null,
            "grid_column": null,
            "grid_gap": null,
            "grid_row": null,
            "grid_template_areas": null,
            "grid_template_columns": null,
            "grid_template_rows": null,
            "height": null,
            "justify_content": null,
            "justify_items": null,
            "left": null,
            "margin": null,
            "max_height": null,
            "max_width": null,
            "min_height": null,
            "min_width": null,
            "object_fit": null,
            "object_position": null,
            "order": null,
            "overflow": null,
            "overflow_x": null,
            "overflow_y": null,
            "padding": null,
            "right": null,
            "top": null,
            "visibility": null,
            "width": null
          }
        },
        "4bbd261dca354d0a9fd505249d0a1489": {
          "model_module": "@jupyter-widgets/controls",
          "model_name": "DescriptionStyleModel",
          "model_module_version": "1.5.0",
          "state": {
            "_model_module": "@jupyter-widgets/controls",
            "_model_module_version": "1.5.0",
            "_model_name": "DescriptionStyleModel",
            "_view_count": null,
            "_view_module": "@jupyter-widgets/base",
            "_view_module_version": "1.2.0",
            "_view_name": "StyleView",
            "description_width": ""
          }
        },
        "b3d1dfc234624e0a8c5c8edef9aa4c30": {
          "model_module": "@jupyter-widgets/controls",
          "model_name": "HBoxModel",
          "model_module_version": "1.5.0",
          "state": {
            "_dom_classes": [],
            "_model_module": "@jupyter-widgets/controls",
            "_model_module_version": "1.5.0",
            "_model_name": "HBoxModel",
            "_view_count": null,
            "_view_module": "@jupyter-widgets/controls",
            "_view_module_version": "1.5.0",
            "_view_name": "HBoxView",
            "box_style": "",
            "children": [
              "IPY_MODEL_2b8a004c75034ddb90f59384b05c6ec5",
              "IPY_MODEL_eb462f7c563d4c069f6cfaad3448ffee",
              "IPY_MODEL_da40ede0b5a74fde9031c3c67c0fa1ff"
            ],
            "layout": "IPY_MODEL_50e6ab1c58f84dc7b148a5159a40be0e"
          }
        },
        "2b8a004c75034ddb90f59384b05c6ec5": {
          "model_module": "@jupyter-widgets/controls",
          "model_name": "HTMLModel",
          "model_module_version": "1.5.0",
          "state": {
            "_dom_classes": [],
            "_model_module": "@jupyter-widgets/controls",
            "_model_module_version": "1.5.0",
            "_model_name": "HTMLModel",
            "_view_count": null,
            "_view_module": "@jupyter-widgets/controls",
            "_view_module_version": "1.5.0",
            "_view_name": "HTMLView",
            "description": "",
            "description_tooltip": null,
            "layout": "IPY_MODEL_c9d21dbc5dc24b1aaa8b4be273d69b30",
            "placeholder": "​",
            "style": "IPY_MODEL_b42c31265135496f8ef786437aa16e2c",
            "value": "vocab.txt: 100%"
          }
        },
        "eb462f7c563d4c069f6cfaad3448ffee": {
          "model_module": "@jupyter-widgets/controls",
          "model_name": "FloatProgressModel",
          "model_module_version": "1.5.0",
          "state": {
            "_dom_classes": [],
            "_model_module": "@jupyter-widgets/controls",
            "_model_module_version": "1.5.0",
            "_model_name": "FloatProgressModel",
            "_view_count": null,
            "_view_module": "@jupyter-widgets/controls",
            "_view_module_version": "1.5.0",
            "_view_name": "ProgressView",
            "bar_style": "success",
            "description": "",
            "description_tooltip": null,
            "layout": "IPY_MODEL_6e62cdb338b24470b20d08499beed5b0",
            "max": 231536,
            "min": 0,
            "orientation": "horizontal",
            "style": "IPY_MODEL_2b31915f71d944d68833b17c543e6284",
            "value": 231536
          }
        },
        "da40ede0b5a74fde9031c3c67c0fa1ff": {
          "model_module": "@jupyter-widgets/controls",
          "model_name": "HTMLModel",
          "model_module_version": "1.5.0",
          "state": {
            "_dom_classes": [],
            "_model_module": "@jupyter-widgets/controls",
            "_model_module_version": "1.5.0",
            "_model_name": "HTMLModel",
            "_view_count": null,
            "_view_module": "@jupyter-widgets/controls",
            "_view_module_version": "1.5.0",
            "_view_name": "HTMLView",
            "description": "",
            "description_tooltip": null,
            "layout": "IPY_MODEL_fbd3493e9c3848ef882ff370107f8542",
            "placeholder": "​",
            "style": "IPY_MODEL_822684d8ce6747708ac77499fd5099e4",
            "value": " 232k/232k [00:00&lt;00:00, 2.29MB/s]"
          }
        },
        "50e6ab1c58f84dc7b148a5159a40be0e": {
          "model_module": "@jupyter-widgets/base",
          "model_name": "LayoutModel",
          "model_module_version": "1.2.0",
          "state": {
            "_model_module": "@jupyter-widgets/base",
            "_model_module_version": "1.2.0",
            "_model_name": "LayoutModel",
            "_view_count": null,
            "_view_module": "@jupyter-widgets/base",
            "_view_module_version": "1.2.0",
            "_view_name": "LayoutView",
            "align_content": null,
            "align_items": null,
            "align_self": null,
            "border": null,
            "bottom": null,
            "display": null,
            "flex": null,
            "flex_flow": null,
            "grid_area": null,
            "grid_auto_columns": null,
            "grid_auto_flow": null,
            "grid_auto_rows": null,
            "grid_column": null,
            "grid_gap": null,
            "grid_row": null,
            "grid_template_areas": null,
            "grid_template_columns": null,
            "grid_template_rows": null,
            "height": null,
            "justify_content": null,
            "justify_items": null,
            "left": null,
            "margin": null,
            "max_height": null,
            "max_width": null,
            "min_height": null,
            "min_width": null,
            "object_fit": null,
            "object_position": null,
            "order": null,
            "overflow": null,
            "overflow_x": null,
            "overflow_y": null,
            "padding": null,
            "right": null,
            "top": null,
            "visibility": null,
            "width": null
          }
        },
        "c9d21dbc5dc24b1aaa8b4be273d69b30": {
          "model_module": "@jupyter-widgets/base",
          "model_name": "LayoutModel",
          "model_module_version": "1.2.0",
          "state": {
            "_model_module": "@jupyter-widgets/base",
            "_model_module_version": "1.2.0",
            "_model_name": "LayoutModel",
            "_view_count": null,
            "_view_module": "@jupyter-widgets/base",
            "_view_module_version": "1.2.0",
            "_view_name": "LayoutView",
            "align_content": null,
            "align_items": null,
            "align_self": null,
            "border": null,
            "bottom": null,
            "display": null,
            "flex": null,
            "flex_flow": null,
            "grid_area": null,
            "grid_auto_columns": null,
            "grid_auto_flow": null,
            "grid_auto_rows": null,
            "grid_column": null,
            "grid_gap": null,
            "grid_row": null,
            "grid_template_areas": null,
            "grid_template_columns": null,
            "grid_template_rows": null,
            "height": null,
            "justify_content": null,
            "justify_items": null,
            "left": null,
            "margin": null,
            "max_height": null,
            "max_width": null,
            "min_height": null,
            "min_width": null,
            "object_fit": null,
            "object_position": null,
            "order": null,
            "overflow": null,
            "overflow_x": null,
            "overflow_y": null,
            "padding": null,
            "right": null,
            "top": null,
            "visibility": null,
            "width": null
          }
        },
        "b42c31265135496f8ef786437aa16e2c": {
          "model_module": "@jupyter-widgets/controls",
          "model_name": "DescriptionStyleModel",
          "model_module_version": "1.5.0",
          "state": {
            "_model_module": "@jupyter-widgets/controls",
            "_model_module_version": "1.5.0",
            "_model_name": "DescriptionStyleModel",
            "_view_count": null,
            "_view_module": "@jupyter-widgets/base",
            "_view_module_version": "1.2.0",
            "_view_name": "StyleView",
            "description_width": ""
          }
        },
        "6e62cdb338b24470b20d08499beed5b0": {
          "model_module": "@jupyter-widgets/base",
          "model_name": "LayoutModel",
          "model_module_version": "1.2.0",
          "state": {
            "_model_module": "@jupyter-widgets/base",
            "_model_module_version": "1.2.0",
            "_model_name": "LayoutModel",
            "_view_count": null,
            "_view_module": "@jupyter-widgets/base",
            "_view_module_version": "1.2.0",
            "_view_name": "LayoutView",
            "align_content": null,
            "align_items": null,
            "align_self": null,
            "border": null,
            "bottom": null,
            "display": null,
            "flex": null,
            "flex_flow": null,
            "grid_area": null,
            "grid_auto_columns": null,
            "grid_auto_flow": null,
            "grid_auto_rows": null,
            "grid_column": null,
            "grid_gap": null,
            "grid_row": null,
            "grid_template_areas": null,
            "grid_template_columns": null,
            "grid_template_rows": null,
            "height": null,
            "justify_content": null,
            "justify_items": null,
            "left": null,
            "margin": null,
            "max_height": null,
            "max_width": null,
            "min_height": null,
            "min_width": null,
            "object_fit": null,
            "object_position": null,
            "order": null,
            "overflow": null,
            "overflow_x": null,
            "overflow_y": null,
            "padding": null,
            "right": null,
            "top": null,
            "visibility": null,
            "width": null
          }
        },
        "2b31915f71d944d68833b17c543e6284": {
          "model_module": "@jupyter-widgets/controls",
          "model_name": "ProgressStyleModel",
          "model_module_version": "1.5.0",
          "state": {
            "_model_module": "@jupyter-widgets/controls",
            "_model_module_version": "1.5.0",
            "_model_name": "ProgressStyleModel",
            "_view_count": null,
            "_view_module": "@jupyter-widgets/base",
            "_view_module_version": "1.2.0",
            "_view_name": "StyleView",
            "bar_color": null,
            "description_width": ""
          }
        },
        "fbd3493e9c3848ef882ff370107f8542": {
          "model_module": "@jupyter-widgets/base",
          "model_name": "LayoutModel",
          "model_module_version": "1.2.0",
          "state": {
            "_model_module": "@jupyter-widgets/base",
            "_model_module_version": "1.2.0",
            "_model_name": "LayoutModel",
            "_view_count": null,
            "_view_module": "@jupyter-widgets/base",
            "_view_module_version": "1.2.0",
            "_view_name": "LayoutView",
            "align_content": null,
            "align_items": null,
            "align_self": null,
            "border": null,
            "bottom": null,
            "display": null,
            "flex": null,
            "flex_flow": null,
            "grid_area": null,
            "grid_auto_columns": null,
            "grid_auto_flow": null,
            "grid_auto_rows": null,
            "grid_column": null,
            "grid_gap": null,
            "grid_row": null,
            "grid_template_areas": null,
            "grid_template_columns": null,
            "grid_template_rows": null,
            "height": null,
            "justify_content": null,
            "justify_items": null,
            "left": null,
            "margin": null,
            "max_height": null,
            "max_width": null,
            "min_height": null,
            "min_width": null,
            "object_fit": null,
            "object_position": null,
            "order": null,
            "overflow": null,
            "overflow_x": null,
            "overflow_y": null,
            "padding": null,
            "right": null,
            "top": null,
            "visibility": null,
            "width": null
          }
        },
        "822684d8ce6747708ac77499fd5099e4": {
          "model_module": "@jupyter-widgets/controls",
          "model_name": "DescriptionStyleModel",
          "model_module_version": "1.5.0",
          "state": {
            "_model_module": "@jupyter-widgets/controls",
            "_model_module_version": "1.5.0",
            "_model_name": "DescriptionStyleModel",
            "_view_count": null,
            "_view_module": "@jupyter-widgets/base",
            "_view_module_version": "1.2.0",
            "_view_name": "StyleView",
            "description_width": ""
          }
        },
        "f6f53a1b21ed4ac188cf3c134cef6e82": {
          "model_module": "@jupyter-widgets/controls",
          "model_name": "HBoxModel",
          "model_module_version": "1.5.0",
          "state": {
            "_dom_classes": [],
            "_model_module": "@jupyter-widgets/controls",
            "_model_module_version": "1.5.0",
            "_model_name": "HBoxModel",
            "_view_count": null,
            "_view_module": "@jupyter-widgets/controls",
            "_view_module_version": "1.5.0",
            "_view_name": "HBoxView",
            "box_style": "",
            "children": [
              "IPY_MODEL_628f48e6a001474b8f098c2635543b6b",
              "IPY_MODEL_ffc949f367ba4a74b462a85f860cdc31",
              "IPY_MODEL_ddd1c5e085d4457182152b1475a6c66a"
            ],
            "layout": "IPY_MODEL_39234afff0ca45c2bce91cbde9b10b81"
          }
        },
        "628f48e6a001474b8f098c2635543b6b": {
          "model_module": "@jupyter-widgets/controls",
          "model_name": "HTMLModel",
          "model_module_version": "1.5.0",
          "state": {
            "_dom_classes": [],
            "_model_module": "@jupyter-widgets/controls",
            "_model_module_version": "1.5.0",
            "_model_name": "HTMLModel",
            "_view_count": null,
            "_view_module": "@jupyter-widgets/controls",
            "_view_module_version": "1.5.0",
            "_view_name": "HTMLView",
            "description": "",
            "description_tooltip": null,
            "layout": "IPY_MODEL_0bb28bf77d38454ca49fc72f7bea84a2",
            "placeholder": "​",
            "style": "IPY_MODEL_7cd8b873766d409abadaa67705c60bc5",
            "value": "tokenizer.json: 100%"
          }
        },
        "ffc949f367ba4a74b462a85f860cdc31": {
          "model_module": "@jupyter-widgets/controls",
          "model_name": "FloatProgressModel",
          "model_module_version": "1.5.0",
          "state": {
            "_dom_classes": [],
            "_model_module": "@jupyter-widgets/controls",
            "_model_module_version": "1.5.0",
            "_model_name": "FloatProgressModel",
            "_view_count": null,
            "_view_module": "@jupyter-widgets/controls",
            "_view_module_version": "1.5.0",
            "_view_name": "ProgressView",
            "bar_style": "success",
            "description": "",
            "description_tooltip": null,
            "layout": "IPY_MODEL_52cc0977926442a481b72d84b989d265",
            "max": 466021,
            "min": 0,
            "orientation": "horizontal",
            "style": "IPY_MODEL_ff58919a845b4bea83e39cb4db6572cb",
            "value": 466021
          }
        },
        "ddd1c5e085d4457182152b1475a6c66a": {
          "model_module": "@jupyter-widgets/controls",
          "model_name": "HTMLModel",
          "model_module_version": "1.5.0",
          "state": {
            "_dom_classes": [],
            "_model_module": "@jupyter-widgets/controls",
            "_model_module_version": "1.5.0",
            "_model_name": "HTMLModel",
            "_view_count": null,
            "_view_module": "@jupyter-widgets/controls",
            "_view_module_version": "1.5.0",
            "_view_name": "HTMLView",
            "description": "",
            "description_tooltip": null,
            "layout": "IPY_MODEL_a2a4e75263a44156a8f8ebf2edd2e71e",
            "placeholder": "​",
            "style": "IPY_MODEL_5d56cdf15fc94b90aada7da3f5a6d3ea",
            "value": " 466k/466k [00:00&lt;00:00, 2.49MB/s]"
          }
        },
        "39234afff0ca45c2bce91cbde9b10b81": {
          "model_module": "@jupyter-widgets/base",
          "model_name": "LayoutModel",
          "model_module_version": "1.2.0",
          "state": {
            "_model_module": "@jupyter-widgets/base",
            "_model_module_version": "1.2.0",
            "_model_name": "LayoutModel",
            "_view_count": null,
            "_view_module": "@jupyter-widgets/base",
            "_view_module_version": "1.2.0",
            "_view_name": "LayoutView",
            "align_content": null,
            "align_items": null,
            "align_self": null,
            "border": null,
            "bottom": null,
            "display": null,
            "flex": null,
            "flex_flow": null,
            "grid_area": null,
            "grid_auto_columns": null,
            "grid_auto_flow": null,
            "grid_auto_rows": null,
            "grid_column": null,
            "grid_gap": null,
            "grid_row": null,
            "grid_template_areas": null,
            "grid_template_columns": null,
            "grid_template_rows": null,
            "height": null,
            "justify_content": null,
            "justify_items": null,
            "left": null,
            "margin": null,
            "max_height": null,
            "max_width": null,
            "min_height": null,
            "min_width": null,
            "object_fit": null,
            "object_position": null,
            "order": null,
            "overflow": null,
            "overflow_x": null,
            "overflow_y": null,
            "padding": null,
            "right": null,
            "top": null,
            "visibility": null,
            "width": null
          }
        },
        "0bb28bf77d38454ca49fc72f7bea84a2": {
          "model_module": "@jupyter-widgets/base",
          "model_name": "LayoutModel",
          "model_module_version": "1.2.0",
          "state": {
            "_model_module": "@jupyter-widgets/base",
            "_model_module_version": "1.2.0",
            "_model_name": "LayoutModel",
            "_view_count": null,
            "_view_module": "@jupyter-widgets/base",
            "_view_module_version": "1.2.0",
            "_view_name": "LayoutView",
            "align_content": null,
            "align_items": null,
            "align_self": null,
            "border": null,
            "bottom": null,
            "display": null,
            "flex": null,
            "flex_flow": null,
            "grid_area": null,
            "grid_auto_columns": null,
            "grid_auto_flow": null,
            "grid_auto_rows": null,
            "grid_column": null,
            "grid_gap": null,
            "grid_row": null,
            "grid_template_areas": null,
            "grid_template_columns": null,
            "grid_template_rows": null,
            "height": null,
            "justify_content": null,
            "justify_items": null,
            "left": null,
            "margin": null,
            "max_height": null,
            "max_width": null,
            "min_height": null,
            "min_width": null,
            "object_fit": null,
            "object_position": null,
            "order": null,
            "overflow": null,
            "overflow_x": null,
            "overflow_y": null,
            "padding": null,
            "right": null,
            "top": null,
            "visibility": null,
            "width": null
          }
        },
        "7cd8b873766d409abadaa67705c60bc5": {
          "model_module": "@jupyter-widgets/controls",
          "model_name": "DescriptionStyleModel",
          "model_module_version": "1.5.0",
          "state": {
            "_model_module": "@jupyter-widgets/controls",
            "_model_module_version": "1.5.0",
            "_model_name": "DescriptionStyleModel",
            "_view_count": null,
            "_view_module": "@jupyter-widgets/base",
            "_view_module_version": "1.2.0",
            "_view_name": "StyleView",
            "description_width": ""
          }
        },
        "52cc0977926442a481b72d84b989d265": {
          "model_module": "@jupyter-widgets/base",
          "model_name": "LayoutModel",
          "model_module_version": "1.2.0",
          "state": {
            "_model_module": "@jupyter-widgets/base",
            "_model_module_version": "1.2.0",
            "_model_name": "LayoutModel",
            "_view_count": null,
            "_view_module": "@jupyter-widgets/base",
            "_view_module_version": "1.2.0",
            "_view_name": "LayoutView",
            "align_content": null,
            "align_items": null,
            "align_self": null,
            "border": null,
            "bottom": null,
            "display": null,
            "flex": null,
            "flex_flow": null,
            "grid_area": null,
            "grid_auto_columns": null,
            "grid_auto_flow": null,
            "grid_auto_rows": null,
            "grid_column": null,
            "grid_gap": null,
            "grid_row": null,
            "grid_template_areas": null,
            "grid_template_columns": null,
            "grid_template_rows": null,
            "height": null,
            "justify_content": null,
            "justify_items": null,
            "left": null,
            "margin": null,
            "max_height": null,
            "max_width": null,
            "min_height": null,
            "min_width": null,
            "object_fit": null,
            "object_position": null,
            "order": null,
            "overflow": null,
            "overflow_x": null,
            "overflow_y": null,
            "padding": null,
            "right": null,
            "top": null,
            "visibility": null,
            "width": null
          }
        },
        "ff58919a845b4bea83e39cb4db6572cb": {
          "model_module": "@jupyter-widgets/controls",
          "model_name": "ProgressStyleModel",
          "model_module_version": "1.5.0",
          "state": {
            "_model_module": "@jupyter-widgets/controls",
            "_model_module_version": "1.5.0",
            "_model_name": "ProgressStyleModel",
            "_view_count": null,
            "_view_module": "@jupyter-widgets/base",
            "_view_module_version": "1.2.0",
            "_view_name": "StyleView",
            "bar_color": null,
            "description_width": ""
          }
        },
        "a2a4e75263a44156a8f8ebf2edd2e71e": {
          "model_module": "@jupyter-widgets/base",
          "model_name": "LayoutModel",
          "model_module_version": "1.2.0",
          "state": {
            "_model_module": "@jupyter-widgets/base",
            "_model_module_version": "1.2.0",
            "_model_name": "LayoutModel",
            "_view_count": null,
            "_view_module": "@jupyter-widgets/base",
            "_view_module_version": "1.2.0",
            "_view_name": "LayoutView",
            "align_content": null,
            "align_items": null,
            "align_self": null,
            "border": null,
            "bottom": null,
            "display": null,
            "flex": null,
            "flex_flow": null,
            "grid_area": null,
            "grid_auto_columns": null,
            "grid_auto_flow": null,
            "grid_auto_rows": null,
            "grid_column": null,
            "grid_gap": null,
            "grid_row": null,
            "grid_template_areas": null,
            "grid_template_columns": null,
            "grid_template_rows": null,
            "height": null,
            "justify_content": null,
            "justify_items": null,
            "left": null,
            "margin": null,
            "max_height": null,
            "max_width": null,
            "min_height": null,
            "min_width": null,
            "object_fit": null,
            "object_position": null,
            "order": null,
            "overflow": null,
            "overflow_x": null,
            "overflow_y": null,
            "padding": null,
            "right": null,
            "top": null,
            "visibility": null,
            "width": null
          }
        },
        "5d56cdf15fc94b90aada7da3f5a6d3ea": {
          "model_module": "@jupyter-widgets/controls",
          "model_name": "DescriptionStyleModel",
          "model_module_version": "1.5.0",
          "state": {
            "_model_module": "@jupyter-widgets/controls",
            "_model_module_version": "1.5.0",
            "_model_name": "DescriptionStyleModel",
            "_view_count": null,
            "_view_module": "@jupyter-widgets/base",
            "_view_module_version": "1.2.0",
            "_view_name": "StyleView",
            "description_width": ""
          }
        },
        "2c457aec25c34af0bdff07ab16afe1d6": {
          "model_module": "@jupyter-widgets/controls",
          "model_name": "HBoxModel",
          "model_module_version": "1.5.0",
          "state": {
            "_dom_classes": [],
            "_model_module": "@jupyter-widgets/controls",
            "_model_module_version": "1.5.0",
            "_model_name": "HBoxModel",
            "_view_count": null,
            "_view_module": "@jupyter-widgets/controls",
            "_view_module_version": "1.5.0",
            "_view_name": "HBoxView",
            "box_style": "",
            "children": [
              "IPY_MODEL_9c1a1a3d511c44ad9f37d67ecd15e807",
              "IPY_MODEL_23679c445d114be1b4225302a345a806",
              "IPY_MODEL_415142d343a5459d827b69834b527d38"
            ],
            "layout": "IPY_MODEL_d08c4677008d424d9f5a9ea8a9012633"
          }
        },
        "9c1a1a3d511c44ad9f37d67ecd15e807": {
          "model_module": "@jupyter-widgets/controls",
          "model_name": "HTMLModel",
          "model_module_version": "1.5.0",
          "state": {
            "_dom_classes": [],
            "_model_module": "@jupyter-widgets/controls",
            "_model_module_version": "1.5.0",
            "_model_name": "HTMLModel",
            "_view_count": null,
            "_view_module": "@jupyter-widgets/controls",
            "_view_module_version": "1.5.0",
            "_view_name": "HTMLView",
            "description": "",
            "description_tooltip": null,
            "layout": "IPY_MODEL_7b56ee48d6c24292805987bac0fd9179",
            "placeholder": "​",
            "style": "IPY_MODEL_43e4f814699b4d15a943295de477b3bd",
            "value": "special_tokens_map.json: 100%"
          }
        },
        "23679c445d114be1b4225302a345a806": {
          "model_module": "@jupyter-widgets/controls",
          "model_name": "FloatProgressModel",
          "model_module_version": "1.5.0",
          "state": {
            "_dom_classes": [],
            "_model_module": "@jupyter-widgets/controls",
            "_model_module_version": "1.5.0",
            "_model_name": "FloatProgressModel",
            "_view_count": null,
            "_view_module": "@jupyter-widgets/controls",
            "_view_module_version": "1.5.0",
            "_view_name": "ProgressView",
            "bar_style": "success",
            "description": "",
            "description_tooltip": null,
            "layout": "IPY_MODEL_b6e9b813899443ddaeb58e6037bcb0e5",
            "max": 239,
            "min": 0,
            "orientation": "horizontal",
            "style": "IPY_MODEL_38c92739bfab488994963a4817a4e3c5",
            "value": 239
          }
        },
        "415142d343a5459d827b69834b527d38": {
          "model_module": "@jupyter-widgets/controls",
          "model_name": "HTMLModel",
          "model_module_version": "1.5.0",
          "state": {
            "_dom_classes": [],
            "_model_module": "@jupyter-widgets/controls",
            "_model_module_version": "1.5.0",
            "_model_name": "HTMLModel",
            "_view_count": null,
            "_view_module": "@jupyter-widgets/controls",
            "_view_module_version": "1.5.0",
            "_view_name": "HTMLView",
            "description": "",
            "description_tooltip": null,
            "layout": "IPY_MODEL_5ff479fa43424476ac13dccf3cba4c14",
            "placeholder": "​",
            "style": "IPY_MODEL_e63ea51f6414418998cf771717975e47",
            "value": " 239/239 [00:00&lt;00:00, 2.72kB/s]"
          }
        },
        "d08c4677008d424d9f5a9ea8a9012633": {
          "model_module": "@jupyter-widgets/base",
          "model_name": "LayoutModel",
          "model_module_version": "1.2.0",
          "state": {
            "_model_module": "@jupyter-widgets/base",
            "_model_module_version": "1.2.0",
            "_model_name": "LayoutModel",
            "_view_count": null,
            "_view_module": "@jupyter-widgets/base",
            "_view_module_version": "1.2.0",
            "_view_name": "LayoutView",
            "align_content": null,
            "align_items": null,
            "align_self": null,
            "border": null,
            "bottom": null,
            "display": null,
            "flex": null,
            "flex_flow": null,
            "grid_area": null,
            "grid_auto_columns": null,
            "grid_auto_flow": null,
            "grid_auto_rows": null,
            "grid_column": null,
            "grid_gap": null,
            "grid_row": null,
            "grid_template_areas": null,
            "grid_template_columns": null,
            "grid_template_rows": null,
            "height": null,
            "justify_content": null,
            "justify_items": null,
            "left": null,
            "margin": null,
            "max_height": null,
            "max_width": null,
            "min_height": null,
            "min_width": null,
            "object_fit": null,
            "object_position": null,
            "order": null,
            "overflow": null,
            "overflow_x": null,
            "overflow_y": null,
            "padding": null,
            "right": null,
            "top": null,
            "visibility": null,
            "width": null
          }
        },
        "7b56ee48d6c24292805987bac0fd9179": {
          "model_module": "@jupyter-widgets/base",
          "model_name": "LayoutModel",
          "model_module_version": "1.2.0",
          "state": {
            "_model_module": "@jupyter-widgets/base",
            "_model_module_version": "1.2.0",
            "_model_name": "LayoutModel",
            "_view_count": null,
            "_view_module": "@jupyter-widgets/base",
            "_view_module_version": "1.2.0",
            "_view_name": "LayoutView",
            "align_content": null,
            "align_items": null,
            "align_self": null,
            "border": null,
            "bottom": null,
            "display": null,
            "flex": null,
            "flex_flow": null,
            "grid_area": null,
            "grid_auto_columns": null,
            "grid_auto_flow": null,
            "grid_auto_rows": null,
            "grid_column": null,
            "grid_gap": null,
            "grid_row": null,
            "grid_template_areas": null,
            "grid_template_columns": null,
            "grid_template_rows": null,
            "height": null,
            "justify_content": null,
            "justify_items": null,
            "left": null,
            "margin": null,
            "max_height": null,
            "max_width": null,
            "min_height": null,
            "min_width": null,
            "object_fit": null,
            "object_position": null,
            "order": null,
            "overflow": null,
            "overflow_x": null,
            "overflow_y": null,
            "padding": null,
            "right": null,
            "top": null,
            "visibility": null,
            "width": null
          }
        },
        "43e4f814699b4d15a943295de477b3bd": {
          "model_module": "@jupyter-widgets/controls",
          "model_name": "DescriptionStyleModel",
          "model_module_version": "1.5.0",
          "state": {
            "_model_module": "@jupyter-widgets/controls",
            "_model_module_version": "1.5.0",
            "_model_name": "DescriptionStyleModel",
            "_view_count": null,
            "_view_module": "@jupyter-widgets/base",
            "_view_module_version": "1.2.0",
            "_view_name": "StyleView",
            "description_width": ""
          }
        },
        "b6e9b813899443ddaeb58e6037bcb0e5": {
          "model_module": "@jupyter-widgets/base",
          "model_name": "LayoutModel",
          "model_module_version": "1.2.0",
          "state": {
            "_model_module": "@jupyter-widgets/base",
            "_model_module_version": "1.2.0",
            "_model_name": "LayoutModel",
            "_view_count": null,
            "_view_module": "@jupyter-widgets/base",
            "_view_module_version": "1.2.0",
            "_view_name": "LayoutView",
            "align_content": null,
            "align_items": null,
            "align_self": null,
            "border": null,
            "bottom": null,
            "display": null,
            "flex": null,
            "flex_flow": null,
            "grid_area": null,
            "grid_auto_columns": null,
            "grid_auto_flow": null,
            "grid_auto_rows": null,
            "grid_column": null,
            "grid_gap": null,
            "grid_row": null,
            "grid_template_areas": null,
            "grid_template_columns": null,
            "grid_template_rows": null,
            "height": null,
            "justify_content": null,
            "justify_items": null,
            "left": null,
            "margin": null,
            "max_height": null,
            "max_width": null,
            "min_height": null,
            "min_width": null,
            "object_fit": null,
            "object_position": null,
            "order": null,
            "overflow": null,
            "overflow_x": null,
            "overflow_y": null,
            "padding": null,
            "right": null,
            "top": null,
            "visibility": null,
            "width": null
          }
        },
        "38c92739bfab488994963a4817a4e3c5": {
          "model_module": "@jupyter-widgets/controls",
          "model_name": "ProgressStyleModel",
          "model_module_version": "1.5.0",
          "state": {
            "_model_module": "@jupyter-widgets/controls",
            "_model_module_version": "1.5.0",
            "_model_name": "ProgressStyleModel",
            "_view_count": null,
            "_view_module": "@jupyter-widgets/base",
            "_view_module_version": "1.2.0",
            "_view_name": "StyleView",
            "bar_color": null,
            "description_width": ""
          }
        },
        "5ff479fa43424476ac13dccf3cba4c14": {
          "model_module": "@jupyter-widgets/base",
          "model_name": "LayoutModel",
          "model_module_version": "1.2.0",
          "state": {
            "_model_module": "@jupyter-widgets/base",
            "_model_module_version": "1.2.0",
            "_model_name": "LayoutModel",
            "_view_count": null,
            "_view_module": "@jupyter-widgets/base",
            "_view_module_version": "1.2.0",
            "_view_name": "LayoutView",
            "align_content": null,
            "align_items": null,
            "align_self": null,
            "border": null,
            "bottom": null,
            "display": null,
            "flex": null,
            "flex_flow": null,
            "grid_area": null,
            "grid_auto_columns": null,
            "grid_auto_flow": null,
            "grid_auto_rows": null,
            "grid_column": null,
            "grid_gap": null,
            "grid_row": null,
            "grid_template_areas": null,
            "grid_template_columns": null,
            "grid_template_rows": null,
            "height": null,
            "justify_content": null,
            "justify_items": null,
            "left": null,
            "margin": null,
            "max_height": null,
            "max_width": null,
            "min_height": null,
            "min_width": null,
            "object_fit": null,
            "object_position": null,
            "order": null,
            "overflow": null,
            "overflow_x": null,
            "overflow_y": null,
            "padding": null,
            "right": null,
            "top": null,
            "visibility": null,
            "width": null
          }
        },
        "e63ea51f6414418998cf771717975e47": {
          "model_module": "@jupyter-widgets/controls",
          "model_name": "DescriptionStyleModel",
          "model_module_version": "1.5.0",
          "state": {
            "_model_module": "@jupyter-widgets/controls",
            "_model_module_version": "1.5.0",
            "_model_name": "DescriptionStyleModel",
            "_view_count": null,
            "_view_module": "@jupyter-widgets/base",
            "_view_module_version": "1.2.0",
            "_view_name": "StyleView",
            "description_width": ""
          }
        },
        "b9946e2957b44ab386bb1c5e0f3ebfd6": {
          "model_module": "@jupyter-widgets/controls",
          "model_name": "HBoxModel",
          "model_module_version": "1.5.0",
          "state": {
            "_dom_classes": [],
            "_model_module": "@jupyter-widgets/controls",
            "_model_module_version": "1.5.0",
            "_model_name": "HBoxModel",
            "_view_count": null,
            "_view_module": "@jupyter-widgets/controls",
            "_view_module_version": "1.5.0",
            "_view_name": "HBoxView",
            "box_style": "",
            "children": [
              "IPY_MODEL_0a7734a0106443a6a7251c022e0430d4",
              "IPY_MODEL_2b3c217b8ff4440085accb9143ae4675",
              "IPY_MODEL_4cdce87d3b3c46cba61b4ad30dc685b2"
            ],
            "layout": "IPY_MODEL_2777f561e76244d886c777902792bdc8"
          }
        },
        "0a7734a0106443a6a7251c022e0430d4": {
          "model_module": "@jupyter-widgets/controls",
          "model_name": "HTMLModel",
          "model_module_version": "1.5.0",
          "state": {
            "_dom_classes": [],
            "_model_module": "@jupyter-widgets/controls",
            "_model_module_version": "1.5.0",
            "_model_name": "HTMLModel",
            "_view_count": null,
            "_view_module": "@jupyter-widgets/controls",
            "_view_module_version": "1.5.0",
            "_view_name": "HTMLView",
            "description": "",
            "description_tooltip": null,
            "layout": "IPY_MODEL_18d52e31c9dd4ee099a15998354fb11b",
            "placeholder": "​",
            "style": "IPY_MODEL_adb7deceaa474e0a9d8b9b0bcf3296a9",
            "value": "config.json: 100%"
          }
        },
        "2b3c217b8ff4440085accb9143ae4675": {
          "model_module": "@jupyter-widgets/controls",
          "model_name": "FloatProgressModel",
          "model_module_version": "1.5.0",
          "state": {
            "_dom_classes": [],
            "_model_module": "@jupyter-widgets/controls",
            "_model_module_version": "1.5.0",
            "_model_name": "FloatProgressModel",
            "_view_count": null,
            "_view_module": "@jupyter-widgets/controls",
            "_view_module_version": "1.5.0",
            "_view_name": "ProgressView",
            "bar_style": "success",
            "description": "",
            "description_tooltip": null,
            "layout": "IPY_MODEL_a79541ed5843453c9a69919470831f6a",
            "max": 571,
            "min": 0,
            "orientation": "horizontal",
            "style": "IPY_MODEL_370b4cb526254882b65073712e69b806",
            "value": 571
          }
        },
        "4cdce87d3b3c46cba61b4ad30dc685b2": {
          "model_module": "@jupyter-widgets/controls",
          "model_name": "HTMLModel",
          "model_module_version": "1.5.0",
          "state": {
            "_dom_classes": [],
            "_model_module": "@jupyter-widgets/controls",
            "_model_module_version": "1.5.0",
            "_model_name": "HTMLModel",
            "_view_count": null,
            "_view_module": "@jupyter-widgets/controls",
            "_view_module_version": "1.5.0",
            "_view_name": "HTMLView",
            "description": "",
            "description_tooltip": null,
            "layout": "IPY_MODEL_6a4b76f3b0104abab38d63c7cb06e252",
            "placeholder": "​",
            "style": "IPY_MODEL_4d4042c27dbc4b2f846c2a19517be38a",
            "value": " 571/571 [00:00&lt;00:00, 7.01kB/s]"
          }
        },
        "2777f561e76244d886c777902792bdc8": {
          "model_module": "@jupyter-widgets/base",
          "model_name": "LayoutModel",
          "model_module_version": "1.2.0",
          "state": {
            "_model_module": "@jupyter-widgets/base",
            "_model_module_version": "1.2.0",
            "_model_name": "LayoutModel",
            "_view_count": null,
            "_view_module": "@jupyter-widgets/base",
            "_view_module_version": "1.2.0",
            "_view_name": "LayoutView",
            "align_content": null,
            "align_items": null,
            "align_self": null,
            "border": null,
            "bottom": null,
            "display": null,
            "flex": null,
            "flex_flow": null,
            "grid_area": null,
            "grid_auto_columns": null,
            "grid_auto_flow": null,
            "grid_auto_rows": null,
            "grid_column": null,
            "grid_gap": null,
            "grid_row": null,
            "grid_template_areas": null,
            "grid_template_columns": null,
            "grid_template_rows": null,
            "height": null,
            "justify_content": null,
            "justify_items": null,
            "left": null,
            "margin": null,
            "max_height": null,
            "max_width": null,
            "min_height": null,
            "min_width": null,
            "object_fit": null,
            "object_position": null,
            "order": null,
            "overflow": null,
            "overflow_x": null,
            "overflow_y": null,
            "padding": null,
            "right": null,
            "top": null,
            "visibility": null,
            "width": null
          }
        },
        "18d52e31c9dd4ee099a15998354fb11b": {
          "model_module": "@jupyter-widgets/base",
          "model_name": "LayoutModel",
          "model_module_version": "1.2.0",
          "state": {
            "_model_module": "@jupyter-widgets/base",
            "_model_module_version": "1.2.0",
            "_model_name": "LayoutModel",
            "_view_count": null,
            "_view_module": "@jupyter-widgets/base",
            "_view_module_version": "1.2.0",
            "_view_name": "LayoutView",
            "align_content": null,
            "align_items": null,
            "align_self": null,
            "border": null,
            "bottom": null,
            "display": null,
            "flex": null,
            "flex_flow": null,
            "grid_area": null,
            "grid_auto_columns": null,
            "grid_auto_flow": null,
            "grid_auto_rows": null,
            "grid_column": null,
            "grid_gap": null,
            "grid_row": null,
            "grid_template_areas": null,
            "grid_template_columns": null,
            "grid_template_rows": null,
            "height": null,
            "justify_content": null,
            "justify_items": null,
            "left": null,
            "margin": null,
            "max_height": null,
            "max_width": null,
            "min_height": null,
            "min_width": null,
            "object_fit": null,
            "object_position": null,
            "order": null,
            "overflow": null,
            "overflow_x": null,
            "overflow_y": null,
            "padding": null,
            "right": null,
            "top": null,
            "visibility": null,
            "width": null
          }
        },
        "adb7deceaa474e0a9d8b9b0bcf3296a9": {
          "model_module": "@jupyter-widgets/controls",
          "model_name": "DescriptionStyleModel",
          "model_module_version": "1.5.0",
          "state": {
            "_model_module": "@jupyter-widgets/controls",
            "_model_module_version": "1.5.0",
            "_model_name": "DescriptionStyleModel",
            "_view_count": null,
            "_view_module": "@jupyter-widgets/base",
            "_view_module_version": "1.2.0",
            "_view_name": "StyleView",
            "description_width": ""
          }
        },
        "a79541ed5843453c9a69919470831f6a": {
          "model_module": "@jupyter-widgets/base",
          "model_name": "LayoutModel",
          "model_module_version": "1.2.0",
          "state": {
            "_model_module": "@jupyter-widgets/base",
            "_model_module_version": "1.2.0",
            "_model_name": "LayoutModel",
            "_view_count": null,
            "_view_module": "@jupyter-widgets/base",
            "_view_module_version": "1.2.0",
            "_view_name": "LayoutView",
            "align_content": null,
            "align_items": null,
            "align_self": null,
            "border": null,
            "bottom": null,
            "display": null,
            "flex": null,
            "flex_flow": null,
            "grid_area": null,
            "grid_auto_columns": null,
            "grid_auto_flow": null,
            "grid_auto_rows": null,
            "grid_column": null,
            "grid_gap": null,
            "grid_row": null,
            "grid_template_areas": null,
            "grid_template_columns": null,
            "grid_template_rows": null,
            "height": null,
            "justify_content": null,
            "justify_items": null,
            "left": null,
            "margin": null,
            "max_height": null,
            "max_width": null,
            "min_height": null,
            "min_width": null,
            "object_fit": null,
            "object_position": null,
            "order": null,
            "overflow": null,
            "overflow_x": null,
            "overflow_y": null,
            "padding": null,
            "right": null,
            "top": null,
            "visibility": null,
            "width": null
          }
        },
        "370b4cb526254882b65073712e69b806": {
          "model_module": "@jupyter-widgets/controls",
          "model_name": "ProgressStyleModel",
          "model_module_version": "1.5.0",
          "state": {
            "_model_module": "@jupyter-widgets/controls",
            "_model_module_version": "1.5.0",
            "_model_name": "ProgressStyleModel",
            "_view_count": null,
            "_view_module": "@jupyter-widgets/base",
            "_view_module_version": "1.2.0",
            "_view_name": "StyleView",
            "bar_color": null,
            "description_width": ""
          }
        },
        "6a4b76f3b0104abab38d63c7cb06e252": {
          "model_module": "@jupyter-widgets/base",
          "model_name": "LayoutModel",
          "model_module_version": "1.2.0",
          "state": {
            "_model_module": "@jupyter-widgets/base",
            "_model_module_version": "1.2.0",
            "_model_name": "LayoutModel",
            "_view_count": null,
            "_view_module": "@jupyter-widgets/base",
            "_view_module_version": "1.2.0",
            "_view_name": "LayoutView",
            "align_content": null,
            "align_items": null,
            "align_self": null,
            "border": null,
            "bottom": null,
            "display": null,
            "flex": null,
            "flex_flow": null,
            "grid_area": null,
            "grid_auto_columns": null,
            "grid_auto_flow": null,
            "grid_auto_rows": null,
            "grid_column": null,
            "grid_gap": null,
            "grid_row": null,
            "grid_template_areas": null,
            "grid_template_columns": null,
            "grid_template_rows": null,
            "height": null,
            "justify_content": null,
            "justify_items": null,
            "left": null,
            "margin": null,
            "max_height": null,
            "max_width": null,
            "min_height": null,
            "min_width": null,
            "object_fit": null,
            "object_position": null,
            "order": null,
            "overflow": null,
            "overflow_x": null,
            "overflow_y": null,
            "padding": null,
            "right": null,
            "top": null,
            "visibility": null,
            "width": null
          }
        },
        "4d4042c27dbc4b2f846c2a19517be38a": {
          "model_module": "@jupyter-widgets/controls",
          "model_name": "DescriptionStyleModel",
          "model_module_version": "1.5.0",
          "state": {
            "_model_module": "@jupyter-widgets/controls",
            "_model_module_version": "1.5.0",
            "_model_name": "DescriptionStyleModel",
            "_view_count": null,
            "_view_module": "@jupyter-widgets/base",
            "_view_module_version": "1.2.0",
            "_view_name": "StyleView",
            "description_width": ""
          }
        },
        "84c1b51207c743e58c60696614e1c6a6": {
          "model_module": "@jupyter-widgets/controls",
          "model_name": "HBoxModel",
          "model_module_version": "1.5.0",
          "state": {
            "_dom_classes": [],
            "_model_module": "@jupyter-widgets/controls",
            "_model_module_version": "1.5.0",
            "_model_name": "HBoxModel",
            "_view_count": null,
            "_view_module": "@jupyter-widgets/controls",
            "_view_module_version": "1.5.0",
            "_view_name": "HBoxView",
            "box_style": "",
            "children": [
              "IPY_MODEL_23e1d9ce313e45abb944784e260c65a3",
              "IPY_MODEL_7adff0a2901345cca9abf128f08251f6",
              "IPY_MODEL_11d52e2f5f244250bc68b7182f1b9fce"
            ],
            "layout": "IPY_MODEL_d1db4b928abd4b6abca27d4ba3773ad6"
          }
        },
        "23e1d9ce313e45abb944784e260c65a3": {
          "model_module": "@jupyter-widgets/controls",
          "model_name": "HTMLModel",
          "model_module_version": "1.5.0",
          "state": {
            "_dom_classes": [],
            "_model_module": "@jupyter-widgets/controls",
            "_model_module_version": "1.5.0",
            "_model_name": "HTMLModel",
            "_view_count": null,
            "_view_module": "@jupyter-widgets/controls",
            "_view_module_version": "1.5.0",
            "_view_name": "HTMLView",
            "description": "",
            "description_tooltip": null,
            "layout": "IPY_MODEL_cb2f82c6ae8a4d649f6b2fe1ca8cd91c",
            "placeholder": "​",
            "style": "IPY_MODEL_d248f0cdc0e8488296ba46be39c26b04",
            "value": "model.safetensors: 100%"
          }
        },
        "7adff0a2901345cca9abf128f08251f6": {
          "model_module": "@jupyter-widgets/controls",
          "model_name": "FloatProgressModel",
          "model_module_version": "1.5.0",
          "state": {
            "_dom_classes": [],
            "_model_module": "@jupyter-widgets/controls",
            "_model_module_version": "1.5.0",
            "_model_name": "FloatProgressModel",
            "_view_count": null,
            "_view_module": "@jupyter-widgets/controls",
            "_view_module_version": "1.5.0",
            "_view_name": "ProgressView",
            "bar_style": "success",
            "description": "",
            "description_tooltip": null,
            "layout": "IPY_MODEL_7198089fe0a64aa39c32bed0b7a35ad1",
            "max": 437971872,
            "min": 0,
            "orientation": "horizontal",
            "style": "IPY_MODEL_7a4a48016efc4bffab08b9cd0c573a56",
            "value": 437971872
          }
        },
        "11d52e2f5f244250bc68b7182f1b9fce": {
          "model_module": "@jupyter-widgets/controls",
          "model_name": "HTMLModel",
          "model_module_version": "1.5.0",
          "state": {
            "_dom_classes": [],
            "_model_module": "@jupyter-widgets/controls",
            "_model_module_version": "1.5.0",
            "_model_name": "HTMLModel",
            "_view_count": null,
            "_view_module": "@jupyter-widgets/controls",
            "_view_module_version": "1.5.0",
            "_view_name": "HTMLView",
            "description": "",
            "description_tooltip": null,
            "layout": "IPY_MODEL_62a0c5accbae455685fbbb45e0f78469",
            "placeholder": "​",
            "style": "IPY_MODEL_ddcd9480e7a844a59ac9a263b9fd4ca1",
            "value": " 438M/438M [00:04&lt;00:00, 94.0MB/s]"
          }
        },
        "d1db4b928abd4b6abca27d4ba3773ad6": {
          "model_module": "@jupyter-widgets/base",
          "model_name": "LayoutModel",
          "model_module_version": "1.2.0",
          "state": {
            "_model_module": "@jupyter-widgets/base",
            "_model_module_version": "1.2.0",
            "_model_name": "LayoutModel",
            "_view_count": null,
            "_view_module": "@jupyter-widgets/base",
            "_view_module_version": "1.2.0",
            "_view_name": "LayoutView",
            "align_content": null,
            "align_items": null,
            "align_self": null,
            "border": null,
            "bottom": null,
            "display": null,
            "flex": null,
            "flex_flow": null,
            "grid_area": null,
            "grid_auto_columns": null,
            "grid_auto_flow": null,
            "grid_auto_rows": null,
            "grid_column": null,
            "grid_gap": null,
            "grid_row": null,
            "grid_template_areas": null,
            "grid_template_columns": null,
            "grid_template_rows": null,
            "height": null,
            "justify_content": null,
            "justify_items": null,
            "left": null,
            "margin": null,
            "max_height": null,
            "max_width": null,
            "min_height": null,
            "min_width": null,
            "object_fit": null,
            "object_position": null,
            "order": null,
            "overflow": null,
            "overflow_x": null,
            "overflow_y": null,
            "padding": null,
            "right": null,
            "top": null,
            "visibility": null,
            "width": null
          }
        },
        "cb2f82c6ae8a4d649f6b2fe1ca8cd91c": {
          "model_module": "@jupyter-widgets/base",
          "model_name": "LayoutModel",
          "model_module_version": "1.2.0",
          "state": {
            "_model_module": "@jupyter-widgets/base",
            "_model_module_version": "1.2.0",
            "_model_name": "LayoutModel",
            "_view_count": null,
            "_view_module": "@jupyter-widgets/base",
            "_view_module_version": "1.2.0",
            "_view_name": "LayoutView",
            "align_content": null,
            "align_items": null,
            "align_self": null,
            "border": null,
            "bottom": null,
            "display": null,
            "flex": null,
            "flex_flow": null,
            "grid_area": null,
            "grid_auto_columns": null,
            "grid_auto_flow": null,
            "grid_auto_rows": null,
            "grid_column": null,
            "grid_gap": null,
            "grid_row": null,
            "grid_template_areas": null,
            "grid_template_columns": null,
            "grid_template_rows": null,
            "height": null,
            "justify_content": null,
            "justify_items": null,
            "left": null,
            "margin": null,
            "max_height": null,
            "max_width": null,
            "min_height": null,
            "min_width": null,
            "object_fit": null,
            "object_position": null,
            "order": null,
            "overflow": null,
            "overflow_x": null,
            "overflow_y": null,
            "padding": null,
            "right": null,
            "top": null,
            "visibility": null,
            "width": null
          }
        },
        "d248f0cdc0e8488296ba46be39c26b04": {
          "model_module": "@jupyter-widgets/controls",
          "model_name": "DescriptionStyleModel",
          "model_module_version": "1.5.0",
          "state": {
            "_model_module": "@jupyter-widgets/controls",
            "_model_module_version": "1.5.0",
            "_model_name": "DescriptionStyleModel",
            "_view_count": null,
            "_view_module": "@jupyter-widgets/base",
            "_view_module_version": "1.2.0",
            "_view_name": "StyleView",
            "description_width": ""
          }
        },
        "7198089fe0a64aa39c32bed0b7a35ad1": {
          "model_module": "@jupyter-widgets/base",
          "model_name": "LayoutModel",
          "model_module_version": "1.2.0",
          "state": {
            "_model_module": "@jupyter-widgets/base",
            "_model_module_version": "1.2.0",
            "_model_name": "LayoutModel",
            "_view_count": null,
            "_view_module": "@jupyter-widgets/base",
            "_view_module_version": "1.2.0",
            "_view_name": "LayoutView",
            "align_content": null,
            "align_items": null,
            "align_self": null,
            "border": null,
            "bottom": null,
            "display": null,
            "flex": null,
            "flex_flow": null,
            "grid_area": null,
            "grid_auto_columns": null,
            "grid_auto_flow": null,
            "grid_auto_rows": null,
            "grid_column": null,
            "grid_gap": null,
            "grid_row": null,
            "grid_template_areas": null,
            "grid_template_columns": null,
            "grid_template_rows": null,
            "height": null,
            "justify_content": null,
            "justify_items": null,
            "left": null,
            "margin": null,
            "max_height": null,
            "max_width": null,
            "min_height": null,
            "min_width": null,
            "object_fit": null,
            "object_position": null,
            "order": null,
            "overflow": null,
            "overflow_x": null,
            "overflow_y": null,
            "padding": null,
            "right": null,
            "top": null,
            "visibility": null,
            "width": null
          }
        },
        "7a4a48016efc4bffab08b9cd0c573a56": {
          "model_module": "@jupyter-widgets/controls",
          "model_name": "ProgressStyleModel",
          "model_module_version": "1.5.0",
          "state": {
            "_model_module": "@jupyter-widgets/controls",
            "_model_module_version": "1.5.0",
            "_model_name": "ProgressStyleModel",
            "_view_count": null,
            "_view_module": "@jupyter-widgets/base",
            "_view_module_version": "1.2.0",
            "_view_name": "StyleView",
            "bar_color": null,
            "description_width": ""
          }
        },
        "62a0c5accbae455685fbbb45e0f78469": {
          "model_module": "@jupyter-widgets/base",
          "model_name": "LayoutModel",
          "model_module_version": "1.2.0",
          "state": {
            "_model_module": "@jupyter-widgets/base",
            "_model_module_version": "1.2.0",
            "_model_name": "LayoutModel",
            "_view_count": null,
            "_view_module": "@jupyter-widgets/base",
            "_view_module_version": "1.2.0",
            "_view_name": "LayoutView",
            "align_content": null,
            "align_items": null,
            "align_self": null,
            "border": null,
            "bottom": null,
            "display": null,
            "flex": null,
            "flex_flow": null,
            "grid_area": null,
            "grid_auto_columns": null,
            "grid_auto_flow": null,
            "grid_auto_rows": null,
            "grid_column": null,
            "grid_gap": null,
            "grid_row": null,
            "grid_template_areas": null,
            "grid_template_columns": null,
            "grid_template_rows": null,
            "height": null,
            "justify_content": null,
            "justify_items": null,
            "left": null,
            "margin": null,
            "max_height": null,
            "max_width": null,
            "min_height": null,
            "min_width": null,
            "object_fit": null,
            "object_position": null,
            "order": null,
            "overflow": null,
            "overflow_x": null,
            "overflow_y": null,
            "padding": null,
            "right": null,
            "top": null,
            "visibility": null,
            "width": null
          }
        },
        "ddcd9480e7a844a59ac9a263b9fd4ca1": {
          "model_module": "@jupyter-widgets/controls",
          "model_name": "DescriptionStyleModel",
          "model_module_version": "1.5.0",
          "state": {
            "_model_module": "@jupyter-widgets/controls",
            "_model_module_version": "1.5.0",
            "_model_name": "DescriptionStyleModel",
            "_view_count": null,
            "_view_module": "@jupyter-widgets/base",
            "_view_module_version": "1.2.0",
            "_view_name": "StyleView",
            "description_width": ""
          }
        }
      }
    }
  },
  "nbformat": 4,
  "nbformat_minor": 0
}